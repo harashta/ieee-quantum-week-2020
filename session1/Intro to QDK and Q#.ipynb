{
 "cells": [
  {
   "cell_type": "markdown",
   "metadata": {},
   "source": [
    "# Session 1<br>Introduction to Q# and the Quantum Development Kit\n",
    "Dr Chris Granade<br>\n",
    "Senior Research Software Development Engineer<br>\n",
    "Microsoft\n",
    "\n",
    "---\n",
    "\n",
    "Follow along online at [aka.ms/ieee-quantum-2020/session1](https://aka.ms/ieee-quantum-2020/session1)."
   ]
  },
  {
   "cell_type": "markdown",
   "metadata": {
    "slideshow": {
     "slide_type": "slide"
    }
   },
   "source": [
    "# Agenda\n",
    "\n",
    "- What is Q#?\n",
    "- Functions and operations\n",
    "- Magic commands\n",
    "- Types in Q#\n",
    "- Control flow\n",
    "- Diagnosing Q# programs\n",
    "- Putting it all together"
   ]
  },
  {
   "cell_type": "markdown",
   "metadata": {
    "slideshow": {
     "slide_type": "slide"
    }
   },
   "source": [
    "# What is Q#?"
   ]
  },
  {
   "cell_type": "markdown",
   "metadata": {},
   "source": [
    "Let's start with an example."
   ]
  },
  {
   "cell_type": "code",
   "execution_count": 1,
   "metadata": {},
   "outputs": [
    {
     "data": {
      "application/json": "[\"DemonstrateTeleportation\"]",
      "text/html": [
       "<ul><li>DemonstrateTeleportation</li></ul>"
      ],
      "text/plain": [
       "DemonstrateTeleportation"
      ]
     },
     "execution_count": 1,
     "metadata": {},
     "output_type": "execute_result"
    }
   ],
   "source": [
    "operation DemonstrateTeleportation() : Result {\n",
    "    using ((msg, here, there) = (Qubit(), Qubit(), Qubit())) {\n",
    "        Ry(1.23, msg);\n",
    "        \n",
    "        H(here);\n",
    "        CNOT(here, there);\n",
    "        \n",
    "        CNOT(msg, here);\n",
    "        H(msg);\n",
    "        \n",
    "        let xCorrection = M(here);\n",
    "        let zCorrection = M(msg);\n",
    "        \n",
    "        if (xCorrection == One) { X(there); }\n",
    "        if (zCorrection == One) { Z(there); }\n",
    "        \n",
    "        Ry(-1.23, there);\n",
    "        \n",
    "        return M(there);\n",
    "    }\n",
    "}"
   ]
  },
  {
   "cell_type": "code",
   "execution_count": 7,
   "metadata": {
    "slideshow": {
     "slide_type": "slide"
    }
   },
   "outputs": [
    {
     "data": {
      "application/json": "0",
      "text/plain": [
       "Zero"
      ]
     },
     "execution_count": 7,
     "metadata": {},
     "output_type": "execute_result"
    }
   ],
   "source": [
    "%simulate DemonstrateTeleportation"
   ]
  },
  {
   "cell_type": "code",
   "execution_count": 15,
   "metadata": {},
   "outputs": [
    {
     "data": {
      "application/json": "{\"Html\":\"<div id='execution-path-container-eb1ce5ec-e10c-45ba-ace6-fb04dff13554' />\"}",
      "text/html": [
       "<div id='execution-path-container-eb1ce5ec-e10c-45ba-ace6-fb04dff13554' />"
      ],
      "text/plain": [
       "Microsoft.Quantum.IQSharp.Jupyter.DisplayableHtmlElement"
      ]
     },
     "metadata": {},
     "output_type": "display_data"
    }
   ],
   "source": [
    "%trace DemonstrateTeleportation"
   ]
  },
  {
   "cell_type": "markdown",
   "metadata": {
    "slideshow": {
     "slide_type": "slide"
    }
   },
   "source": [
    "We can make this more modular by extracting the actual teleportation step."
   ]
  },
  {
   "cell_type": "code",
   "execution_count": 16,
   "metadata": {
    "slideshow": {
     "slide_type": "-"
    }
   },
   "outputs": [
    {
     "data": {
      "application/json": "[\"TeleportMessage\"]",
      "text/html": [
       "<ul><li>TeleportMessage</li></ul>"
      ],
      "text/plain": [
       "TeleportMessage"
      ]
     },
     "execution_count": 16,
     "metadata": {},
     "output_type": "execute_result"
    }
   ],
   "source": [
    "operation TeleportMessage(msg : Qubit, there : Qubit) : Unit {\n",
    "    using (here = Qubit()) {        \n",
    "        H(here);\n",
    "        CNOT(here, there);\n",
    "        \n",
    "        CNOT(msg, here);\n",
    "        H(msg);\n",
    "        \n",
    "        if (M(here) == One) { X(there); }\n",
    "        if (M(msg) == One)  { Z(there); }\n",
    "    }\n",
    "}"
   ]
  },
  {
   "cell_type": "code",
   "execution_count": 17,
   "metadata": {},
   "outputs": [
    {
     "data": {
      "application/json": "[\"DemonstrateTeleportation\"]",
      "text/html": [
       "<ul><li>DemonstrateTeleportation</li></ul>"
      ],
      "text/plain": [
       "DemonstrateTeleportation"
      ]
     },
     "execution_count": 17,
     "metadata": {},
     "output_type": "execute_result"
    }
   ],
   "source": [
    "operation DemonstrateTeleportation() : Result {\n",
    "    using ((msg, there) = (Qubit(), Qubit())) {\n",
    "        Ry(1.23, msg);        \n",
    "        TeleportMessage(msg, there);        \n",
    "        Ry(-1.23, there);\n",
    "        \n",
    "        return M(there);\n",
    "    }\n",
    "}"
   ]
  },
  {
   "cell_type": "code",
   "execution_count": 22,
   "metadata": {
    "slideshow": {
     "slide_type": "slide"
    }
   },
   "outputs": [
    {
     "data": {
      "application/json": "0",
      "text/plain": [
       "Zero"
      ]
     },
     "execution_count": 22,
     "metadata": {},
     "output_type": "execute_result"
    }
   ],
   "source": [
    "%simulate DemonstrateTeleportation"
   ]
  },
  {
   "cell_type": "code",
   "execution_count": 23,
   "metadata": {},
   "outputs": [
    {
     "data": {
      "application/json": "{\"Html\":\"<div id='execution-path-container-7b206157-db6a-4977-83e7-c35fa1c5c881' />\"}",
      "text/html": [
       "<div id='execution-path-container-7b206157-db6a-4977-83e7-c35fa1c5c881' />"
      ],
      "text/plain": [
       "Microsoft.Quantum.IQSharp.Jupyter.DisplayableHtmlElement"
      ]
     },
     "metadata": {},
     "output_type": "display_data"
    }
   ],
   "source": [
    "%trace DemonstrateTeleportation"
   ]
  },
  {
   "cell_type": "code",
   "execution_count": 38,
   "metadata": {},
   "outputs": [
    {
     "data": {
      "application/json": "{\"Html\":\"<div id='execution-path-container-d7ddf0bd-6755-49c7-9216-a4e2c8c29db3' />\"}",
      "text/html": [
       "<div id='execution-path-container-d7ddf0bd-6755-49c7-9216-a4e2c8c29db3' />"
      ],
      "text/plain": [
       "Microsoft.Quantum.IQSharp.Jupyter.DisplayableHtmlElement"
      ]
     },
     "metadata": {},
     "output_type": "display_data"
    }
   ],
   "source": [
    "%trace DemonstrateTeleportation --depth=2"
   ]
  },
  {
   "cell_type": "markdown",
   "metadata": {
    "slideshow": {
     "slide_type": "slide"
    }
   },
   "source": [
    "We can make our teleportation program even more modular."
   ]
  },
  {
   "cell_type": "code",
   "execution_count": 39,
   "metadata": {
    "slideshow": {
     "slide_type": "-"
    }
   },
   "outputs": [
    {
     "data": {
      "application/json": "[\"PrepareEntangledPair\"]",
      "text/html": [
       "<ul><li>PrepareEntangledPair</li></ul>"
      ],
      "text/plain": [
       "PrepareEntangledPair"
      ]
     },
     "execution_count": 39,
     "metadata": {},
     "output_type": "execute_result"
    }
   ],
   "source": [
    "operation PrepareEntangledPair(left : Qubit, right : Qubit) : Unit is Adj + Ctl {\n",
    "    H(left);\n",
    "    CNOT(left, right);\n",
    "}"
   ]
  },
  {
   "cell_type": "code",
   "execution_count": 40,
   "metadata": {},
   "outputs": [
    {
     "data": {
      "application/json": "[\"TeleportMessage\"]",
      "text/html": [
       "<ul><li>TeleportMessage</li></ul>"
      ],
      "text/plain": [
       "TeleportMessage"
      ]
     },
     "execution_count": 40,
     "metadata": {},
     "output_type": "execute_result"
    }
   ],
   "source": [
    "operation TeleportMessage(msg : Qubit, there : Qubit) : Unit {\n",
    "    using (here = Qubit()) {        \n",
    "        PrepareEntangledPair(here, there);\n",
    "        Adjoint PrepareEntangledPair(msg, here);\n",
    "        \n",
    "        ApplyIfOne(M(here), (X, there));\n",
    "        ApplyIfOne(M(msg),  (Z, there));\n",
    "    }\n",
    "}"
   ]
  },
  {
   "cell_type": "code",
   "execution_count": 41,
   "metadata": {},
   "outputs": [
    {
     "data": {
      "application/json": "0",
      "text/plain": [
       "Zero"
      ]
     },
     "execution_count": 41,
     "metadata": {},
     "output_type": "execute_result"
    }
   ],
   "source": [
    "%simulate DemonstrateTeleportation"
   ]
  },
  {
   "cell_type": "code",
   "execution_count": 43,
   "metadata": {},
   "outputs": [
    {
     "data": {
      "application/json": "{\"Html\":\"<div id='execution-path-container-57d4c366-eccb-4f37-b827-67487bc13840' />\"}",
      "text/html": [
       "<div id='execution-path-container-57d4c366-eccb-4f37-b827-67487bc13840' />"
      ],
      "text/plain": [
       "Microsoft.Quantum.IQSharp.Jupyter.DisplayableHtmlElement"
      ]
     },
     "metadata": {},
     "output_type": "display_data"
    }
   ],
   "source": [
    "%trace DemonstrateTeleportation --depth=2"
   ]
  },
  {
   "cell_type": "code",
   "execution_count": 44,
   "metadata": {
    "slideshow": {
     "slide_type": "slide"
    }
   },
   "outputs": [
    {
     "data": {
      "application/json": "[\"TeleportPreparedState\"]",
      "text/html": [
       "<ul><li>TeleportPreparedState</li></ul>"
      ],
      "text/plain": [
       "TeleportPreparedState"
      ]
     },
     "execution_count": 44,
     "metadata": {},
     "output_type": "execute_result"
    }
   ],
   "source": [
    "open Microsoft.Quantum.Diagnostics;\n",
    "\n",
    "operation TeleportPreparedState(preparation : (Qubit => Unit is Adj + Ctl)) : Unit {\n",
    "    using ((msg, there) = (Qubit(), Qubit())) {\n",
    "        preparation(msg);        \n",
    "        TeleportMessage(msg, there);        \n",
    "        Adjoint preparation(there);\n",
    "        \n",
    "        AssertQubit(Zero, there);\n",
    "    }\n",
    "}"
   ]
  },
  {
   "cell_type": "code",
   "execution_count": 45,
   "metadata": {
    "slideshow": {
     "slide_type": "-"
    }
   },
   "outputs": [
    {
     "data": {
      "application/json": "[\"DemonstrateTeleportation\"]",
      "text/html": [
       "<ul><li>DemonstrateTeleportation</li></ul>"
      ],
      "text/plain": [
       "DemonstrateTeleportation"
      ]
     },
     "execution_count": 45,
     "metadata": {},
     "output_type": "execute_result"
    }
   ],
   "source": [
    "operation DemonstrateTeleportation() : Unit {\n",
    "    TeleportPreparedState(Ry(1.23, _));\n",
    "}"
   ]
  },
  {
   "cell_type": "code",
   "execution_count": 46,
   "metadata": {},
   "outputs": [
    {
     "data": {
      "application/json": "{\"@type\":\"tuple\"}",
      "text/plain": [
       "()"
      ]
     },
     "execution_count": 46,
     "metadata": {},
     "output_type": "execute_result"
    }
   ],
   "source": [
    "%simulate DemonstrateTeleportation"
   ]
  },
  {
   "cell_type": "code",
   "execution_count": 47,
   "metadata": {
    "slideshow": {
     "slide_type": "slide"
    }
   },
   "outputs": [
    {
     "data": {
      "application/json": "[\"DemonstrateEntanglementSwapping\"]",
      "text/html": [
       "<ul><li>DemonstrateEntanglementSwapping</li></ul>"
      ],
      "text/plain": [
       "DemonstrateEntanglementSwapping"
      ]
     },
     "execution_count": 47,
     "metadata": {},
     "output_type": "execute_result"
    }
   ],
   "source": [
    "operation DemonstrateEntanglementSwapping() : Unit {\n",
    "    using (reference = Qubit()) {\n",
    "        TeleportPreparedState(PrepareEntangledPair(reference, _));\n",
    "    }\n",
    "}"
   ]
  },
  {
   "cell_type": "code",
   "execution_count": 48,
   "metadata": {},
   "outputs": [
    {
     "data": {
      "application/json": "{\"@type\":\"tuple\"}",
      "text/plain": [
       "()"
      ]
     },
     "execution_count": 48,
     "metadata": {},
     "output_type": "execute_result"
    }
   ],
   "source": [
    "%simulate DemonstrateEntanglementSwapping"
   ]
  },
  {
   "cell_type": "markdown",
   "metadata": {
    "slideshow": {
     "slide_type": "slide"
    }
   },
   "source": [
    "# What is Q#?"
   ]
  },
  {
   "cell_type": "markdown",
   "metadata": {},
   "source": [
    "> Quantum programs are **classical programs** that can send instructions to and get measurement results back from simulators and quantum devices.\n",
    "\n",
    "From that view, Q# is a classical language designed to make it easier to write, test, and run quantum programs:\n",
    "\n",
    "- High-level\n",
    "- Focused on algorithms\n",
    "- Portable across simulators and hardware\n",
    "- Quantum-focused features\n",
    "- Diagnostics to help test and understand"
   ]
  },
  {
   "cell_type": "markdown",
   "metadata": {
    "slideshow": {
     "slide_type": "slide"
    }
   },
   "source": [
    "## Use your tools with Q# ##\n",
    "\n",
    "![](./use-qsharp-with.png)\n",
    "\n",
    "---\n",
    "\n",
    "For this demo, we'll use Q# from within Jupyter.\n",
    "\n",
    "```\n",
    "$ conda install -c quantum-engineering qsharp\n",
    "```\n",
    "\n",
    "Get started using Q# with your tools at [aka.ms/get-started-qdk](https://aka.ms/get-started-qdk)."
   ]
  },
  {
   "cell_type": "markdown",
   "metadata": {
    "slideshow": {
     "slide_type": "slide"
    }
   },
   "source": [
    "Let's take a look at the various features of Q#, and how they help us focus back on quantum algorithms."
   ]
  },
  {
   "cell_type": "markdown",
   "metadata": {
    "slideshow": {
     "slide_type": "slide"
    }
   },
   "source": [
    "## Functions and Operations"
   ]
  },
  {
   "cell_type": "markdown",
   "metadata": {},
   "source": [
    "Q# programs are broken down into two kinds of subroutines:\n",
    "\n",
    "- **Functions** represent determinstic classical logic <br/>\n",
    "  e.g.: `Sin`, `Sqrt`"
   ]
  },
  {
   "cell_type": "code",
   "execution_count": 49,
   "metadata": {
    "slideshow": {
     "slide_type": "-"
    }
   },
   "outputs": [
    {
     "data": {
      "application/json": "[\"Squared\"]",
      "text/html": [
       "<ul><li>Squared</li></ul>"
      ],
      "text/plain": [
       "Squared"
      ]
     },
     "execution_count": 49,
     "metadata": {},
     "output_type": "execute_result"
    }
   ],
   "source": [
    "function Squared(x : Double) : Double {\n",
    "    return x * x;\n",
    "}"
   ]
  },
  {
   "cell_type": "code",
   "execution_count": 57,
   "metadata": {},
   "outputs": [
    {
     "data": {
      "application/json": "9.8596",
      "text/plain": [
       "9.8596"
      ]
     },
     "execution_count": 57,
     "metadata": {},
     "output_type": "execute_result"
    }
   ],
   "source": [
    "%simulate Squared x=3.14"
   ]
  },
  {
   "cell_type": "markdown",
   "metadata": {
    "slideshow": {
     "slide_type": "slide"
    }
   },
   "source": [
    "- **Operations** represent subroutines that can take some action, such as sending instructions to a quantum device <br/>\n",
    "  e.g.: `H`, `M`, `CNOT`"
   ]
  },
  {
   "cell_type": "code",
   "execution_count": 58,
   "metadata": {
    "slideshow": {
     "slide_type": "-"
    }
   },
   "outputs": [
    {
     "data": {
      "application/json": "[\"SampleQrng\"]",
      "text/html": [
       "<ul><li>SampleQrng</li></ul>"
      ],
      "text/plain": [
       "SampleQrng"
      ]
     },
     "execution_count": 58,
     "metadata": {},
     "output_type": "execute_result"
    }
   ],
   "source": [
    "operation SampleQrng() : Result {\n",
    "    using (q = Qubit()) {\n",
    "        return Measure([PauliX], [q]);\n",
    "    }\n",
    "}"
   ]
  },
  {
   "cell_type": "code",
   "execution_count": 65,
   "metadata": {},
   "outputs": [
    {
     "data": {
      "application/json": "0",
      "text/plain": [
       "Zero"
      ]
     },
     "execution_count": 65,
     "metadata": {},
     "output_type": "execute_result"
    }
   ],
   "source": [
    "%simulate SampleQrng"
   ]
  },
  {
   "cell_type": "markdown",
   "metadata": {
    "slideshow": {
     "slide_type": "slide"
    }
   },
   "source": [
    "## Magic Commands for Q# ##"
   ]
  },
  {
   "cell_type": "markdown",
   "metadata": {},
   "source": [
    "When working with Q# from a Jupyter Notebook, commands starting with `%` can be used to control the Q# session itself."
   ]
  },
  {
   "cell_type": "code",
   "execution_count": 66,
   "metadata": {},
   "outputs": [
    {
     "data": {
      "application/json": "[{\"Name\":\"%azure.connect\",\"Documentation\":{\"Summary\":\"Connects to an Azure Quantum workspace or displays current connection status.\",\"Full\":null,\"Description\":\"\\r\\nThis magic command allows for connecting to an Azure Quantum workspace\\r\\nas specified by the resource ID of the workspace or by a combination of\\r\\nsubscription ID, resource group name, and workspace name.\\r\\n\\r\\nIf the connection is successful, a list of the available Q# execution targets\\r\\nin the Azure Quantum workspace will be displayed.\\r\\n\\r\\n#### Required parameters\\r\\n\\r\\nThe Azure Quantum workspace can be identified by resource ID:\\r\\n\\r\\n- `resourceId=<string>`: The resource ID of the Azure Quantum workspace.\\r\\nThis can be obtained from the workspace page in the Azure portal. The `resourceId=` prefix\\r\\nis optional for this parameter, as long as the resource ID is valid.\\r\\n\\r\\nAlternatively, it can be identified by subscription ID, resource group name, and workspace name:\\r\\n\\r\\n- `subscription=<string>`: The Azure subscription ID for the Azure Quantum workspace.\\r\\n- `resourceGroup=<string>`: The Azure resource group name for the Azure Quantum workspace.\\r\\n- `workspace=<string>`: The name of the Azure Quantum workspace.\\r\\n\\r\\n#### Optional parameters\\r\\n\\r\\n- `refresh`: Bypasses any saved or cached credentials when connecting to Azure.\\r\\n- `storage=<string>`: The connection string to the Azure storage\\r\\naccount. Required if the specified Azure Quantum workspace was not linked to a storage\\r\\naccount at workspace creation time.\\r\\n\\r\\n#### Possible errors\\r\\n\\r\\n- `WorkspaceNotFound`: No Azure Quantum workspace was found that matches the specified criteria.\\r\\n- `AuthenticationFailed`: Failed to authenticate to the specified Azure Quantum workspace.\\r\\n                    \",\"Remarks\":null,\"Examples\":[\"\\r\\nConnect to an Azure Quantum workspace using its resource ID:\\r\\n```\\r\\nIn []: %azure.connect \\\"/subscriptions/.../Microsoft.Quantum/Workspaces/WORKSPACE_NAME\\\"\\r\\nOut[]: Connected to Azure Quantum workspace WORKSPACE_NAME.\\r\\n        <list of Q# execution targets available in the Azure Quantum workspace>\\r\\n```\\r\\n                        \",\"\\r\\nConnect to an Azure Quantum workspace using its resource ID and a storage account connection string:\\r\\n```\\r\\nIn []: %azure.connect resourceId=\\\"/subscriptions/.../Microsoft.Quantum/Workspaces/WORKSPACE_NAME\\\"\\r\\n                        storage=\\\"STORAGE_ACCOUNT_CONNECTION_STRING\\\"\\r\\nOut[]: Connected to Azure Quantum workspace WORKSPACE_NAME.\\r\\n        <list of Q# execution targets available in the Azure Quantum workspace>\\r\\n```\\r\\n                        \",\"\\r\\nConnect to an Azure Quantum workspace using individual subscription ID, resource group name, and workspace name parameters:\\r\\n```\\r\\nIn []: %azure.connect subscription=\\\"SUBSCRIPTION_ID\\\"\\r\\n                        resourceGroup=\\\"RESOURCE_GROUP_NAME\\\"\\r\\n                        workspace=\\\"WORKSPACE_NAME\\\"\\r\\n                        storage=\\\"STORAGE_ACCOUNT_CONNECTION_STRING\\\"\\r\\nOut[]: Connected to Azure Quantum workspace WORKSPACE_NAME.\\r\\n        <list of Q# execution targets available in the Azure Quantum workspace>\\r\\n```\\r\\n                        \",\"\\r\\nConnect to an Azure Quantum workspace and force a credential prompt using\\r\\nthe `refresh` option:\\r\\n```\\r\\nIn []: %azure.connect refresh \\\"/subscriptions/.../Microsoft.Quantum/Workspaces/WORKSPACE_NAME\\\"\\r\\nOut[]: To sign in, use a web browser to open the page https://microsoft.com/devicelogin\\r\\n        and enter the code [login code] to authenticate.\\r\\n        Connected to Azure Quantum workspace WORKSPACE_NAME.\\r\\n        <list of Q# execution targets available in the Azure Quantum workspace>\\r\\n```\\r\\n                        \",\"\\r\\nPrint information about the currently-connected Azure Quantum workspace:\\r\\n```\\r\\nIn []: %azure.connect\\r\\nOut[]: Connected to Azure Quantum workspace WORKSPACE_NAME.\\r\\n        <list of Q# execution targets available in the Azure Quantum workspace>\\r\\n```\\r\\n                        \"],\"SeeAlso\":null},\"AssemblyName\":\"Microsoft.Quantum.IQSharp.AzureClient\"},{\"Name\":\"%azure.execute\",\"Documentation\":{\"Summary\":\"Executes a job in an Azure Quantum workspace.\",\"Full\":null,\"Description\":\"\\r\\nThis magic command allows for executing a Q# operation or function\\r\\non the specified target in the current Azure Quantum workspace.\\r\\nThe command waits a specified amount of time for the job to complete before returning.\\r\\n\\r\\nThe Azure Quantum workspace must have been previously initialized\\r\\nusing the [`%azure.connect` magic command](https://docs.microsoft.com/qsharp/api/iqsharp-magic/azure.connect),\\r\\nand an execution target for the job must have been specified using the\\r\\n[`%azure.target` magic command](https://docs.microsoft.com/qsharp/api/iqsharp-magic/azure.target).\\r\\n\\r\\n#### Required parameters\\r\\n\\r\\n- Q# operation or function name. This must be the first parameter, and must be a valid Q# operation\\r\\nor function name that has been defined either in the notebook or in a Q# file in the same folder.\\r\\n- Arguments for the Q# operation or function must also be specified as `key=value` pairs.\\r\\n\\r\\n#### Optional parameters\\r\\n\\r\\n- `jobName=<string>`: Friendly name to identify this job. If not specified,\\r\\nthe Q# operation or function name will be used as the job name.\\r\\n- `shots=<integer>` (default=500): Number of times to repeat execution of the\\r\\nspecified Q# operation or function.\\r\\n- `timeout=<integer>` (default=30): Time to wait (in seconds) for job completion\\r\\nbefore the magic command returns.\\r\\n- `poll=<integer>` (default=5): Interval (in seconds) to poll for\\r\\njob status while waiting for job execution to complete.\\r\\n\\r\\n#### Possible errors\\r\\n\\r\\n- `NotConnected`: Not connected to any Azure Quantum workspace.\\r\\n- `NoTarget`: No execution target has been configured for Azure Quantum job submission.\\r\\n- `NoOperationName`: No Q# operation name was specified for Azure Quantum job submission.\\r\\n- `InvalidTarget`: The specified execution target is not valid for Q# job submission in the current Azure Quantum workspace.\\r\\n- `UnrecognizedOperationName`: The specified Q# operation name was not recognized.\\r\\n- `InvalidEntryPoint`: The specified Q# operation cannot be used as an entry point for Azure Quantum job submission.\\r\\n- `JobSubmissionFailed`: Failed to submit the job to the Azure Quantum workspace.\\r\\n- `JobNotCompleted`: The specified Azure Quantum job has not yet completed.\\r\\n- `JobOutputDownloadFailed`: Failed to download results for the specified Azure Quantum job.\\r\\n                    \",\"Remarks\":null,\"Examples\":[\"\\r\\nExecute a Q# operation defined as `operation MyOperation(a : Int, b : Int) : Result`\\r\\non the active target in the current Azure Quantum workspace:\\r\\n```\\r\\nIn []: %azure.execute MyOperation a=5 b=10\\r\\nOut[]: Submitting MyOperation to target provider.qpu...\\r\\n       Job successfully submitted for 500 shots.\\r\\n          Job name: MyOperation\\r\\n          Job ID: <Azure Quantum job ID>\\r\\n       Waiting up to 30 seconds for Azure Quantum job to complete...\\r\\n       [1:23:45 PM] Current job status: Waiting\\r\\n       [1:23:50 PM] Current job status: Executing\\r\\n       [1:23:55 PM] Current job status: Succeeded\\r\\n       <detailed results of completed job>\\r\\n```\\r\\n                        \",\"\\r\\nExecute a Q# operation defined as `operation MyOperation(a : Int, b : Int) : Result`\\r\\non the active target in the current Azure Quantum workspace,\\r\\nspecifying a custom job name, number of shots, timeout, and polling interval:\\r\\n```\\r\\nIn []: %azure.submit MyOperation a=5 b=10 jobName=\\\"My job\\\" shots=100 timeout=60 poll=10\\r\\nOut[]: Submitting MyOperation to target provider.qpu...\\r\\n       Job successfully submitted for 100 shots.\\r\\n          Job name: My job\\r\\n          Job ID: <Azure Quantum job ID>\\r\\n       Waiting up to 60 seconds for Azure Quantum job to complete...\\r\\n       [1:23:45 PM] Current job status: Waiting\\r\\n       [1:23:55 PM] Current job status: Waiting\\r\\n       [1:24:05 PM] Current job status: Executing\\r\\n       [1:24:15 PM] Current job status: Succeeded\\r\\n       <detailed results of completed job>\\r\\n```\\r\\n                        \"],\"SeeAlso\":null},\"AssemblyName\":\"Microsoft.Quantum.IQSharp.AzureClient\"},{\"Name\":\"%azure.jobs\",\"Documentation\":{\"Summary\":\"Displays a list of jobs in the current Azure Quantum workspace.\",\"Full\":null,\"Description\":\"\\r\\nThis magic command allows for displaying the list of jobs in the current \\r\\nAzure Quantum workspace, optionally filtering the list to jobs which\\r\\nhave an ID, name, or target containing the provided filter parameter.\\r\\n\\r\\nThe Azure Quantum workspace must have been previously initialized\\r\\nusing the [`%azure.connect` magic command](https://docs.microsoft.com/qsharp/api/iqsharp-magic/azure.connect).\\r\\n\\r\\n#### Optional parameters\\r\\n\\r\\n- A string to filter the list of jobs. Jobs which have an ID, name, or target\\r\\ncontaining the provided filter parameter will be displayed. If not specified,\\r\\nall recent jobs are displayed.\\r\\n\\r\\n#### Possible errors\\r\\n\\r\\n- `NotConnected`: Not connected to any Azure Quantum workspace.\\r\\n                    \",\"Remarks\":null,\"Examples\":[\"\\r\\nGet the list of jobs:\\r\\n```\\r\\nIn []: %azure.jobs\\r\\nOut[]: <detailed status of all recent jobs in the workspace>\\r\\n```\\r\\n                        \",\"\\r\\nGet the list of jobs whose ID, name, or target contains \\\"My job\\\":\\r\\n```\\r\\nIn []: %azure.jobs \\\"My job\\\"\\r\\nOut[]: <detailed status of matching jobs in the workspace>\\r\\n```\\r\\n                        \"],\"SeeAlso\":null},\"AssemblyName\":\"Microsoft.Quantum.IQSharp.AzureClient\"},{\"Name\":\"%azure.output\",\"Documentation\":{\"Summary\":\"Displays results for a job in the current Azure Quantum workspace.\",\"Full\":null,\"Description\":\"\\r\\nThis magic command allows for displaying results for a job in the current \\r\\nAzure Quantum workspace.\\r\\nThe job execution must already be completed in order to display\\r\\nresults.\\r\\n\\r\\nThe Azure Quantum workspace must have been previously initialized\\r\\nusing the [`%azure.connect` magic command](https://docs.microsoft.com/qsharp/api/iqsharp-magic/azure.connect).\\r\\n\\r\\n#### Optional parameters\\r\\n\\r\\n- The job ID for which to display results. If not specified, the job ID from\\r\\nthe most recent call to [`%azure.submit`](https://docs.microsoft.com/qsharp/api/iqsharp-magic/azure.submit)\\r\\nor [`%azure.execute`](https://docs.microsoft.com/qsharp/api/iqsharp-magic/azure.execute) will be used.\\r\\n\\r\\n#### Possible errors\\r\\n\\r\\n- `NotConnected`: Not connected to any Azure Quantum workspace.\\r\\n- `JobNotFound`: No job with the given ID was found in the current Azure Quantum workspace.\\r\\n- `JobNotCompleted`: The specified Azure Quantum job has not yet completed.\\r\\n- `JobOutputDownloadFailed`: Failed to download results for the specified Azure Quantum job.\\r\\n                    \",\"Remarks\":null,\"Examples\":[\"\\r\\nGet results of a specific job:\\r\\n```\\r\\nIn []: %azure.output JOB_ID\\r\\nOut[]: <detailed results of specified job>\\r\\n```\\r\\n                        \",\"\\r\\nGet results of the most recently submitted job:\\r\\n```\\r\\nIn []: %azure.output\\r\\nOut[]: <detailed results of most recently submitted job>\\r\\n```\\r\\n                        \"],\"SeeAlso\":null},\"AssemblyName\":\"Microsoft.Quantum.IQSharp.AzureClient\"},{\"Name\":\"%azure.status\",\"Documentation\":{\"Summary\":\"Displays status for a job in the current Azure Quantum workspace.\",\"Full\":null,\"Description\":\"\\r\\nThis magic command allows for displaying status for a job in the current \\r\\nAzure Quantum workspace.\\r\\n\\r\\nThe Azure Quantum workspace must have been previously initialized\\r\\nusing the [`%azure.connect` magic command](https://docs.microsoft.com/qsharp/api/iqsharp-magic/azure.connect).\\r\\n\\r\\n#### Optional parameters\\r\\n\\r\\n- The job ID for which to display status. If not specified, the job ID from\\r\\nthe most recent call to [`%azure.submit`](https://docs.microsoft.com/qsharp/api/iqsharp-magic/azure.submit)\\r\\nor [`%azure.execute`](https://docs.microsoft.com/qsharp/api/iqsharp-magic/azure.execute) will be used.\\r\\n\\r\\n#### Possible errors\\r\\n\\r\\n- `NotConnected`: Not connected to any Azure Quantum workspace.\\r\\n- `JobNotFound`: No job with the given ID was found in the current Azure Quantum workspace.\\r\\n                    \",\"Remarks\":null,\"Examples\":[\"\\r\\nGet the status of a specific job:\\r\\n```\\r\\nIn []: %azure.status JOB_ID\\r\\nOut[]: <detailed status of specified job>\\r\\n```\\r\\n                        \",\"\\r\\nGet the status of the most recently submitted job:\\r\\n```\\r\\nIn []: %azure.status\\r\\nOut[]: <detailed status of most recently submitted job>\\r\\n```\\r\\n                        \"],\"SeeAlso\":null},\"AssemblyName\":\"Microsoft.Quantum.IQSharp.AzureClient\"},{\"Name\":\"%azure.submit\",\"Documentation\":{\"Summary\":\"Submits a job to an Azure Quantum workspace.\",\"Full\":null,\"Description\":\"\\r\\nThis magic command allows for submitting a Q# operation or function\\r\\nfor execution on the specified target in the current Azure Quantum workspace.\\r\\nThe command returns immediately after the job is submitted.\\r\\n\\r\\nThe Azure Quantum workspace must have been previously initialized\\r\\nusing the [`%azure.connect` magic command](https://docs.microsoft.com/qsharp/api/iqsharp-magic/azure.connect),\\r\\nand an execution target for the job must have been specified using the\\r\\n[`%azure.target` magic command](https://docs.microsoft.com/qsharp/api/iqsharp-magic/azure.target).\\r\\n\\r\\n#### Required parameters\\r\\n\\r\\n- Q# operation or function name. This must be the first parameter, and must be a valid Q# operation\\r\\nor function name that has been defined either in the notebook or in a Q# file in the same folder.\\r\\n- Arguments for the Q# operation or function must also be specified as `key=value` pairs.\\r\\n\\r\\n#### Optional parameters\\r\\n\\r\\n- `jobName=<string>`: Friendly name to identify this job. If not specified,\\r\\nthe Q# operation or function name will be used as the job name.\\r\\n- `shots=<integer>` (default=500): Number of times to repeat execution of the\\r\\nspecified Q# operation or function.\\r\\n\\r\\n#### Possible errors\\r\\n\\r\\n- `NotConnected`: Not connected to any Azure Quantum workspace.\\r\\n- `NoTarget`: No execution target has been configured for Azure Quantum job submission.\\r\\n- `NoOperationName`: No Q# operation name was specified for Azure Quantum job submission.\\r\\n- `InvalidTarget`: The specified execution target is not valid for Q# job submission in the current Azure Quantum workspace.\\r\\n- `UnrecognizedOperationName`: The specified Q# operation name was not recognized.\\r\\n- `InvalidEntryPoint`: The specified Q# operation cannot be used as an entry point for Azure Quantum job submission.\\r\\n- `JobSubmissionFailed`: Failed to submit the job to the Azure Quantum workspace.\\r\\n                    \",\"Remarks\":null,\"Examples\":[\"\\r\\nSubmit a Q# operation defined as `operation MyOperation(a : Int, b : Int) : Result`\\r\\nfor execution on the active target in the current Azure Quantum workspace:\\r\\n```\\r\\nIn []: %azure.submit MyOperation a=5 b=10\\r\\nOut[]: Submitting MyOperation to target provider.qpu...\\r\\n       Job successfully submitted for 500 shots.\\r\\n          Job name: MyOperation\\r\\n          Job ID: <Azure Quantum job ID>\\r\\n       <detailed properties of submitted job>\\r\\n```\\r\\n                        \",\"\\r\\nSubmit a Q# operation defined as `operation MyOperation(a : Int, b : Int) : Result`\\r\\nfor execution on the active target in the current Azure Quantum workspace,\\r\\nspecifying a custom job name, number of shots, timeout, and polling interval:\\r\\n```\\r\\nIn []: %azure.submit MyOperation a=5 b=10 jobName=\\\"My job\\\" shots=100\\r\\nOut[]: Submitting MyOperation to target provider.qpu...\\r\\n       Job successfully submitted for 100 shots.\\r\\n          Job name: My job\\r\\n          Job ID: <Azure Quantum job ID>\\r\\n       <detailed properties of submitted job>\\r\\n```\\r\\n                        \"],\"SeeAlso\":null},\"AssemblyName\":\"Microsoft.Quantum.IQSharp.AzureClient\"},{\"Name\":\"%azure.target\",\"Documentation\":{\"Summary\":\"Sets or displays the active execution target for Q# job submission in an Azure Quantum workspace.\",\"Full\":null,\"Description\":\"\\r\\nThis magic command allows for specifying or displaying the execution target for Q# job submission\\r\\nin an Azure Quantum workspace.\\r\\n\\r\\nThe Azure Quantum workspace must have been previously initialized\\r\\nusing the [`%azure.connect` magic command](https://docs.microsoft.com/qsharp/api/iqsharp-magic/azure.connect)\\r\\nmagic command. The specified execution target must be available in the workspace and support execution of Q# programs.\\r\\n\\r\\n#### Optional parameters\\r\\n\\r\\n- The target ID to set as the active execution target for Q# job submission. If not specified,\\r\\nthe currently active execution target is displayed.\\r\\n\\r\\n#### Possible errors\\r\\n\\r\\n- `NotConnected`: Not connected to any Azure Quantum workspace.\\r\\n- `InvalidTarget`: The specified execution target is not valid for Q# job submission in the current Azure Quantum workspace.\\r\\n- `NoTarget`: No execution target has been configured for Azure Quantum job submission.\\r\\n                    \",\"Remarks\":null,\"Examples\":[\"\\r\\nSet the current target for Q# job submission to `provider.qpu`:\\r\\n```\\r\\nIn []: %azure.target provider.qpu\\r\\nOut[]: Loading package Microsoft.Quantum.Providers.Provider and dependencies...\\r\\n       Active target is now provider.qpu\\r\\n       <detailed properties of active execution target>\\r\\n```\\r\\n                        \",\"\\r\\nDisplay the current target and all available targets in the current Azure Quantum workspace:\\r\\n```\\r\\nIn []: %azure.target\\r\\nOut[]: Current execution target: provider.qpu\\r\\n       Available execution targets: provider.qpu, provider.simulator\\r\\n       <detailed properties of active execution target>\\r\\n```\\r\\n                        \"],\"SeeAlso\":null},\"AssemblyName\":\"Microsoft.Quantum.IQSharp.AzureClient\"},{\"Name\":\"%config\",\"Documentation\":{\"Summary\":\"Allows setting or querying configuration options.\",\"Full\":null,\"Description\":\"\\r\\nThis magic command allows for setting or querying\\r\\nconfiguration options used to control the behavior of the\\r\\nIQ# kernel (such as state visualization options). It also\\r\\nallows for saving those options to a JSON file in the current\\r\\nworking directory (using the `--save` option).\\r\\n\\r\\n#### Configuration settings\\r\\n\\r\\n**`dump.basisStateLabelingConvention`**\\r\\n\\r\\n**Value:** `\\\"LittleEndian\\\"` (default), `\\\"BigEndian\\\"`, or `\\\"Bitstring\\\"`\\r\\n\\r\\nThe convention to be used when labeling computational\\r\\nbasis states in output from callables such as `DumpMachine` or `DumpRegister`.\\r\\n\\r\\n**`dump.truncateSmallAmplitudes`**\\r\\n\\r\\n**Value:** `true` or `false` (default)\\r\\n\\r\\nHides basis states of a state vector whose measurement probabilities\\r\\n(i.e., squared amplitudes) are smaller than a particular threshold, as determined by\\r\\nthe `dump.truncationThreshold` setting.\\r\\n\\r\\n**`dump.truncationThreshold`**\\r\\n\\r\\n**Value:** floating point number such as `0.001` or `1E-8` (default `1E-10`)\\r\\n\\r\\nIf `dump.truncateSmallAmplitudes` is set to `true`, determines the\\r\\nthreshold for measurement probabilities (i.e., squared amplitudes) below which to hide the display\\r\\nof basis states of a state vector.\\r\\n\\r\\n**`dump.phaseDisplayStyle`**\\r\\n\\r\\n**Value:** `\\\"ArrowOnly\\\"` (default), `\\\"NumberOnly\\\"`, `\\\"ArrowAndNumber\\\"`, or `\\\"None\\\"`\\r\\n\\r\\nConfigures the phase visualization style in output from callables such as\\r\\n`DumpMachine` or `DumpRegister`. Supports displaying phase as arrows, numbers (in radians), both, or neither.\\r\\n\\r\\n**`trace.defaultDepth`**\\r\\n\\r\\n**Value:** positive integer (default `1`)\\r\\n\\r\\nConfigures the default depth used in the `%trace` command for visualizing Q# operations.\\r\\n\\r\\n**`trace.style`**\\r\\n\\r\\n**Value:** `\\\"Default\\\"` (default), `\\\"BlackAndWhite\\\"`, or `\\\"Inverted\\\"`\\r\\n\\r\\nConfigures the default style used in generating the visualization of Q# operations with the `%trace` command.\\r\\n                \",\"Remarks\":null,\"Examples\":[\"\\r\\nPrint a list of all currently set configuration options:\\r\\n```\\r\\nIn []: %config\\r\\nOut[]: Configuration key                 Value\\r\\n       --------------------------------- -----------\\r\\n       dump.basisStateLabelingConvention \\\"BigEndian\\\"\\r\\n       dump.truncateSmallAmplitudes      true\\r\\n```\\r\\n                    \",\"\\r\\nConfigure the `DumpMachine` and `DumpRegister` callables\\r\\nto use big-endian convention:\\r\\n```\\r\\nIn []: %config dump.basisStateLabelingConvention=\\\"BigEndian\\\"\\r\\nOut[]: \\\"BigEndian\\\"\\r\\n```\\r\\n                    \",\"\\r\\nSave current configuration options to `.iqsharp-config.json`\\r\\nin the current working directory:\\r\\n```\\r\\nIn []: %config --save\\r\\nOut[]: \\r\\n```\\r\\nNote that options saved this way will be applied automatically\\r\\nthe next time a notebook in the current working\\r\\ndirectory is loaded.\\r\\n                    \"],\"SeeAlso\":null},\"AssemblyName\":\"Microsoft.Quantum.IQSharp.Kernel\"},{\"Name\":\"%estimate\",\"Documentation\":{\"Summary\":\"Runs a given function or operation on the ResourcesEstimator target machine.\",\"Full\":null,\"Description\":\"\\r\\nThe ResourcesEstimator estimates statistics about how many resources the given\\r\\noperation needs for execution. The resources it calculates include:\\r\\n\\r\\n- Counts for each primitive operation\\r\\n- Depth (lower bound for the T-gate depth of the quantum circuit)\\r\\n- Width (lower bound for the maximum number of qubits used for the computation)\\r\\n\\r\\nSee the [ResourcesEstimator user guide](https://docs.microsoft.com/quantum/user-guide/machines/resources-estimator) to learn more.\\r\\n\\r\\n#### Required parameters\\r\\n\\r\\n- Q# operation or function name. This must be the first parameter, and must be a valid Q# operation\\r\\nor function name that has been defined either in the notebook or in a Q# file in the same folder.\\r\\n- Arguments for the Q# operation or function must also be specified as `key=value` pairs.\\r\\n                \",\"Remarks\":null,\"Examples\":[\"\\r\\nEstimate resources for a Q# operation defined as `operation MyOperation() : Result`:\\r\\n```\\r\\nIn []: %estimate MyOperation\\r\\nOut[]: Metric           Sum     \\r\\n       ---------------- ----\\r\\n       CNOT             0\\r\\n       QubitClifford    4\\r\\n       R                0\\r\\n       Measure          8\\r\\n       T                0\\r\\n       Depth            0\\r\\n       Width            4\\r\\n       BorrowedWidth    0\\r\\n```\\r\\n                    \",\"\\r\\nEstimate resources for a Q# operation defined as `operation MyOperation(a : Int, b : Int) : Result`:\\r\\n```\\r\\nIn []: %estimate MyOperation a=5 b=10\\r\\nOut[]: Metric           Sum     \\r\\n       ---------------- ----\\r\\n       CNOT             0\\r\\n       QubitClifford    4\\r\\n       R                0\\r\\n       Measure          8\\r\\n       T                0\\r\\n       Depth            0\\r\\n       Width            4\\r\\n       BorrowedWidth    0\\r\\n```\\r\\n                    \"],\"SeeAlso\":null},\"AssemblyName\":\"Microsoft.Quantum.IQSharp.Kernel\"},{\"Name\":\"%lsmagic\",\"Documentation\":{\"Summary\":\"Returns a list of all currently available magic commands.\",\"Full\":null,\"Description\":\"\\r\\nThis magic command lists all of the magic commands available in the IQ# kernel,\\r\\nas well as those defined in any packages that have been loaded in the current\\r\\nsession via the [`%package` magic command](https://docs.microsoft.com/qsharp/api/iqsharp-magic/package).\\r\\n                \",\"Remarks\":null,\"Examples\":[\"\\r\\nDisplay the list of available magic commands:\\r\\n```\\r\\nIn []: %lsmagic\\r\\nOut[]: <detailed list of all available magic commands>\\r\\n```\\r\\n                    \"],\"SeeAlso\":null},\"AssemblyName\":\"Microsoft.Quantum.IQSharp.Kernel\"},{\"Name\":\"%lsopen\",\"Documentation\":{\"Summary\":\"Lists currently opened namespaces and their aliases.\",\"Full\":null,\"Description\":\"\\r\\nThis magic command lists any namespaces that have been made\\r\\navailable using `open` statements, along with any aliases\\r\\nthat may have been assigned to those namespaces.\\r\\n                \",\"Remarks\":null,\"Examples\":[\"\\r\\nPrint a list of all currently opened namespaces:\\r\\n```\\r\\nIn []: %lsopen\\r\\nOut[]: Namespace                     Alias\\r\\n       ----------------------------- ----\\r\\n       Microsoft.Quantum.Canon\\r\\n       Microsoft.Quantum.Diagnostics Diag\\r\\n       Microsoft.Quantum.Intrinsic\\r\\n```\\r\\n                    \"],\"SeeAlso\":null},\"AssemblyName\":\"Microsoft.Quantum.IQSharp.Kernel\"},{\"Name\":\"%package\",\"Documentation\":{\"Summary\":\"Provides the ability to load a NuGet package.\",\"Full\":null,\"Description\":\"\\r\\nThis magic command allows for loading a NuGet package into the current IQ# kernel process.\\r\\nThe package must be available on the system's list of NuGet sources, which typically includes nuget.org.\\r\\nQ# operations, functions, and user-defined types defined in the loaded package,\\r\\nalong with functionality such as magic commands and result encoders,\\r\\nwill automatically become available for use in the current session.\\r\\n\\r\\nThe package can be specified by name only, or by name and version (using `name::version` syntax).\\r\\n\\r\\nIf no version is specified:\\r\\n\\r\\n- For packages that are part of the Microsoft Quantum Development Kit, IQ# will attempt to\\r\\nobtain the version of the package that matches the current IQ# version.\\r\\n- For other packages, IQ# will attempt to obtain the most recent version of the package.\\r\\n                \",\"Remarks\":null,\"Examples\":[\"\\r\\nLoad the `Microsoft.Quantum.MachineLearning` package into the current IQ# session:\\r\\n```\\r\\nIn []: %package Microsoft.Quantum.MachineLearning\\r\\nOut[]: Adding package Microsoft.Quantum.MachineLearning: done!\\r\\n       <list of all loaded packages and versions>\\r\\n```\\r\\n                    \",\"\\r\\nLoad a specific version of the `Microsoft.Quantum.Katas` package into the current IQ# session:\\r\\n```\\r\\nIn []: %package Microsoft.Quantum.Katas::0.11.2006.403\\r\\nOut[]: Adding package Microsoft.Quantum.Katas::0.11.2006.403: done!\\r\\n       <list of all loaded packages and versions>\\r\\n```\\r\\n                    \",\"\\r\\nView the list of all packages that have been loaded into the current IQ# session:\\r\\n```\\r\\nIn []: %package\\r\\nOut[]: <list of all loaded packages and versions>\\r\\n```\\r\\n                    \"],\"SeeAlso\":null},\"AssemblyName\":\"Microsoft.Quantum.IQSharp.Kernel\"},{\"Name\":\"%performance\",\"Documentation\":{\"Summary\":\"Reports current performance metrics for this kernel.\",\"Full\":null,\"Description\":\"\\r\\nReports various performance metrics for the current IQ# kernel process, including:\\r\\n\\r\\n- Managed RAM usage\\r\\n- Total RAM usage\\r\\n- Virtual memory size\\r\\n- User time\\r\\n- Total time\\r\\n                \",\"Remarks\":null,\"Examples\":[\"\\r\\nDisplay performance metrics for the current IQ# kernel process:\\r\\n```\\r\\nIn []: %performance\\r\\nOut[]: Metric                        Value\\r\\n       ----------------------------  -------------\\r\\n       Managed RAM usage (bytes)     4.985 MiB\\r\\n       Total RAM usage (bytes)       54.543 MiB\\r\\n       Virtual memory size (bytes)   2.005 TiB\\r\\n       User time                     00:00:01.109\\r\\n       Total time                    00:00:01.437\\r\\n```\\r\\n                    \"],\"SeeAlso\":null},\"AssemblyName\":\"Microsoft.Quantum.IQSharp.Kernel\"},{\"Name\":\"%project\",\"Documentation\":{\"Summary\":\"Provides the ability to view or add Q# project references.\",\"Full\":null,\"Description\":\"\\r\\nThis magic command allows for adding references to Q# projects to be compiled and loaded\\r\\ninto the current IQ# session.\\r\\n\\r\\nThe command accepts a single argument, which is the path to a .csproj file to be loaded.\\r\\nThe .csproj file must reference the Microsoft.Quantum.Sdk. The provided path may be either\\r\\nan absolute path or a path relative to the current workspace root folder (usually the\\r\\nfolder containing the current .ipynb file). The project file will be added to the session\\r\\nand then the workspace will be reloaded, which will automatically load any downstream\\r\\npackages or projects referenced by the specified .csproj file and will recompile all\\r\\nassociated .qs source files.\\r\\n\\r\\nIf no argument is provided, the command simply returns the list of projects loaded in\\r\\nthe current IQ# session.\\r\\n                \",\"Remarks\":null,\"Examples\":[\"\\r\\nAdd a reference to the `C:\\\\Projects\\\\MyProject.csproj` Q# project into the current IQ# session:\\r\\n```\\r\\nIn []: %project C:\\\\Projects\\\\MyProject.csproj\\r\\nOut[]: Loading project C:\\\\Projects\\\\MyProject.csproj and dependencies...\\r\\n       <list of all loaded Q# project references>\\r\\n```\\r\\n                    \",\"\\r\\nView the list of all Q# project references that have been loaded into the current IQ# session:\\r\\n```\\r\\nIn []: %project\\r\\nOut[]: <list of all loaded Q# project references>\\r\\n```\\r\\n                    \"],\"SeeAlso\":null},\"AssemblyName\":\"Microsoft.Quantum.IQSharp.Kernel\"},{\"Name\":\"%simulate\",\"Documentation\":{\"Summary\":\"Runs a given function or operation on the QuantumSimulator target machine.\",\"Full\":null,\"Description\":\"\\r\\nThis magic command allows executing a given function or operation on the QuantumSimulator, \\r\\nwhich performs a full-state simulation of the given function or operation\\r\\nand prints the resulting return value.\\r\\n\\r\\nSee the [QuantumSimulator user guide](https://docs.microsoft.com/quantum/user-guide/machines/full-state-simulator) to learn more.\\r\\n\\r\\n#### Required parameters\\r\\n\\r\\n- Q# operation or function name. This must be the first parameter, and must be a valid Q# operation\\r\\nor function name that has been defined either in the notebook or in a Q# file in the same folder.\\r\\n- Arguments for the Q# operation or function must also be specified as `key=value` pairs.\\r\\n                \",\"Remarks\":null,\"Examples\":[\"\\r\\nSimulate a Q# operation defined as `operation MyOperation() : Result`:\\r\\n```\\r\\nIn []: %simulate MyOperation\\r\\nOut[]: <return value of the operation>\\r\\n```\\r\\n                    \",\"\\r\\nSimulate a Q# operation defined as `operation MyOperation(a : Int, b : Int) : Result`:\\r\\n```\\r\\nIn []: %simulate MyOperation a=5 b=10\\r\\nOut[]: <return value of the operation>\\r\\n```\\r\\n                    \"],\"SeeAlso\":null},\"AssemblyName\":\"Microsoft.Quantum.IQSharp.Kernel\"},{\"Name\":\"%toffoli\",\"Documentation\":{\"Summary\":\"Runs a given function or operation on the ToffoliSimulator target machine.\",\"Full\":null,\"Description\":\"\\r\\nThis magic command allows executing a given function or operation on the ToffoliSimulator, \\r\\nwhich performs a simulation of the given function or operation in which the state is always\\r\\na simple product state in the computational basis, and prints the resulting return value.\\r\\n\\r\\nSee the [ToffoliSimulator user guide](https://docs.microsoft.com/quantum/user-guide/machines/toffoli-simulator) to learn more.\\r\\n\\r\\n#### Required parameters\\r\\n\\r\\n- Q# operation or function name. This must be the first parameter, and must be a valid Q# operation\\r\\nor function name that has been defined either in the notebook or in a Q# file in the same folder.\\r\\n- Arguments for the Q# operation or function must also be specified as `key=value` pairs.\\r\\n                \",\"Remarks\":null,\"Examples\":[\"\\r\\nUse the ToffoliSimulator to simulate a Q# operation\\r\\ndefined as `operation MyOperation() : Result`:\\r\\n```\\r\\nIn []: %toffoli MyOperation\\r\\nOut[]: <return value of the operation>\\r\\n```\\r\\n                    \",\"\\r\\nUse the ToffoliSimulator to simulate a Q# operation\\r\\ndefined as `operation MyOperation(a : Int, b : Int) : Result`:\\r\\n```\\r\\nIn []: %toffoli MyOperation a=5 b=10\\r\\nOut[]: <return value of the operation>\\r\\n```\\r\\n                    \"],\"SeeAlso\":null},\"AssemblyName\":\"Microsoft.Quantum.IQSharp.Kernel\"},{\"Name\":\"%trace\",\"Documentation\":{\"Summary\":\"Visualizes the execution path of the given operation.\",\"Full\":null,\"Description\":\"\\r\\nThis magic command renders an HTML-based visualization of a runtime execution path of the\\r\\ngiven operation using the QuantumSimulator.\\r\\n\\r\\n#### Required parameters\\r\\n\\r\\n- Q# operation or function name. This must be the first parameter, and must be a valid Q# operation\\r\\nor function name that has been defined either in the notebook or in a Q# file in the same folder.\\r\\n- Arguments for the Q# operation or function must also be specified as `key=value` pairs.\\r\\n\\r\\n#### Optional parameters\\r\\n\\r\\n- `--depth=<integer>` (default=1): The depth at which to render operations along\\r\\nthe execution path.\\r\\n                \",\"Remarks\":null,\"Examples\":[\"\\r\\nVisualize the execution path of a Q# operation defined as `operation MyOperation() : Result`:\\r\\n```\\r\\nIn []: %trace MyOperation\\r\\nOut[]: <HTML visualization of the operation>\\r\\n```\\r\\n                    \",\"\\r\\nVisualize the execution path of a Q# operation defined as `operation MyOperation(a : Int, b : Int) : Result`:\\r\\n```\\r\\nIn []: %trace MyOperation a=5 b=10\\r\\nOut[]: <HTML visualization of the operation>\\r\\n```\\r\\n                    \",\"\\r\\nVisualize operations at depth 2 on the execution path of a Q# operation defined\\r\\nas `operation MyOperation() : Result`:\\r\\n```\\r\\nIn []: %trace MyOperation --depth=2\\r\\nOut[]: <HTML visualization of the operation>\\r\\n```\\r\\n                    \"],\"SeeAlso\":null},\"AssemblyName\":\"Microsoft.Quantum.IQSharp.Kernel\"},{\"Name\":\"%who\",\"Documentation\":{\"Summary\":\"Lists the Q# operations available in the current session.\",\"Full\":null,\"Description\":\"\\r\\nThis magic command returns a list of Q# operations and functions that are available\\r\\nin the current IQ# session for use with magic commands such as `%simulate`\\r\\nand `%estimate`.\\r\\n\\r\\nThe list will include Q# operations and functions which have been defined interactively\\r\\nwithin cells in the current notebook (after the cells have been executed),\\r\\nas well as any Q# operations and functions defined within .qs files in the current folder.\\r\\n                \",\"Remarks\":null,\"Examples\":[\"\\r\\nDisplay the list of Q# operations and functions available in the current session:\\r\\n```\\r\\nIn []: %who\\r\\nOut[]: <list of Q# operation and function names>\\r\\n```\\r\\n                    \"],\"SeeAlso\":null},\"AssemblyName\":\"Microsoft.Quantum.IQSharp.Kernel\"},{\"Name\":\"%workspace\",\"Documentation\":{\"Summary\":\"Provides actions related to the current workspace.\",\"Full\":null,\"Description\":\"\\r\\nThis magic command allows for displaying and reloading the Q# operations and functions\\r\\ndefined within .qs files in the current folder.\\r\\n\\r\\nIf no parameters are provided, the command displays a list of Q# operations or functions\\r\\nwithin .qs files in the current folder which are available\\r\\nin the current IQ# session for use with magic commands such as `%simulate`\\r\\nand `%estimate`.\\r\\n\\r\\nThe command will also output any errors encountered while compiling the .qs files\\r\\nin the current folder.\\r\\n\\r\\n#### Optional parameters\\r\\n\\r\\n- `reload`: Causes the IQ# kernel to recompile all .qs files in the current folder.\\r\\n                \",\"Remarks\":null,\"Examples\":[\"\\r\\nDisplay the list of Q# operations and functions available in the current folder:\\r\\n```\\r\\nIn []: %workspace\\r\\nOut[]: <list of Q# operation and function names>\\r\\n```\\r\\n                    \",\"\\r\\nRecompile the .qs files in the current folder:\\r\\n```\\r\\nIn []: %workspace reload\\r\\nOut[]: <list of Q# operation and function names>\\r\\n```\\r\\n                    \"],\"SeeAlso\":null},\"AssemblyName\":\"Microsoft.Quantum.IQSharp.Kernel\"}]",
      "text/html": [
       "<table><thead><tr><th style=\"text-align: start;\">Name</th><th style=\"text-align: start;\">Summary</th><th style=\"text-align: start;\">Assembly</th></tr></thead><tbody><tr><td style=\"text-align: start;\">%azure.connect</td><td style=\"text-align: start;\">Connects to an Azure Quantum workspace or displays current connection status.</td><td style=\"text-align: start;\">Microsoft.Quantum.IQSharp.AzureClient</td></tr><tr><td style=\"text-align: start;\">%azure.execute</td><td style=\"text-align: start;\">Executes a job in an Azure Quantum workspace.</td><td style=\"text-align: start;\">Microsoft.Quantum.IQSharp.AzureClient</td></tr><tr><td style=\"text-align: start;\">%azure.jobs</td><td style=\"text-align: start;\">Displays a list of jobs in the current Azure Quantum workspace.</td><td style=\"text-align: start;\">Microsoft.Quantum.IQSharp.AzureClient</td></tr><tr><td style=\"text-align: start;\">%azure.output</td><td style=\"text-align: start;\">Displays results for a job in the current Azure Quantum workspace.</td><td style=\"text-align: start;\">Microsoft.Quantum.IQSharp.AzureClient</td></tr><tr><td style=\"text-align: start;\">%azure.status</td><td style=\"text-align: start;\">Displays status for a job in the current Azure Quantum workspace.</td><td style=\"text-align: start;\">Microsoft.Quantum.IQSharp.AzureClient</td></tr><tr><td style=\"text-align: start;\">%azure.submit</td><td style=\"text-align: start;\">Submits a job to an Azure Quantum workspace.</td><td style=\"text-align: start;\">Microsoft.Quantum.IQSharp.AzureClient</td></tr><tr><td style=\"text-align: start;\">%azure.target</td><td style=\"text-align: start;\">Sets or displays the active execution target for Q# job submission in an Azure Quantum workspace.</td><td style=\"text-align: start;\">Microsoft.Quantum.IQSharp.AzureClient</td></tr><tr><td style=\"text-align: start;\">%config</td><td style=\"text-align: start;\">Allows setting or querying configuration options.</td><td style=\"text-align: start;\">Microsoft.Quantum.IQSharp.Kernel</td></tr><tr><td style=\"text-align: start;\">%estimate</td><td style=\"text-align: start;\">Runs a given function or operation on the ResourcesEstimator target machine.</td><td style=\"text-align: start;\">Microsoft.Quantum.IQSharp.Kernel</td></tr><tr><td style=\"text-align: start;\">%lsmagic</td><td style=\"text-align: start;\">Returns a list of all currently available magic commands.</td><td style=\"text-align: start;\">Microsoft.Quantum.IQSharp.Kernel</td></tr><tr><td style=\"text-align: start;\">%lsopen</td><td style=\"text-align: start;\">Lists currently opened namespaces and their aliases.</td><td style=\"text-align: start;\">Microsoft.Quantum.IQSharp.Kernel</td></tr><tr><td style=\"text-align: start;\">%package</td><td style=\"text-align: start;\">Provides the ability to load a NuGet package.</td><td style=\"text-align: start;\">Microsoft.Quantum.IQSharp.Kernel</td></tr><tr><td style=\"text-align: start;\">%performance</td><td style=\"text-align: start;\">Reports current performance metrics for this kernel.</td><td style=\"text-align: start;\">Microsoft.Quantum.IQSharp.Kernel</td></tr><tr><td style=\"text-align: start;\">%project</td><td style=\"text-align: start;\">Provides the ability to view or add Q# project references.</td><td style=\"text-align: start;\">Microsoft.Quantum.IQSharp.Kernel</td></tr><tr><td style=\"text-align: start;\">%simulate</td><td style=\"text-align: start;\">Runs a given function or operation on the QuantumSimulator target machine.</td><td style=\"text-align: start;\">Microsoft.Quantum.IQSharp.Kernel</td></tr><tr><td style=\"text-align: start;\">%toffoli</td><td style=\"text-align: start;\">Runs a given function or operation on the ToffoliSimulator target machine.</td><td style=\"text-align: start;\">Microsoft.Quantum.IQSharp.Kernel</td></tr><tr><td style=\"text-align: start;\">%trace</td><td style=\"text-align: start;\">Visualizes the execution path of the given operation.</td><td style=\"text-align: start;\">Microsoft.Quantum.IQSharp.Kernel</td></tr><tr><td style=\"text-align: start;\">%who</td><td style=\"text-align: start;\">Lists the Q# operations available in the current session.</td><td style=\"text-align: start;\">Microsoft.Quantum.IQSharp.Kernel</td></tr><tr><td style=\"text-align: start;\">%workspace</td><td style=\"text-align: start;\">Provides actions related to the current workspace.</td><td style=\"text-align: start;\">Microsoft.Quantum.IQSharp.Kernel</td></tr></tbody></table>"
      ],
      "text/plain": [
       "Name           Summary                                                                                           Assembly\n",
       "-------------- ------------------------------------------------------------------------------------------------- -------------------------------------\n",
       "%azure.connect Connects to an Azure Quantum workspace or displays current connection status.                     Microsoft.Quantum.IQSharp.AzureClient\n",
       "%azure.execute Executes a job in an Azure Quantum workspace.                                                     Microsoft.Quantum.IQSharp.AzureClient\n",
       "%azure.jobs    Displays a list of jobs in the current Azure Quantum workspace.                                   Microsoft.Quantum.IQSharp.AzureClient\n",
       "%azure.output  Displays results for a job in the current Azure Quantum workspace.                                Microsoft.Quantum.IQSharp.AzureClient\n",
       "%azure.status  Displays status for a job in the current Azure Quantum workspace.                                 Microsoft.Quantum.IQSharp.AzureClient\n",
       "%azure.submit  Submits a job to an Azure Quantum workspace.                                                      Microsoft.Quantum.IQSharp.AzureClient\n",
       "%azure.target  Sets or displays the active execution target for Q# job submission in an Azure Quantum workspace. Microsoft.Quantum.IQSharp.AzureClient\n",
       "%config        Allows setting or querying configuration options.                                                 Microsoft.Quantum.IQSharp.Kernel\n",
       "%estimate      Runs a given function or operation on the ResourcesEstimator target machine.                      Microsoft.Quantum.IQSharp.Kernel\n",
       "%lsmagic       Returns a list of all currently available magic commands.                                         Microsoft.Quantum.IQSharp.Kernel\n",
       "%lsopen        Lists currently opened namespaces and their aliases.                                              Microsoft.Quantum.IQSharp.Kernel\n",
       "%package       Provides the ability to load a NuGet package.                                                     Microsoft.Quantum.IQSharp.Kernel\n",
       "%performance   Reports current performance metrics for this kernel.                                              Microsoft.Quantum.IQSharp.Kernel\n",
       "%project       Provides the ability to view or add Q# project references.                                        Microsoft.Quantum.IQSharp.Kernel\n",
       "%simulate      Runs a given function or operation on the QuantumSimulator target machine.                        Microsoft.Quantum.IQSharp.Kernel\n",
       "%toffoli       Runs a given function or operation on the ToffoliSimulator target machine.                        Microsoft.Quantum.IQSharp.Kernel\n",
       "%trace         Visualizes the execution path of the given operation.                                             Microsoft.Quantum.IQSharp.Kernel\n",
       "%who           Lists the Q# operations available in the current session.                                         Microsoft.Quantum.IQSharp.Kernel\n",
       "%workspace     Provides actions related to the current workspace.                                                Microsoft.Quantum.IQSharp.Kernel\n"
      ]
     },
     "execution_count": 66,
     "metadata": {},
     "output_type": "execute_result"
    }
   ],
   "source": [
    "%lsmagic"
   ]
  },
  {
   "cell_type": "markdown",
   "metadata": {
    "slideshow": {
     "slide_type": "slide"
    }
   },
   "source": [
    "We can use `%simulate` to run a function or operation on a full-state quantum simulator."
   ]
  },
  {
   "cell_type": "code",
   "execution_count": 67,
   "metadata": {},
   "outputs": [
    {
     "data": {
      "application/json": "[\"Greeting\"]",
      "text/html": [
       "<ul><li>Greeting</li></ul>"
      ],
      "text/plain": [
       "Greeting"
      ]
     },
     "execution_count": 67,
     "metadata": {},
     "output_type": "execute_result"
    }
   ],
   "source": [
    "function Greeting(name : String) : Unit {\n",
    "    Message($\"Hello, {name}!\");\n",
    "}"
   ]
  },
  {
   "cell_type": "code",
   "execution_count": 68,
   "metadata": {},
   "outputs": [
    {
     "name": "stdout",
     "output_type": "stream",
     "text": [
      "Hello, Chris!\n"
     ]
    },
    {
     "data": {
      "application/json": "{\"@type\":\"tuple\"}",
      "text/plain": [
       "()"
      ]
     },
     "execution_count": 68,
     "metadata": {},
     "output_type": "execute_result"
    }
   ],
   "source": [
    "%simulate Greeting name=Chris"
   ]
  },
  {
   "cell_type": "markdown",
   "metadata": {
    "slideshow": {
     "slide_type": "slide"
    }
   },
   "source": [
    "Other simulators also provide their own magic commands for running functions and operations."
   ]
  },
  {
   "cell_type": "code",
   "execution_count": 69,
   "metadata": {},
   "outputs": [
    {
     "data": {
      "application/json": "[{\"Metric\":\"CNOT\",\"Sum\":0.0,\"Max\":0.0},{\"Metric\":\"QubitClifford\",\"Sum\":0.0,\"Max\":0.0},{\"Metric\":\"R\",\"Sum\":0.0,\"Max\":0.0},{\"Metric\":\"Measure\",\"Sum\":1.0,\"Max\":1.0},{\"Metric\":\"T\",\"Sum\":0.0,\"Max\":0.0},{\"Metric\":\"Depth\",\"Sum\":0.0,\"Max\":0.0},{\"Metric\":\"Width\",\"Sum\":1.0,\"Max\":1.0},{\"Metric\":\"BorrowedWidth\",\"Sum\":0.0,\"Max\":0.0}]",
      "text/html": [
       "<table><thead><tr><th style=\"text-align: start;\">Metric</th><th style=\"text-align: start;\">Sum</th><th style=\"text-align: start;\">Max</th></tr></thead><tbody><tr><td style=\"text-align: start;\">CNOT</td><td style=\"text-align: start;\">0</td><td style=\"text-align: start;\">0</td></tr><tr><td style=\"text-align: start;\">QubitClifford</td><td style=\"text-align: start;\">0</td><td style=\"text-align: start;\">0</td></tr><tr><td style=\"text-align: start;\">R</td><td style=\"text-align: start;\">0</td><td style=\"text-align: start;\">0</td></tr><tr><td style=\"text-align: start;\">Measure</td><td style=\"text-align: start;\">1</td><td style=\"text-align: start;\">1</td></tr><tr><td style=\"text-align: start;\">T</td><td style=\"text-align: start;\">0</td><td style=\"text-align: start;\">0</td></tr><tr><td style=\"text-align: start;\">Depth</td><td style=\"text-align: start;\">0</td><td style=\"text-align: start;\">0</td></tr><tr><td style=\"text-align: start;\">Width</td><td style=\"text-align: start;\">1</td><td style=\"text-align: start;\">1</td></tr><tr><td style=\"text-align: start;\">BorrowedWidth</td><td style=\"text-align: start;\">0</td><td style=\"text-align: start;\">0</td></tr></tbody></table>"
      ],
      "text/plain": [
       "Metric        Sum Max\n",
       "------------- - -\n",
       "CNOT          0 0\n",
       "QubitClifford 0 0\n",
       "R             0 0\n",
       "Measure       1 1\n",
       "T             0 0\n",
       "Depth         0 0\n",
       "Width         1 1\n",
       "BorrowedWidth 0 0\n"
      ]
     },
     "execution_count": 69,
     "metadata": {},
     "output_type": "execute_result"
    }
   ],
   "source": [
    "%estimate SampleQrng"
   ]
  },
  {
   "cell_type": "code",
   "execution_count": 70,
   "metadata": {
    "slideshow": {
     "slide_type": "slide"
    }
   },
   "outputs": [
    {
     "data": {
      "application/json": "[\"DemoMultiControlledX\"]",
      "text/html": [
       "<ul><li>DemoMultiControlledX</li></ul>"
      ],
      "text/plain": [
       "DemoMultiControlledX"
      ]
     },
     "execution_count": 70,
     "metadata": {},
     "output_type": "execute_result"
    }
   ],
   "source": [
    "operation DemoMultiControlledX(nQubits : Int) : Unit {\n",
    "    using (register = Qubit[nQubits]) {\n",
    "        ApplyToEach(X, register);\n",
    "        Controlled X(register[...Length(register) - 2], register[Length(register) - 1]);\n",
    "        DumpMachine();\n",
    "        ResetAll(register);\n",
    "    }\n",
    "}"
   ]
  },
  {
   "cell_type": "code",
   "execution_count": 71,
   "metadata": {},
   "outputs": [
    {
     "name": "stdout",
     "output_type": "stream",
     "text": [
      "Offset  \tState Data\n",
      "========\t==========\n",
      "00000000\tFF FF FF FF FF FF FF FF FF FF FF FF FF FF FF FF\n",
      "00000010\tFF FF FF FF FF FF FF FF FF FF FF FF FF FF FF FF\n",
      "00000020\tFF FF FF FF FF FF FF FF FF FF FF FF FF FF FF FF\n",
      "00000030\tFF FF FF FF FF FF FF FF FF FF FF FF FF FF FF FF\n",
      "00000040\tFF FF FF FF FF FF FF FF FF FF FF FF FF FF FF FF\n",
      "00000050\tFF FF FF FF FF FF FF FF FF FF FF FF FF FF FF FF\n",
      "00000060\tFF FF FF FF FF FF FF FF FF FF FF FF FF FF FF FF\n",
      "00000070\tFF FF FF FF FF FF FF FF FF FF FF FF 7F\n"
     ]
    },
    {
     "data": {
      "application/json": "{\"@type\":\"tuple\"}",
      "text/plain": [
       "()"
      ]
     },
     "execution_count": 71,
     "metadata": {},
     "output_type": "execute_result"
    }
   ],
   "source": [
    "%toffoli DemoMultiControlledX nQubits=1000"
   ]
  },
  {
   "cell_type": "markdown",
   "metadata": {
    "slideshow": {
     "slide_type": "slide"
    }
   },
   "source": [
    "To use additional libraries and simulators, you can use the `%package` command."
   ]
  },
  {
   "cell_type": "code",
   "execution_count": 72,
   "metadata": {},
   "outputs": [
    {
     "data": {
      "application/json": "{\"LastUpdated\":\"2020-09-22T04:11:52.623035+00:00\",\"IsCompleted\":true,\"Description\":\"Adding package QSharpCommunity.Simulators.Chp\",\"Subtask\":\"done\"}",
      "text/plain": [
       "Adding package QSharpCommunity.Simulators.Chp: done!"
      ]
     },
     "metadata": {},
     "output_type": "display_data"
    },
    {
     "data": {
      "application/json": "[\"Microsoft.Quantum.Standard::0.12.20082513\",\"QSharpCommunity.Simulators.Chp::0.1.7\"]",
      "text/html": [
       "<ul><li>Microsoft.Quantum.Standard::0.12.20082513</li><li>QSharpCommunity.Simulators.Chp::0.1.7</li></ul>"
      ],
      "text/plain": [
       "Microsoft.Quantum.Standard::0.12.20082513, QSharpCommunity.Simulators.Chp::0.1.7"
      ]
     },
     "execution_count": 72,
     "metadata": {},
     "output_type": "execute_result"
    }
   ],
   "source": [
    "%package QSharpCommunity.Simulators.Chp"
   ]
  },
  {
   "cell_type": "code",
   "execution_count": 73,
   "metadata": {},
   "outputs": [
    {
     "data": {
      "application/json": "[\"DemoEntangledPreparation\"]",
      "text/html": [
       "<ul><li>DemoEntangledPreparation</li></ul>"
      ],
      "text/plain": [
       "DemoEntangledPreparation"
      ]
     },
     "execution_count": 73,
     "metadata": {},
     "output_type": "execute_result"
    }
   ],
   "source": [
    "operation DemoEntangledPreparation() : Unit {\n",
    "    using ((left, right) = (Qubit(), Qubit())) {\n",
    "        PrepareEntangledPair(left, right);\n",
    "        DumpMachine();\n",
    "        ResetAll([left, right]);\n",
    "    }\n",
    "}"
   ]
  },
  {
   "cell_type": "code",
   "execution_count": 74,
   "metadata": {},
   "outputs": [
    {
     "data": {
      "application/json": "{\"Data\":[[false,false,true,false,false],[false,true,false,false,false],[true,true,false,false,false],[false,false,true,true,false]]}",
      "text/html": [
       "\r\n",
       "                $\\left(\\begin{array}{cc|cc|c}\r\n",
       "                1 & 1 & 0 & 0 & 0 \\\\0 & 0 & 1 & 1 & 0\r\n",
       "                \\end{array} \\right)$"
      ],
      "text/plain": [
       "<+XX, +ZZ>| >+ZI, +IX<"
      ]
     },
     "metadata": {},
     "output_type": "display_data"
    },
    {
     "data": {
      "application/json": "{\"@type\":\"tuple\"}",
      "text/plain": [
       "()"
      ]
     },
     "execution_count": 74,
     "metadata": {},
     "output_type": "execute_result"
    }
   ],
   "source": [
    "%config chp.nQubits = 2\n",
    "%chp DemoEntangledPreparation"
   ]
  },
  {
   "cell_type": "code",
   "execution_count": 75,
   "metadata": {},
   "outputs": [
    {
     "data": {
      "application/json": "{\"QubitIds\":[0,1],\"NQubits\":2,\"Amplitudes\":[{\"Real\":0.7071067811865476,\"Imaginary\":0.0,\"Magnitude\":0.7071067811865476,\"Phase\":0.0},{\"Real\":0.0,\"Imaginary\":0.0,\"Magnitude\":0.0,\"Phase\":0.0},{\"Real\":0.0,\"Imaginary\":0.0,\"Magnitude\":0.0,\"Phase\":0.0},{\"Real\":0.7071067811865476,\"Imaginary\":0.0,\"Magnitude\":0.7071067811865476,\"Phase\":0.0}]}",
      "text/html": [
       "\r\n",
       "                    <table style=\"table-layout: fixed; width: 100%\">\r\n",
       "                        <thead>\r\n",
       "                            \r\n",
       "                        <tr>\r\n",
       "                            <th>Qubit IDs</th>\r\n",
       "                            <td span=\"3\">0, 1</td>\r\n",
       "                        </tr>\r\n",
       "                    \r\n",
       "                            <tr>\r\n",
       "                                <th style=\"width: 20ch)\">Basis state (bitstring)</th>\r\n",
       "                                <th style=\"width: 20ch\">Amplitude</th>\r\n",
       "                                <th style=\"width: calc(100% - 26ch - 20ch)\">Meas. Pr.</th>\r\n",
       "                                <th style=\"width: 6ch\">Phase</th>\r\n",
       "                            </tr>\r\n",
       "                        </thead>\r\n",
       "\r\n",
       "                        <tbody>\r\n",
       "                            \r\n",
       "                            <tr>\r\n",
       "                                <td>$\\left|00\\right\\rangle$</td>\r\n",
       "                                <td>$0.7071 + 0.0000 i$</td>\r\n",
       "                                <td>\r\n",
       "                                    <progress\r\n",
       "                                        max=\"100\"\r\n",
       "                                        value=\"50.000000000000014\"\r\n",
       "                                        style=\"width: 100%;\"\r\n",
       "                                    >\r\n",
       "                                </td>\r\n",
       "                                \r\n",
       "                                <td style=\"transform: rotate(0deg);\r\n",
       "                   text-align: center;\">\r\n",
       "                                 ↑\r\n",
       "                                </td>\r\n",
       "                            \r\n",
       "                            </tr>\r\n",
       "                        \n",
       "\r\n",
       "                            <tr>\r\n",
       "                                <td>$\\left|11\\right\\rangle$</td>\r\n",
       "                                <td>$0.7071 + 0.0000 i$</td>\r\n",
       "                                <td>\r\n",
       "                                    <progress\r\n",
       "                                        max=\"100\"\r\n",
       "                                        value=\"50.000000000000014\"\r\n",
       "                                        style=\"width: 100%;\"\r\n",
       "                                    >\r\n",
       "                                </td>\r\n",
       "                                \r\n",
       "                                <td style=\"transform: rotate(0deg);\r\n",
       "                   text-align: center;\">\r\n",
       "                                 ↑\r\n",
       "                                </td>\r\n",
       "                            \r\n",
       "                            </tr>\r\n",
       "                        \r\n",
       "                        </tbody>\r\n",
       "                    </table>\r\n",
       "                "
      ],
      "text/plain": [
       "|00⟩\t0.7071067811865476 + 0𝑖\n",
       "|11⟩\t0.7071067811865476 + 0𝑖"
      ]
     },
     "metadata": {},
     "output_type": "display_data"
    },
    {
     "data": {
      "application/json": "{\"@type\":\"tuple\"}",
      "text/plain": [
       "()"
      ]
     },
     "execution_count": 75,
     "metadata": {},
     "output_type": "execute_result"
    }
   ],
   "source": [
    "%simulate DemoEntangledPreparation"
   ]
  },
  {
   "cell_type": "markdown",
   "metadata": {
    "slideshow": {
     "slide_type": "slide"
    }
   },
   "source": [
    "## Types in Q#: Classical Data"
   ]
  },
  {
   "cell_type": "markdown",
   "metadata": {},
   "source": [
    "When we declare functions and operations, we need to say what the **type** of each input and output is.\n",
    "\n",
    "- **Numeric data types**: `Int`, `BigInt`, `Double`, `Complex`\n",
    "- **Boolean**: `Bool` (`true` or `false`)\n",
    "- **Measurement results**: `Result` (`Zero` or `One`)\n",
    "- **Pauli operators**: `Pauli` (`PauliI`, `PauliX`, `PauliY`, or `PauliZ`)\n",
    "- **Ranges of integers**: `Range` (e.g.: `0..9`, `10..-1..1`)\n",
    "- **Diagnostic strings**: `String` (e.g.: `\"Hello!\"`)"
   ]
  },
  {
   "cell_type": "markdown",
   "metadata": {
    "slideshow": {
     "slide_type": "slide"
    }
   },
   "source": [
    "We can declare new _variables_ of each type by using the `let` keyword:"
   ]
  },
  {
   "cell_type": "code",
   "execution_count": 76,
   "metadata": {},
   "outputs": [
    {
     "data": {
      "application/json": "[\"AngleForBias\"]",
      "text/html": [
       "<ul><li>AngleForBias</li></ul>"
      ],
      "text/plain": [
       "AngleForBias"
      ]
     },
     "execution_count": 76,
     "metadata": {},
     "output_type": "execute_result"
    }
   ],
   "source": [
    "open Microsoft.Quantum.Math;\n",
    "\n",
    "function AngleForBias(bias : Double) : Double {\n",
    "    // Declares probability as a Double.\n",
    "    let probability = 0.5 + bias;\n",
    "    return 2.0 * ArcCos(Sqrt(1.0 - probability));\n",
    "}"
   ]
  },
  {
   "cell_type": "markdown",
   "metadata": {
    "slideshow": {
     "slide_type": "slide"
    }
   },
   "source": [
    "## Mutability and Immutability"
   ]
  },
  {
   "cell_type": "markdown",
   "metadata": {},
   "source": [
    "By default, variables in Q# are **immutable**."
   ]
  },
  {
   "cell_type": "code",
   "execution_count": 77,
   "metadata": {},
   "outputs": [
    {
     "name": "stderr",
     "output_type": "stream",
     "text": [
      "/snippet_.qs(3,9): error QS6303: An immutable identifier cannot be modified.\n"
     ]
    }
   ],
   "source": [
    "function DoesntWork() : Unit {\n",
    "    let x = 3; // declare x as an Int\n",
    "    set x = 10; // error!\n",
    "}"
   ]
  },
  {
   "cell_type": "markdown",
   "metadata": {},
   "source": [
    "To modify variables, use the `mutable` and `set` keywords:"
   ]
  },
  {
   "cell_type": "code",
   "execution_count": 78,
   "metadata": {},
   "outputs": [
    {
     "data": {
      "application/json": "[\"Works\"]",
      "text/html": [
       "<ul><li>Works</li></ul>"
      ],
      "text/plain": [
       "Works"
      ]
     },
     "execution_count": 78,
     "metadata": {},
     "output_type": "execute_result"
    }
   ],
   "source": [
    "function Works() : Unit {\n",
    "    mutable x = 3; // declare x as an Int, and allows us to modify it later\n",
    "    set x = 10;\n",
    "}"
   ]
  },
  {
   "cell_type": "code",
   "execution_count": 79,
   "metadata": {},
   "outputs": [
    {
     "data": {
      "application/json": "{\"@type\":\"tuple\"}",
      "text/plain": [
       "()"
      ]
     },
     "execution_count": 79,
     "metadata": {},
     "output_type": "execute_result"
    }
   ],
   "source": [
    "%simulate Works"
   ]
  },
  {
   "cell_type": "markdown",
   "metadata": {
    "slideshow": {
     "slide_type": "slide"
    }
   },
   "source": [
    "The `set` keyword can also be used with in-place operators, such as `+=`:"
   ]
  },
  {
   "cell_type": "code",
   "execution_count": 80,
   "metadata": {},
   "outputs": [
    {
     "data": {
      "application/json": "[\"WhereEven\",\"EvensExample\"]",
      "text/html": [
       "<ul><li>WhereEven</li><li>EvensExample</li></ul>"
      ],
      "text/plain": [
       "WhereEven, EvensExample"
      ]
     },
     "execution_count": 80,
     "metadata": {},
     "output_type": "execute_result"
    }
   ],
   "source": [
    "function WhereEven(array : Int[]) : Int[] {\n",
    "    mutable evens = new Int[0];\n",
    "    for (element in array) {\n",
    "        if (element % 2 == 0) {\n",
    "            set evens += [element];\n",
    "        }\n",
    "    }\n",
    "    return evens;\n",
    "}\n",
    "\n",
    "function EvensExample() : Unit {\n",
    "    Message($\"{WhereEven([0, 11, 13, 16, 101, 142])}\");\n",
    "}"
   ]
  },
  {
   "cell_type": "code",
   "execution_count": 81,
   "metadata": {},
   "outputs": [
    {
     "name": "stdout",
     "output_type": "stream",
     "text": [
      "[0,16,142]\n"
     ]
    },
    {
     "data": {
      "application/json": "{\"@type\":\"tuple\"}",
      "text/plain": [
       "()"
      ]
     },
     "execution_count": 81,
     "metadata": {},
     "output_type": "execute_result"
    }
   ],
   "source": [
    "%simulate EvensExample"
   ]
  },
  {
   "cell_type": "markdown",
   "metadata": {
    "slideshow": {
     "slide_type": "slide"
    }
   },
   "source": [
    "While variables in Q# can be declared as mutable, **values are always immutable**.\n",
    "\n",
    "You can assign a new value to a mutable variable, but that has no effect on anywhere else that value is used."
   ]
  },
  {
   "cell_type": "code",
   "execution_count": 82,
   "metadata": {},
   "outputs": [
    {
     "data": {
      "application/json": "[\"ImmutableValueExample\"]",
      "text/html": [
       "<ul><li>ImmutableValueExample</li></ul>"
      ],
      "text/plain": [
       "ImmutableValueExample"
      ]
     },
     "execution_count": 82,
     "metadata": {},
     "output_type": "execute_result"
    }
   ],
   "source": [
    "function ImmutableValueExample() : Unit {\n",
    "    mutable a = [3];\n",
    "    let b = a;\n",
    "    // Changing a has no effect on the value of b.\n",
    "    set a = [4, 5];\n",
    "    \n",
    "    Message($\"a = {a}, b = {b}\");\n",
    "}"
   ]
  },
  {
   "cell_type": "code",
   "execution_count": 83,
   "metadata": {},
   "outputs": [
    {
     "name": "stdout",
     "output_type": "stream",
     "text": [
      "a = [4,5], b = [3]\n"
     ]
    },
    {
     "data": {
      "application/json": "{\"@type\":\"tuple\"}",
      "text/plain": [
       "()"
      ]
     },
     "execution_count": 83,
     "metadata": {},
     "output_type": "execute_result"
    }
   ],
   "source": [
    "%simulate ImmutableValueExample"
   ]
  },
  {
   "cell_type": "markdown",
   "metadata": {
    "slideshow": {
     "slide_type": "slide"
    }
   },
   "source": [
    "## Types in Q#:  Tuples"
   ]
  },
  {
   "cell_type": "markdown",
   "metadata": {},
   "source": [
    "Given any sequence of types, you can make a new **tuple** of those types using `()`."
   ]
  },
  {
   "cell_type": "code",
   "execution_count": 84,
   "metadata": {},
   "outputs": [
    {
     "data": {
      "application/json": "[\"SampleEntangledPair\"]",
      "text/html": [
       "<ul><li>SampleEntangledPair</li></ul>"
      ],
      "text/plain": [
       "SampleEntangledPair"
      ]
     },
     "execution_count": 84,
     "metadata": {},
     "output_type": "execute_result"
    }
   ],
   "source": [
    "operation SampleEntangledPair() : (Result, Result) {\n",
    "    using ((left, right) = (Qubit(), Qubit())) {\n",
    "        PrepareEntangledPair(left, right);\n",
    "        return (M(left), M(right));\n",
    "    }\n",
    "}"
   ]
  },
  {
   "cell_type": "code",
   "execution_count": 99,
   "metadata": {},
   "outputs": [
    {
     "data": {
      "application/json": "{\"@type\":\"@tuple\",\"Item1\":0,\"Item2\":0}",
      "text/plain": [
       "(Zero, Zero)"
      ]
     },
     "execution_count": 99,
     "metadata": {},
     "output_type": "execute_result"
    }
   ],
   "source": [
    "%simulate SampleEntangledPair"
   ]
  },
  {
   "cell_type": "markdown",
   "metadata": {
    "slideshow": {
     "slide_type": "slide"
    }
   },
   "source": [
    "### Tuple-in Tuple-out\n",
    "Every Q# function and operation takes exactly one input, and returns exactly one output.\n",
    "\n",
    "> 💡 **TIP**: _Singleton–tuple equivalence_\n",
    ">\n",
    "> Every tuple with exactly one item is identical to that item on its own.\n",
    ">\n",
    "> E.g.: `3` and `(3)` are the same value."
   ]
  },
  {
   "cell_type": "code",
   "execution_count": 100,
   "metadata": {},
   "outputs": [
    {
     "data": {
      "application/json": "[\"TupleExample\"]",
      "text/html": [
       "<ul><li>TupleExample</li></ul>"
      ],
      "text/plain": [
       "TupleExample"
      ]
     },
     "execution_count": 100,
     "metadata": {},
     "output_type": "execute_result"
    }
   ],
   "source": [
    "function TupleExample() : Unit {\n",
    "    let summands = (2, 3);\n",
    "    Message($\"{Fst(summands)} + {Snd(summands)} = {PlusI(summands)}\");\n",
    "    let three = ((3));\n",
    "    Message($\"2 + {three} = {PlusI(2, three)}\");\n",
    "}"
   ]
  },
  {
   "cell_type": "code",
   "execution_count": 101,
   "metadata": {},
   "outputs": [
    {
     "name": "stdout",
     "output_type": "stream",
     "text": [
      "2 + 3 = 5\n",
      "2 + 3 = 5\n"
     ]
    },
    {
     "data": {
      "application/json": "{\"@type\":\"tuple\"}",
      "text/plain": [
       "()"
      ]
     },
     "execution_count": 101,
     "metadata": {},
     "output_type": "execute_result"
    }
   ],
   "source": [
    "%simulate TupleExample"
   ]
  },
  {
   "cell_type": "markdown",
   "metadata": {
    "slideshow": {
     "slide_type": "slide"
    }
   },
   "source": [
    "Like Python and F#, all functions and operations in Q# return a value.\n",
    "\n",
    "Often, if an operation has no meaningful value to return, it will return the empty tuple `()` of type `Unit`.\n",
    "\n",
    "> 💡 **TIP**\n",
    ">\n",
    "> Unlike `void` in other languages, `Unit` is a bit like an empty box.\n",
    ">\n",
    "> There's still a box, it just happens to be empty."
   ]
  },
  {
   "cell_type": "markdown",
   "metadata": {
    "slideshow": {
     "slide_type": "slide"
    }
   },
   "source": [
    "We can make tuples of other types as well:"
   ]
  },
  {
   "cell_type": "code",
   "execution_count": 102,
   "metadata": {},
   "outputs": [
    {
     "data": {
      "application/json": "[\"RotateByPiOverTwo\"]",
      "text/html": [
       "<ul><li>RotateByPiOverTwo</li></ul>"
      ],
      "text/plain": [
       "RotateByPiOverTwo"
      ]
     },
     "execution_count": 102,
     "metadata": {},
     "output_type": "execute_result"
    }
   ],
   "source": [
    "operation RotateByPiOverTwo() : Unit {\n",
    "    using (q = Qubit()) {\n",
    "        let input = (PI() / 2.0, q);\n",
    "        Ry(input);\n",
    "        DumpMachine();\n",
    "        Adjoint Ry(input);\n",
    "    }\n",
    "}"
   ]
  },
  {
   "cell_type": "code",
   "execution_count": 103,
   "metadata": {},
   "outputs": [
    {
     "data": {
      "application/json": "{\"QubitIds\":[0],\"NQubits\":1,\"Amplitudes\":[{\"Real\":0.7071067811865476,\"Imaginary\":0.0,\"Magnitude\":0.7071067811865476,\"Phase\":0.0},{\"Real\":0.7071067811865475,\"Imaginary\":0.0,\"Magnitude\":0.7071067811865475,\"Phase\":0.0}]}",
      "text/html": [
       "\r\n",
       "                    <table style=\"table-layout: fixed; width: 100%\">\r\n",
       "                        <thead>\r\n",
       "                            \r\n",
       "                        <tr>\r\n",
       "                            <th>Qubit IDs</th>\r\n",
       "                            <td span=\"3\">0</td>\r\n",
       "                        </tr>\r\n",
       "                    \r\n",
       "                            <tr>\r\n",
       "                                <th style=\"width: 20ch)\">Basis state (bitstring)</th>\r\n",
       "                                <th style=\"width: 20ch\">Amplitude</th>\r\n",
       "                                <th style=\"width: calc(100% - 26ch - 20ch)\">Meas. Pr.</th>\r\n",
       "                                <th style=\"width: 6ch\">Phase</th>\r\n",
       "                            </tr>\r\n",
       "                        </thead>\r\n",
       "\r\n",
       "                        <tbody>\r\n",
       "                            \r\n",
       "                            <tr>\r\n",
       "                                <td>$\\left|0\\right\\rangle$</td>\r\n",
       "                                <td>$0.7071 + 0.0000 i$</td>\r\n",
       "                                <td>\r\n",
       "                                    <progress\r\n",
       "                                        max=\"100\"\r\n",
       "                                        value=\"50.000000000000014\"\r\n",
       "                                        style=\"width: 100%;\"\r\n",
       "                                    >\r\n",
       "                                </td>\r\n",
       "                                \r\n",
       "                                <td style=\"transform: rotate(0deg);\r\n",
       "                   text-align: center;\">\r\n",
       "                                 ↑\r\n",
       "                                </td>\r\n",
       "                            \r\n",
       "                            </tr>\r\n",
       "                        \n",
       "\r\n",
       "                            <tr>\r\n",
       "                                <td>$\\left|1\\right\\rangle$</td>\r\n",
       "                                <td>$0.7071 + 0.0000 i$</td>\r\n",
       "                                <td>\r\n",
       "                                    <progress\r\n",
       "                                        max=\"100\"\r\n",
       "                                        value=\"49.999999999999986\"\r\n",
       "                                        style=\"width: 100%;\"\r\n",
       "                                    >\r\n",
       "                                </td>\r\n",
       "                                \r\n",
       "                                <td style=\"transform: rotate(0deg);\r\n",
       "                   text-align: center;\">\r\n",
       "                                 ↑\r\n",
       "                                </td>\r\n",
       "                            \r\n",
       "                            </tr>\r\n",
       "                        \r\n",
       "                        </tbody>\r\n",
       "                    </table>\r\n",
       "                "
      ],
      "text/plain": [
       "|0⟩\t0.7071067811865476 + 0𝑖\n",
       "|1⟩\t0.7071067811865475 + 0𝑖"
      ]
     },
     "metadata": {},
     "output_type": "display_data"
    },
    {
     "data": {
      "application/json": "{\"@type\":\"tuple\"}",
      "text/plain": [
       "()"
      ]
     },
     "execution_count": 103,
     "metadata": {},
     "output_type": "execute_result"
    }
   ],
   "source": [
    "%simulate RotateByPiOverTwo"
   ]
  },
  {
   "cell_type": "markdown",
   "metadata": {
    "slideshow": {
     "slide_type": "slide"
    }
   },
   "source": [
    "## Types in Q#: Arrays"
   ]
  },
  {
   "cell_type": "markdown",
   "metadata": {},
   "source": [
    "For any type `'T`, the type `'T[]` represents _arrays_ where each element has type `'T`."
   ]
  },
  {
   "cell_type": "code",
   "execution_count": 104,
   "metadata": {},
   "outputs": [
    {
     "data": {
      "application/json": "[\"FavoriteNumbers\"]",
      "text/html": [
       "<ul><li>FavoriteNumbers</li></ul>"
      ],
      "text/plain": [
       "FavoriteNumbers"
      ]
     },
     "execution_count": 104,
     "metadata": {},
     "output_type": "execute_result"
    }
   ],
   "source": [
    "function FavoriteNumbers() : Int[] {\n",
    "    return [1, 42, 101];\n",
    "}"
   ]
  },
  {
   "cell_type": "code",
   "execution_count": 105,
   "metadata": {},
   "outputs": [
    {
     "data": {
      "application/json": "[\"ExampleData\"]",
      "text/html": [
       "<ul><li>ExampleData</li></ul>"
      ],
      "text/plain": [
       "ExampleData"
      ]
     },
     "execution_count": 105,
     "metadata": {},
     "output_type": "execute_result"
    }
   ],
   "source": [
    "function ExampleData() : (Int, Bool[])[] {\n",
    "    return [\n",
    "        (3, [true, false, true]),\n",
    "        (11, [false, false])\n",
    "    ];\n",
    "}"
   ]
  },
  {
   "cell_type": "code",
   "execution_count": 106,
   "metadata": {},
   "outputs": [
    {
     "data": {
      "application/json": "[{\"@type\":\"@tuple\",\"Item1\":3,\"Item2\":[true,false,true]},{\"@type\":\"@tuple\",\"Item1\":11,\"Item2\":[false,false]}]",
      "text/html": [
       "<ul><li>(3, [True,False,True])</li><li>(11, [False,False])</li></ul>"
      ],
      "text/plain": [
       "(3, [True,False,True]), (11, [False,False])"
      ]
     },
     "execution_count": 106,
     "metadata": {},
     "output_type": "execute_result"
    }
   ],
   "source": [
    "%simulate ExampleData"
   ]
  },
  {
   "cell_type": "markdown",
   "metadata": {
    "slideshow": {
     "slide_type": "slide"
    }
   },
   "source": [
    "Really, _any_ type."
   ]
  },
  {
   "cell_type": "code",
   "execution_count": 107,
   "metadata": {},
   "outputs": [
    {
     "data": {
      "application/json": "[\"Silly\"]",
      "text/html": [
       "<ul><li>Silly</li></ul>"
      ],
      "text/plain": [
       "Silly"
      ]
     },
     "execution_count": 107,
     "metadata": {},
     "output_type": "execute_result"
    }
   ],
   "source": [
    "open Microsoft.Quantum.Arrays;\n",
    "\n",
    "function Silly() : Unit[] {\n",
    "    return ConstantArray(4, ());\n",
    "}"
   ]
  },
  {
   "cell_type": "code",
   "execution_count": 108,
   "metadata": {},
   "outputs": [
    {
     "data": {
      "application/json": "[{\"@type\":\"tuple\"},{\"@type\":\"tuple\"},{\"@type\":\"tuple\"},{\"@type\":\"tuple\"}]",
      "text/html": [
       "<ul><li>()</li><li>()</li><li>()</li><li>()</li></ul>"
      ],
      "text/plain": [
       "(), (), (), ()"
      ]
     },
     "execution_count": 108,
     "metadata": {},
     "output_type": "execute_result"
    }
   ],
   "source": [
    "%simulate Silly"
   ]
  },
  {
   "cell_type": "markdown",
   "metadata": {
    "slideshow": {
     "slide_type": "slide"
    }
   },
   "source": [
    "Like all other values in Q#, arrays are **immutable**; you can't change elements of an array after it has been created.\n",
    "\n",
    "\n",
    "You can, however, use the copy-and-update operator `w/` to do something very similar:"
   ]
  },
  {
   "cell_type": "code",
   "execution_count": 109,
   "metadata": {},
   "outputs": [
    {
     "data": {
      "application/json": "[\"ElementaryVector\"]",
      "text/html": [
       "<ul><li>ElementaryVector</li></ul>"
      ],
      "text/plain": [
       "ElementaryVector"
      ]
     },
     "execution_count": 109,
     "metadata": {},
     "output_type": "execute_result"
    }
   ],
   "source": [
    "function ElementaryVector(length : Int, index : Int) : Int[] {\n",
    "    return ConstantArray(length, 0) // [0, 0, ..., 0]\n",
    "           w/ index <- 1;           // replace the index'th element with 1.\n",
    "}"
   ]
  },
  {
   "cell_type": "code",
   "execution_count": 110,
   "metadata": {},
   "outputs": [
    {
     "data": {
      "application/json": "[0,1,0,0,0]",
      "text/html": [
       "<ul><li>0</li><li>1</li><li>0</li><li>0</li><li>0</li></ul>"
      ],
      "text/plain": [
       "0, 1, 0, 0, 0"
      ]
     },
     "execution_count": 110,
     "metadata": {},
     "output_type": "execute_result"
    }
   ],
   "source": [
    "%simulate ElementaryVector length=5 index=1"
   ]
  },
  {
   "cell_type": "markdown",
   "metadata": {
    "slideshow": {
     "slide_type": "slide"
    }
   },
   "source": [
    "Just as with other values in Q#, making a copy with `w/` doesn't affect the original."
   ]
  },
  {
   "cell_type": "code",
   "execution_count": 111,
   "metadata": {},
   "outputs": [
    {
     "data": {
      "application/json": "[\"ImmutabilityExample\"]",
      "text/html": [
       "<ul><li>ImmutabilityExample</li></ul>"
      ],
      "text/plain": [
       "ImmutabilityExample"
      ]
     },
     "execution_count": 111,
     "metadata": {},
     "output_type": "execute_result"
    }
   ],
   "source": [
    "function ImmutabilityExample() : Unit {\n",
    "    let data = [PauliI, PauliX, PauliY, PauliZ];\n",
    "    let newData = data w/ 1 <- PauliZ;\n",
    "    Message($\"old: {data}\\nnew: {newData}\");\n",
    "}"
   ]
  },
  {
   "cell_type": "code",
   "execution_count": 112,
   "metadata": {},
   "outputs": [
    {
     "name": "stdout",
     "output_type": "stream",
     "text": [
      "old: [PauliI,PauliX,PauliY,PauliZ]\n",
      "new: [PauliI,PauliZ,PauliY,PauliZ]\n"
     ]
    },
    {
     "data": {
      "application/json": "{\"@type\":\"tuple\"}",
      "text/plain": [
       "()"
      ]
     },
     "execution_count": 112,
     "metadata": {},
     "output_type": "execute_result"
    }
   ],
   "source": [
    "%simulate ImmutabilityExample"
   ]
  },
  {
   "cell_type": "markdown",
   "metadata": {
    "slideshow": {
     "slide_type": "slide"
    }
   },
   "source": [
    "You can combine `w/` and the `set` keyword to safely use arrays as mutable variables, without arrays themselves being mutable."
   ]
  },
  {
   "cell_type": "code",
   "execution_count": 113,
   "metadata": {},
   "outputs": [
    {
     "data": {
      "application/json": "[\"EstimateHistogram\"]",
      "text/html": [
       "<ul><li>EstimateHistogram</li></ul>"
      ],
      "text/plain": [
       "EstimateHistogram"
      ]
     },
     "execution_count": 113,
     "metadata": {},
     "output_type": "execute_result"
    }
   ],
   "source": [
    "open Microsoft.Quantum.Math;\n",
    "open Microsoft.Quantum.Arithmetic;\n",
    "\n",
    "operation EstimateHistogram(nQubits : Int) : Int[] {\n",
    "    mutable histogram = ConstantArray(PowI(2, nQubits), 0);\n",
    "    for (idxSample in 0..99) {\n",
    "        using (register = Qubit[nQubits]) {\n",
    "            ApplyToEach(H, register);\n",
    "            let index = MeasureInteger(LittleEndian(register));\n",
    "            set histogram w/= index <- histogram[index] + 1;\n",
    "        }\n",
    "    }\n",
    "    return histogram;\n",
    "}"
   ]
  },
  {
   "cell_type": "code",
   "execution_count": 116,
   "metadata": {},
   "outputs": [
    {
     "data": {
      "application/json": "[26,25,29,20]",
      "text/html": [
       "<ul><li>26</li><li>25</li><li>29</li><li>20</li></ul>"
      ],
      "text/plain": [
       "26, 25, 29, 20"
      ]
     },
     "execution_count": 116,
     "metadata": {},
     "output_type": "execute_result"
    }
   ],
   "source": [
    "%simulate EstimateHistogram nQubits=2"
   ]
  },
  {
   "cell_type": "markdown",
   "metadata": {
    "slideshow": {
     "slide_type": "slide"
    }
   },
   "source": [
    "## Types in Q#: Qubits"
   ]
  },
  {
   "cell_type": "markdown",
   "metadata": {},
   "source": [
    "The `using` statement can be used to either ask for a single qubit, or an array of qubits.\n",
    "\n",
    "Fresh qubits start off in the $|0\\rangle$ state."
   ]
  },
  {
   "cell_type": "code",
   "execution_count": 117,
   "metadata": {},
   "outputs": [
    {
     "data": {
      "application/json": "[\"AllocateRegister\"]",
      "text/html": [
       "<ul><li>AllocateRegister</li></ul>"
      ],
      "text/plain": [
       "AllocateRegister"
      ]
     },
     "execution_count": 117,
     "metadata": {},
     "output_type": "execute_result"
    }
   ],
   "source": [
    "open Microsoft.Quantum.Diagnostics;\n",
    "\n",
    "operation AllocateRegister(nQubits : Int) : Unit {\n",
    "    using (register = Qubit[nQubits]) {\n",
    "        DumpMachine();\n",
    "    }\n",
    "}"
   ]
  },
  {
   "cell_type": "code",
   "execution_count": 118,
   "metadata": {},
   "outputs": [
    {
     "data": {
      "application/json": "{\"QubitIds\":[0,1],\"NQubits\":2,\"Amplitudes\":[{\"Real\":1.0,\"Imaginary\":0.0,\"Magnitude\":1.0,\"Phase\":0.0},{\"Real\":0.0,\"Imaginary\":0.0,\"Magnitude\":0.0,\"Phase\":0.0},{\"Real\":0.0,\"Imaginary\":0.0,\"Magnitude\":0.0,\"Phase\":0.0},{\"Real\":0.0,\"Imaginary\":0.0,\"Magnitude\":0.0,\"Phase\":0.0}]}",
      "text/html": [
       "\r\n",
       "                    <table style=\"table-layout: fixed; width: 100%\">\r\n",
       "                        <thead>\r\n",
       "                            \r\n",
       "                        <tr>\r\n",
       "                            <th>Qubit IDs</th>\r\n",
       "                            <td span=\"3\">0, 1</td>\r\n",
       "                        </tr>\r\n",
       "                    \r\n",
       "                            <tr>\r\n",
       "                                <th style=\"width: 20ch)\">Basis state (bitstring)</th>\r\n",
       "                                <th style=\"width: 20ch\">Amplitude</th>\r\n",
       "                                <th style=\"width: calc(100% - 26ch - 20ch)\">Meas. Pr.</th>\r\n",
       "                                <th style=\"width: 6ch\">Phase</th>\r\n",
       "                            </tr>\r\n",
       "                        </thead>\r\n",
       "\r\n",
       "                        <tbody>\r\n",
       "                            \r\n",
       "                            <tr>\r\n",
       "                                <td>$\\left|00\\right\\rangle$</td>\r\n",
       "                                <td>$1.0000 + 0.0000 i$</td>\r\n",
       "                                <td>\r\n",
       "                                    <progress\r\n",
       "                                        max=\"100\"\r\n",
       "                                        value=\"100\"\r\n",
       "                                        style=\"width: 100%;\"\r\n",
       "                                    >\r\n",
       "                                </td>\r\n",
       "                                \r\n",
       "                                <td style=\"transform: rotate(0deg);\r\n",
       "                   text-align: center;\">\r\n",
       "                                 ↑\r\n",
       "                                </td>\r\n",
       "                            \r\n",
       "                            </tr>\r\n",
       "                        \r\n",
       "                        </tbody>\r\n",
       "                    </table>\r\n",
       "                "
      ],
      "text/plain": [
       "|00⟩\t1 + 0𝑖"
      ]
     },
     "metadata": {},
     "output_type": "display_data"
    },
    {
     "data": {
      "application/json": "{\"@type\":\"tuple\"}",
      "text/plain": [
       "()"
      ]
     },
     "execution_count": 118,
     "metadata": {},
     "output_type": "execute_result"
    }
   ],
   "source": [
    "%simulate AllocateRegister nQubits=2"
   ]
  },
  {
   "cell_type": "code",
   "execution_count": 119,
   "metadata": {},
   "outputs": [
    {
     "data": {
      "application/json": "{\"QubitIds\":[0,1,2,3,4,5],\"NQubits\":6,\"Amplitudes\":[{\"Real\":1.0,\"Imaginary\":0.0,\"Magnitude\":1.0,\"Phase\":0.0},{\"Real\":0.0,\"Imaginary\":0.0,\"Magnitude\":0.0,\"Phase\":0.0},{\"Real\":0.0,\"Imaginary\":0.0,\"Magnitude\":0.0,\"Phase\":0.0},{\"Real\":0.0,\"Imaginary\":0.0,\"Magnitude\":0.0,\"Phase\":0.0},{\"Real\":0.0,\"Imaginary\":0.0,\"Magnitude\":0.0,\"Phase\":0.0},{\"Real\":0.0,\"Imaginary\":0.0,\"Magnitude\":0.0,\"Phase\":0.0},{\"Real\":0.0,\"Imaginary\":0.0,\"Magnitude\":0.0,\"Phase\":0.0},{\"Real\":0.0,\"Imaginary\":0.0,\"Magnitude\":0.0,\"Phase\":0.0},{\"Real\":0.0,\"Imaginary\":0.0,\"Magnitude\":0.0,\"Phase\":0.0},{\"Real\":0.0,\"Imaginary\":0.0,\"Magnitude\":0.0,\"Phase\":0.0},{\"Real\":0.0,\"Imaginary\":0.0,\"Magnitude\":0.0,\"Phase\":0.0},{\"Real\":0.0,\"Imaginary\":0.0,\"Magnitude\":0.0,\"Phase\":0.0},{\"Real\":0.0,\"Imaginary\":0.0,\"Magnitude\":0.0,\"Phase\":0.0},{\"Real\":0.0,\"Imaginary\":0.0,\"Magnitude\":0.0,\"Phase\":0.0},{\"Real\":0.0,\"Imaginary\":0.0,\"Magnitude\":0.0,\"Phase\":0.0},{\"Real\":0.0,\"Imaginary\":0.0,\"Magnitude\":0.0,\"Phase\":0.0},{\"Real\":0.0,\"Imaginary\":0.0,\"Magnitude\":0.0,\"Phase\":0.0},{\"Real\":0.0,\"Imaginary\":0.0,\"Magnitude\":0.0,\"Phase\":0.0},{\"Real\":0.0,\"Imaginary\":0.0,\"Magnitude\":0.0,\"Phase\":0.0},{\"Real\":0.0,\"Imaginary\":0.0,\"Magnitude\":0.0,\"Phase\":0.0},{\"Real\":0.0,\"Imaginary\":0.0,\"Magnitude\":0.0,\"Phase\":0.0},{\"Real\":0.0,\"Imaginary\":0.0,\"Magnitude\":0.0,\"Phase\":0.0},{\"Real\":0.0,\"Imaginary\":0.0,\"Magnitude\":0.0,\"Phase\":0.0},{\"Real\":0.0,\"Imaginary\":0.0,\"Magnitude\":0.0,\"Phase\":0.0},{\"Real\":0.0,\"Imaginary\":0.0,\"Magnitude\":0.0,\"Phase\":0.0},{\"Real\":0.0,\"Imaginary\":0.0,\"Magnitude\":0.0,\"Phase\":0.0},{\"Real\":0.0,\"Imaginary\":0.0,\"Magnitude\":0.0,\"Phase\":0.0},{\"Real\":0.0,\"Imaginary\":0.0,\"Magnitude\":0.0,\"Phase\":0.0},{\"Real\":0.0,\"Imaginary\":0.0,\"Magnitude\":0.0,\"Phase\":0.0},{\"Real\":0.0,\"Imaginary\":0.0,\"Magnitude\":0.0,\"Phase\":0.0},{\"Real\":0.0,\"Imaginary\":0.0,\"Magnitude\":0.0,\"Phase\":0.0},{\"Real\":0.0,\"Imaginary\":0.0,\"Magnitude\":0.0,\"Phase\":0.0},{\"Real\":0.0,\"Imaginary\":0.0,\"Magnitude\":0.0,\"Phase\":0.0},{\"Real\":0.0,\"Imaginary\":0.0,\"Magnitude\":0.0,\"Phase\":0.0},{\"Real\":0.0,\"Imaginary\":0.0,\"Magnitude\":0.0,\"Phase\":0.0},{\"Real\":0.0,\"Imaginary\":0.0,\"Magnitude\":0.0,\"Phase\":0.0},{\"Real\":0.0,\"Imaginary\":0.0,\"Magnitude\":0.0,\"Phase\":0.0},{\"Real\":0.0,\"Imaginary\":0.0,\"Magnitude\":0.0,\"Phase\":0.0},{\"Real\":0.0,\"Imaginary\":0.0,\"Magnitude\":0.0,\"Phase\":0.0},{\"Real\":0.0,\"Imaginary\":0.0,\"Magnitude\":0.0,\"Phase\":0.0},{\"Real\":0.0,\"Imaginary\":0.0,\"Magnitude\":0.0,\"Phase\":0.0},{\"Real\":0.0,\"Imaginary\":0.0,\"Magnitude\":0.0,\"Phase\":0.0},{\"Real\":0.0,\"Imaginary\":0.0,\"Magnitude\":0.0,\"Phase\":0.0},{\"Real\":0.0,\"Imaginary\":0.0,\"Magnitude\":0.0,\"Phase\":0.0},{\"Real\":0.0,\"Imaginary\":0.0,\"Magnitude\":0.0,\"Phase\":0.0},{\"Real\":0.0,\"Imaginary\":0.0,\"Magnitude\":0.0,\"Phase\":0.0},{\"Real\":0.0,\"Imaginary\":0.0,\"Magnitude\":0.0,\"Phase\":0.0},{\"Real\":0.0,\"Imaginary\":0.0,\"Magnitude\":0.0,\"Phase\":0.0},{\"Real\":0.0,\"Imaginary\":0.0,\"Magnitude\":0.0,\"Phase\":0.0},{\"Real\":0.0,\"Imaginary\":0.0,\"Magnitude\":0.0,\"Phase\":0.0},{\"Real\":0.0,\"Imaginary\":0.0,\"Magnitude\":0.0,\"Phase\":0.0},{\"Real\":0.0,\"Imaginary\":0.0,\"Magnitude\":0.0,\"Phase\":0.0},{\"Real\":0.0,\"Imaginary\":0.0,\"Magnitude\":0.0,\"Phase\":0.0},{\"Real\":0.0,\"Imaginary\":0.0,\"Magnitude\":0.0,\"Phase\":0.0},{\"Real\":0.0,\"Imaginary\":0.0,\"Magnitude\":0.0,\"Phase\":0.0},{\"Real\":0.0,\"Imaginary\":0.0,\"Magnitude\":0.0,\"Phase\":0.0},{\"Real\":0.0,\"Imaginary\":0.0,\"Magnitude\":0.0,\"Phase\":0.0},{\"Real\":0.0,\"Imaginary\":0.0,\"Magnitude\":0.0,\"Phase\":0.0},{\"Real\":0.0,\"Imaginary\":0.0,\"Magnitude\":0.0,\"Phase\":0.0},{\"Real\":0.0,\"Imaginary\":0.0,\"Magnitude\":0.0,\"Phase\":0.0},{\"Real\":0.0,\"Imaginary\":0.0,\"Magnitude\":0.0,\"Phase\":0.0},{\"Real\":0.0,\"Imaginary\":0.0,\"Magnitude\":0.0,\"Phase\":0.0},{\"Real\":0.0,\"Imaginary\":0.0,\"Magnitude\":0.0,\"Phase\":0.0},{\"Real\":0.0,\"Imaginary\":0.0,\"Magnitude\":0.0,\"Phase\":0.0}]}",
      "text/html": [
       "\r\n",
       "                    <table style=\"table-layout: fixed; width: 100%\">\r\n",
       "                        <thead>\r\n",
       "                            \r\n",
       "                        <tr>\r\n",
       "                            <th>Qubit IDs</th>\r\n",
       "                            <td span=\"3\">0, 1, 2, 3, 4, 5</td>\r\n",
       "                        </tr>\r\n",
       "                    \r\n",
       "                            <tr>\r\n",
       "                                <th style=\"width: 20ch)\">Basis state (bitstring)</th>\r\n",
       "                                <th style=\"width: 20ch\">Amplitude</th>\r\n",
       "                                <th style=\"width: calc(100% - 26ch - 20ch)\">Meas. Pr.</th>\r\n",
       "                                <th style=\"width: 6ch\">Phase</th>\r\n",
       "                            </tr>\r\n",
       "                        </thead>\r\n",
       "\r\n",
       "                        <tbody>\r\n",
       "                            \r\n",
       "                            <tr>\r\n",
       "                                <td>$\\left|000000\\right\\rangle$</td>\r\n",
       "                                <td>$1.0000 + 0.0000 i$</td>\r\n",
       "                                <td>\r\n",
       "                                    <progress\r\n",
       "                                        max=\"100\"\r\n",
       "                                        value=\"100\"\r\n",
       "                                        style=\"width: 100%;\"\r\n",
       "                                    >\r\n",
       "                                </td>\r\n",
       "                                \r\n",
       "                                <td style=\"transform: rotate(0deg);\r\n",
       "                   text-align: center;\">\r\n",
       "                                 ↑\r\n",
       "                                </td>\r\n",
       "                            \r\n",
       "                            </tr>\r\n",
       "                        \r\n",
       "                        </tbody>\r\n",
       "                    </table>\r\n",
       "                "
      ],
      "text/plain": [
       "|000000⟩\t1 + 0𝑖"
      ]
     },
     "metadata": {},
     "output_type": "display_data"
    },
    {
     "data": {
      "application/json": "{\"@type\":\"tuple\"}",
      "text/plain": [
       "()"
      ]
     },
     "execution_count": 119,
     "metadata": {},
     "output_type": "execute_result"
    }
   ],
   "source": [
    "%simulate AllocateRegister nQubits=6"
   ]
  },
  {
   "cell_type": "markdown",
   "metadata": {
    "slideshow": {
     "slide_type": "slide"
    }
   },
   "source": [
    "## Control Flow in Q#:  `Adjoint` and `Controlled`"
   ]
  },
  {
   "cell_type": "markdown",
   "metadata": {},
   "source": [
    "The `Adjoint` and `Controlled` keywords let you automatically undo or control Q# operations."
   ]
  },
  {
   "cell_type": "code",
   "execution_count": 120,
   "metadata": {},
   "outputs": [
    {
     "data": {
      "application/json": "[\"DemonstrateAdjoint\"]",
      "text/html": [
       "<ul><li>DemonstrateAdjoint</li></ul>"
      ],
      "text/plain": [
       "DemonstrateAdjoint"
      ]
     },
     "execution_count": 120,
     "metadata": {},
     "output_type": "execute_result"
    }
   ],
   "source": [
    "operation DemonstrateAdjoint(angle : Double) : Unit {\n",
    "    using ((left, right) = (Qubit(), Qubit())) {\n",
    "        Ry(angle, left);\n",
    "        SWAP(left, right);\n",
    "        Adjoint Ry(angle, right);\n",
    "        DumpMachine();\n",
    "    }\n",
    "}"
   ]
  },
  {
   "cell_type": "code",
   "execution_count": 121,
   "metadata": {},
   "outputs": [
    {
     "data": {
      "application/json": "{\"QubitIds\":[0,1],\"NQubits\":2,\"Amplitudes\":[{\"Real\":1.0,\"Imaginary\":0.0,\"Magnitude\":1.0,\"Phase\":0.0},{\"Real\":0.0,\"Imaginary\":0.0,\"Magnitude\":0.0,\"Phase\":0.0},{\"Real\":0.0,\"Imaginary\":0.0,\"Magnitude\":0.0,\"Phase\":0.0},{\"Real\":0.0,\"Imaginary\":0.0,\"Magnitude\":0.0,\"Phase\":0.0}]}",
      "text/html": [
       "\r\n",
       "                    <table style=\"table-layout: fixed; width: 100%\">\r\n",
       "                        <thead>\r\n",
       "                            \r\n",
       "                        <tr>\r\n",
       "                            <th>Qubit IDs</th>\r\n",
       "                            <td span=\"3\">0, 1</td>\r\n",
       "                        </tr>\r\n",
       "                    \r\n",
       "                            <tr>\r\n",
       "                                <th style=\"width: 20ch)\">Basis state (bitstring)</th>\r\n",
       "                                <th style=\"width: 20ch\">Amplitude</th>\r\n",
       "                                <th style=\"width: calc(100% - 26ch - 20ch)\">Meas. Pr.</th>\r\n",
       "                                <th style=\"width: 6ch\">Phase</th>\r\n",
       "                            </tr>\r\n",
       "                        </thead>\r\n",
       "\r\n",
       "                        <tbody>\r\n",
       "                            \r\n",
       "                            <tr>\r\n",
       "                                <td>$\\left|00\\right\\rangle$</td>\r\n",
       "                                <td>$1.0000 + 0.0000 i$</td>\r\n",
       "                                <td>\r\n",
       "                                    <progress\r\n",
       "                                        max=\"100\"\r\n",
       "                                        value=\"100\"\r\n",
       "                                        style=\"width: 100%;\"\r\n",
       "                                    >\r\n",
       "                                </td>\r\n",
       "                                \r\n",
       "                                <td style=\"transform: rotate(0deg);\r\n",
       "                   text-align: center;\">\r\n",
       "                                 ↑\r\n",
       "                                </td>\r\n",
       "                            \r\n",
       "                            </tr>\r\n",
       "                        \r\n",
       "                        </tbody>\r\n",
       "                    </table>\r\n",
       "                "
      ],
      "text/plain": [
       "|00⟩\t1 + 0𝑖"
      ]
     },
     "metadata": {},
     "output_type": "display_data"
    },
    {
     "data": {
      "application/json": "{\"@type\":\"tuple\"}",
      "text/plain": [
       "()"
      ]
     },
     "execution_count": 121,
     "metadata": {},
     "output_type": "execute_result"
    }
   ],
   "source": [
    "%simulate DemonstrateAdjoint angle=0.356"
   ]
  },
  {
   "cell_type": "markdown",
   "metadata": {
    "slideshow": {
     "slide_type": "slide"
    }
   },
   "source": [
    "By adding `is Adj` to your operation definitions, you can use `Adjoint` with them as well as with built-in operations like `X` and `Ry`."
   ]
  },
  {
   "cell_type": "code",
   "execution_count": 122,
   "metadata": {},
   "outputs": [
    {
     "data": {
      "application/json": "[\"RotateAboutPlus\"]",
      "text/html": [
       "<ul><li>RotateAboutPlus</li></ul>"
      ],
      "text/plain": [
       "RotateAboutPlus"
      ]
     },
     "execution_count": 122,
     "metadata": {},
     "output_type": "execute_result"
    }
   ],
   "source": [
    "operation RotateAboutPlus(angle : Double, target : Qubit) : Unit is Adj {\n",
    "    H(target);\n",
    "    R1(angle, target);\n",
    "    H(target);\n",
    "}"
   ]
  },
  {
   "cell_type": "code",
   "execution_count": 123,
   "metadata": {},
   "outputs": [
    {
     "data": {
      "application/json": "[\"DemonstrateRotationAboutPlus\"]",
      "text/html": [
       "<ul><li>DemonstrateRotationAboutPlus</li></ul>"
      ],
      "text/plain": [
       "DemonstrateRotationAboutPlus"
      ]
     },
     "execution_count": 123,
     "metadata": {},
     "output_type": "execute_result"
    }
   ],
   "source": [
    "operation DemonstrateRotationAboutPlus(angle : Double) : Unit {\n",
    "    using (q = Qubit()) {\n",
    "        RotateAboutPlus(angle, q);\n",
    "        DumpMachine();\n",
    "        Adjoint RotateAboutPlus(angle, q);\n",
    "        DumpMachine();\n",
    "    }\n",
    "}"
   ]
  },
  {
   "cell_type": "code",
   "execution_count": 124,
   "metadata": {},
   "outputs": [
    {
     "data": {
      "application/json": "{\"QubitIds\":[0],\"NQubits\":1,\"Amplitudes\":[{\"Real\":0.665232554035865,\"Imaginary\":0.4719091046873169,\"Magnitude\":0.8156178970791808,\"Phase\":0.617},{\"Real\":0.3347674459641352,\"Imaginary\":-0.4719091046873169,\"Magnitude\":0.5785909141735076,\"Phase\":-0.9537963267948965}]}",
      "text/html": [
       "\r\n",
       "                    <table style=\"table-layout: fixed; width: 100%\">\r\n",
       "                        <thead>\r\n",
       "                            \r\n",
       "                        <tr>\r\n",
       "                            <th>Qubit IDs</th>\r\n",
       "                            <td span=\"3\">0</td>\r\n",
       "                        </tr>\r\n",
       "                    \r\n",
       "                            <tr>\r\n",
       "                                <th style=\"width: 20ch)\">Basis state (bitstring)</th>\r\n",
       "                                <th style=\"width: 20ch\">Amplitude</th>\r\n",
       "                                <th style=\"width: calc(100% - 26ch - 20ch)\">Meas. Pr.</th>\r\n",
       "                                <th style=\"width: 6ch\">Phase</th>\r\n",
       "                            </tr>\r\n",
       "                        </thead>\r\n",
       "\r\n",
       "                        <tbody>\r\n",
       "                            \r\n",
       "                            <tr>\r\n",
       "                                <td>$\\left|0\\right\\rangle$</td>\r\n",
       "                                <td>$0.6652 + 0.4719 i$</td>\r\n",
       "                                <td>\r\n",
       "                                    <progress\r\n",
       "                                        max=\"100\"\r\n",
       "                                        value=\"66.52325540358652\"\r\n",
       "                                        style=\"width: 100%;\"\r\n",
       "                                    >\r\n",
       "                                </td>\r\n",
       "                                \r\n",
       "                                <td style=\"transform: rotate(35.35149595957179deg);\r\n",
       "                   text-align: center;\">\r\n",
       "                                 ↑\r\n",
       "                                </td>\r\n",
       "                            \r\n",
       "                            </tr>\r\n",
       "                        \n",
       "\r\n",
       "                            <tr>\r\n",
       "                                <td>$\\left|1\\right\\rangle$</td>\r\n",
       "                                <td>$0.3348  -0.4719 i$</td>\r\n",
       "                                <td>\r\n",
       "                                    <progress\r\n",
       "                                        max=\"100\"\r\n",
       "                                        value=\"33.476744596413525\"\r\n",
       "                                        style=\"width: 100%;\"\r\n",
       "                                    >\r\n",
       "                                </td>\r\n",
       "                                \r\n",
       "                                <td style=\"transform: rotate(-54.6485040404282deg);\r\n",
       "                   text-align: center;\">\r\n",
       "                                 ↑\r\n",
       "                                </td>\r\n",
       "                            \r\n",
       "                            </tr>\r\n",
       "                        \r\n",
       "                        </tbody>\r\n",
       "                    </table>\r\n",
       "                "
      ],
      "text/plain": [
       "|0⟩\t0.665232554035865 + 0.4719091046873169𝑖\n",
       "|1⟩\t0.3347674459641352 + -0.4719091046873169𝑖"
      ]
     },
     "metadata": {},
     "output_type": "display_data"
    },
    {
     "data": {
      "application/json": "{\"QubitIds\":[0],\"NQubits\":1,\"Amplitudes\":[{\"Real\":1.0000000000000002,\"Imaginary\":2.998097765362545E-17,\"Magnitude\":1.0000000000000002,\"Phase\":2.9980977653625446E-17},{\"Real\":1.737794096951275E-16,\"Imaginary\":-2.3743545901930318E-17,\"Magnitude\":1.7539395430283235E-16,\"Phase\":-0.1357895737292557}]}",
      "text/html": [
       "\r\n",
       "                    <table style=\"table-layout: fixed; width: 100%\">\r\n",
       "                        <thead>\r\n",
       "                            \r\n",
       "                        <tr>\r\n",
       "                            <th>Qubit IDs</th>\r\n",
       "                            <td span=\"3\">0</td>\r\n",
       "                        </tr>\r\n",
       "                    \r\n",
       "                            <tr>\r\n",
       "                                <th style=\"width: 20ch)\">Basis state (bitstring)</th>\r\n",
       "                                <th style=\"width: 20ch\">Amplitude</th>\r\n",
       "                                <th style=\"width: calc(100% - 26ch - 20ch)\">Meas. Pr.</th>\r\n",
       "                                <th style=\"width: 6ch\">Phase</th>\r\n",
       "                            </tr>\r\n",
       "                        </thead>\r\n",
       "\r\n",
       "                        <tbody>\r\n",
       "                            \r\n",
       "                            <tr>\r\n",
       "                                <td>$\\left|0\\right\\rangle$</td>\r\n",
       "                                <td>$1.0000 + 0.0000 i$</td>\r\n",
       "                                <td>\r\n",
       "                                    <progress\r\n",
       "                                        max=\"100\"\r\n",
       "                                        value=\"100.00000000000004\"\r\n",
       "                                        style=\"width: 100%;\"\r\n",
       "                                    >\r\n",
       "                                </td>\r\n",
       "                                \r\n",
       "                                <td style=\"transform: rotate(1.7177834852287717E-15deg);\r\n",
       "                   text-align: center;\">\r\n",
       "                                 ↑\r\n",
       "                                </td>\r\n",
       "                            \r\n",
       "                            </tr>\r\n",
       "                        \r\n",
       "                        </tbody>\r\n",
       "                    </table>\r\n",
       "                "
      ],
      "text/plain": [
       "|0⟩\t1.0000000000000002 + 2.998097765362545E-17𝑖"
      ]
     },
     "metadata": {},
     "output_type": "display_data"
    },
    {
     "data": {
      "application/json": "{\"@type\":\"tuple\"}",
      "text/plain": [
       "()"
      ]
     },
     "execution_count": 124,
     "metadata": {},
     "output_type": "execute_result"
    }
   ],
   "source": [
    "%simulate DemonstrateRotationAboutPlus angle=1.234"
   ]
  },
  {
   "cell_type": "markdown",
   "metadata": {
    "slideshow": {
     "slide_type": "slide"
    }
   },
   "source": [
    "`Controlled` lets you control quantum operations on another register being in the $|11\\cdots 1\\rangle$ state."
   ]
  },
  {
   "cell_type": "markdown",
   "metadata": {},
   "source": [
    "| Gate | Q# Operation | Q# Shorthand |\n",
    "|---|---|---|\n",
    "| $X$ | `X(target)` | - |\n",
    "| CNOT | `Controlled X([control], target)` | `CNOT(control, target)` |\n",
    "| CZ | `Controlled Z([control], target)` | `CZ(control, target)` |\n",
    "| Toffoli | `Controlled X([control1, control2], target)` | `CCNOT(control1, control2, target)` |\n",
    "| Fredkin | `Controlled SWAP([control], (target1, target2))` | - |\n"
   ]
  },
  {
   "cell_type": "markdown",
   "metadata": {},
   "source": [
    "The `Controlled` keyword can be used with any operation that has `is Ctl` in its signature."
   ]
  },
  {
   "cell_type": "markdown",
   "metadata": {
    "slideshow": {
     "slide_type": "slide"
    }
   },
   "source": [
    "## Types in Q#: Functions and Operations as Values"
   ]
  },
  {
   "cell_type": "markdown",
   "metadata": {},
   "source": [
    "With `Adjoint` and `Controlled` aside, we can come back to the last two kinds of types you'll commonly encounter in Q#:\n",
    "\n",
    "functions and operations themselves."
   ]
  },
  {
   "cell_type": "code",
   "execution_count": 125,
   "metadata": {},
   "outputs": [
    {
     "data": {
      "application/json": "[\"ApplyTwiceCA\"]",
      "text/html": [
       "<ul><li>ApplyTwiceCA</li></ul>"
      ],
      "text/plain": [
       "ApplyTwiceCA"
      ]
     },
     "execution_count": 125,
     "metadata": {},
     "output_type": "execute_result"
    }
   ],
   "source": [
    "operation ApplyTwiceCA<'T>(op : ('T => Unit is Adj + Ctl), input : 'T) : Unit is Adj + Ctl {\n",
    "    op(input);\n",
    "    op(input);\n",
    "}"
   ]
  },
  {
   "cell_type": "markdown",
   "metadata": {
    "slideshow": {
     "slide_type": "-"
    }
   },
   "source": [
    "The type `'T => Unit is Adj + Ctl` represents any operation that returns `Unit`, is adjointable, and controllable."
   ]
  },
  {
   "cell_type": "code",
   "execution_count": 126,
   "metadata": {},
   "outputs": [
    {
     "data": {
      "application/json": "[\"DoNothing\"]",
      "text/html": [
       "<ul><li>DoNothing</li></ul>"
      ],
      "text/plain": [
       "DoNothing"
      ]
     },
     "execution_count": 126,
     "metadata": {},
     "output_type": "execute_result"
    }
   ],
   "source": [
    "operation DoNothing(target : Qubit) : Unit is Adj + Ctl {\n",
    "    ApplyTwiceCA(H, target);\n",
    "}"
   ]
  },
  {
   "cell_type": "markdown",
   "metadata": {
    "slideshow": {
     "slide_type": "slide"
    }
   },
   "source": [
    "### Partial application"
   ]
  },
  {
   "cell_type": "markdown",
   "metadata": {},
   "source": [
    "Q# provides one more tool to make it easier to use functions and operations together.\n",
    "\n",
    "If you give _part_ of the input to a function or operation, you get back a new function or operation that takes the remainder of the input."
   ]
  },
  {
   "cell_type": "code",
   "execution_count": 127,
   "metadata": {
    "slideshow": {
     "slide_type": "slide"
    }
   },
   "outputs": [
    {
     "data": {
      "application/json": "[\"PiOverNRotation\"]",
      "text/html": [
       "<ul><li>PiOverNRotation</li></ul>"
      ],
      "text/plain": [
       "PiOverNRotation"
      ]
     },
     "execution_count": 127,
     "metadata": {},
     "output_type": "execute_result"
    }
   ],
   "source": [
    "open Microsoft.Quantum.Convert;\n",
    "\n",
    "function PiOverNRotation(denominator : Int) : (Qubit => Unit is Adj + Ctl) {\n",
    "    return Ry(PI() / IntAsDouble(denominator), _);\n",
    "}"
   ]
  },
  {
   "cell_type": "code",
   "execution_count": 128,
   "metadata": {},
   "outputs": [
    {
     "data": {
      "application/json": "[\"DemonstratePiOverNRotation\"]",
      "text/html": [
       "<ul><li>DemonstratePiOverNRotation</li></ul>"
      ],
      "text/plain": [
       "DemonstratePiOverNRotation"
      ]
     },
     "execution_count": 128,
     "metadata": {},
     "output_type": "execute_result"
    }
   ],
   "source": [
    "operation DemonstratePiOverNRotation(denominator : Int) : Unit  {\n",
    "    let rotateByPiOverN = PiOverNRotation(denominator);\n",
    "    using (q = Qubit()) {\n",
    "        rotateByPiOverN(q);\n",
    "        DumpMachine();\n",
    "        Adjoint rotateByPiOverN(q);\n",
    "    }\n",
    "}"
   ]
  },
  {
   "cell_type": "code",
   "execution_count": 129,
   "metadata": {},
   "outputs": [
    {
     "data": {
      "application/json": "{\"QubitIds\":[0],\"NQubits\":1,\"Amplitudes\":[{\"Real\":0.9749279121818236,\"Imaginary\":0.0,\"Magnitude\":0.9749279121818236,\"Phase\":0.0},{\"Real\":0.2225209339563144,\"Imaginary\":0.0,\"Magnitude\":0.2225209339563144,\"Phase\":0.0}]}",
      "text/html": [
       "\r\n",
       "                    <table style=\"table-layout: fixed; width: 100%\">\r\n",
       "                        <thead>\r\n",
       "                            \r\n",
       "                        <tr>\r\n",
       "                            <th>Qubit IDs</th>\r\n",
       "                            <td span=\"3\">0</td>\r\n",
       "                        </tr>\r\n",
       "                    \r\n",
       "                            <tr>\r\n",
       "                                <th style=\"width: 20ch)\">Basis state (bitstring)</th>\r\n",
       "                                <th style=\"width: 20ch\">Amplitude</th>\r\n",
       "                                <th style=\"width: calc(100% - 26ch - 20ch)\">Meas. Pr.</th>\r\n",
       "                                <th style=\"width: 6ch\">Phase</th>\r\n",
       "                            </tr>\r\n",
       "                        </thead>\r\n",
       "\r\n",
       "                        <tbody>\r\n",
       "                            \r\n",
       "                            <tr>\r\n",
       "                                <td>$\\left|0\\right\\rangle$</td>\r\n",
       "                                <td>$0.9749 + 0.0000 i$</td>\r\n",
       "                                <td>\r\n",
       "                                    <progress\r\n",
       "                                        max=\"100\"\r\n",
       "                                        value=\"95.04844339512097\"\r\n",
       "                                        style=\"width: 100%;\"\r\n",
       "                                    >\r\n",
       "                                </td>\r\n",
       "                                \r\n",
       "                                <td style=\"transform: rotate(0deg);\r\n",
       "                   text-align: center;\">\r\n",
       "                                 ↑\r\n",
       "                                </td>\r\n",
       "                            \r\n",
       "                            </tr>\r\n",
       "                        \n",
       "\r\n",
       "                            <tr>\r\n",
       "                                <td>$\\left|1\\right\\rangle$</td>\r\n",
       "                                <td>$0.2225 + 0.0000 i$</td>\r\n",
       "                                <td>\r\n",
       "                                    <progress\r\n",
       "                                        max=\"100\"\r\n",
       "                                        value=\"4.951556604879044\"\r\n",
       "                                        style=\"width: 100%;\"\r\n",
       "                                    >\r\n",
       "                                </td>\r\n",
       "                                \r\n",
       "                                <td style=\"transform: rotate(0deg);\r\n",
       "                   text-align: center;\">\r\n",
       "                                 ↑\r\n",
       "                                </td>\r\n",
       "                            \r\n",
       "                            </tr>\r\n",
       "                        \r\n",
       "                        </tbody>\r\n",
       "                    </table>\r\n",
       "                "
      ],
      "text/plain": [
       "|0⟩\t0.9749279121818236 + 0𝑖\n",
       "|1⟩\t0.2225209339563144 + 0𝑖"
      ]
     },
     "metadata": {},
     "output_type": "display_data"
    },
    {
     "data": {
      "application/json": "{\"@type\":\"tuple\"}",
      "text/plain": [
       "()"
      ]
     },
     "execution_count": 129,
     "metadata": {},
     "output_type": "execute_result"
    }
   ],
   "source": [
    "%simulate DemonstratePiOverNRotation denominator=7"
   ]
  },
  {
   "cell_type": "markdown",
   "metadata": {
    "slideshow": {
     "slide_type": "slide"
    }
   },
   "source": [
    "By passing operations to other functions and operations, and by using partial application, we can build powerful control patterns quickly."
   ]
  },
  {
   "cell_type": "code",
   "execution_count": 130,
   "metadata": {
    "slideshow": {
     "slide_type": "-"
    }
   },
   "outputs": [
    {
     "data": {
      "application/json": "[\"AssertHTwiceDoesNothing\"]",
      "text/html": [
       "<ul><li>AssertHTwiceDoesNothing</li></ul>"
      ],
      "text/plain": [
       "AssertHTwiceDoesNothing"
      ]
     },
     "execution_count": 130,
     "metadata": {},
     "output_type": "execute_result"
    }
   ],
   "source": [
    "operation AssertHTwiceDoesNothing() : Unit {\n",
    "    AssertOperationsEqualReferenced(1,\n",
    "        ApplyToFirstQubitCA(ApplyTwiceCA(H, _), _),\n",
    "        ApplyToFirstQubitCA(I, _)\n",
    "    );\n",
    "}"
   ]
  },
  {
   "cell_type": "code",
   "execution_count": 131,
   "metadata": {},
   "outputs": [
    {
     "data": {
      "application/json": "{\"@type\":\"tuple\"}",
      "text/plain": [
       "()"
      ]
     },
     "execution_count": 131,
     "metadata": {},
     "output_type": "execute_result"
    }
   ],
   "source": [
    "%simulate AssertHTwiceDoesNothing"
   ]
  },
  {
   "cell_type": "markdown",
   "metadata": {
    "slideshow": {
     "slide_type": "slide"
    }
   },
   "source": [
    "## Control Flow in Q#: `within` and `apply`"
   ]
  },
  {
   "cell_type": "markdown",
   "metadata": {},
   "source": [
    "Patterns like $U^\\dagger V U$ are very common in quantum computing, and are specially supported in Q#."
   ]
  },
  {
   "cell_type": "code",
   "execution_count": 132,
   "metadata": {},
   "outputs": [
    {
     "data": {
      "application/json": "[\"ReflectAboutUniformSuperposition\"]",
      "text/html": [
       "<ul><li>ReflectAboutUniformSuperposition</li></ul>"
      ],
      "text/plain": [
       "ReflectAboutUniformSuperposition"
      ]
     },
     "execution_count": 132,
     "metadata": {},
     "output_type": "execute_result"
    }
   ],
   "source": [
    "operation ReflectAboutUniformSuperposition(register : Qubit[]) : Unit is Adj + Ctl {\n",
    "    within {\n",
    "        // Map |++⋯+⟩ to |00⋯0⟩.\n",
    "        ApplyToEachCA(H, register);\n",
    "        // Map |00⋯0⟩ to |11⋯1⟩.\n",
    "        ApplyToEachCA(X, register);\n",
    "    } apply {\n",
    "        // Reflect about |11⋯1⟩.\n",
    "        Controlled Z(Most(register), Tail(register));\n",
    "    }\n",
    "    // The mappings |00⋯0⟩ → |11⋯1⟩ and |++⋯+⟩ → |00⋯0⟩ are automatically\n",
    "    // undone after the apply block.\n",
    "}"
   ]
  },
  {
   "cell_type": "code",
   "execution_count": 133,
   "metadata": {
    "slideshow": {
     "slide_type": "slide"
    }
   },
   "outputs": [
    {
     "data": {
      "application/json": "[\"DemoReflection\"]",
      "text/html": [
       "<ul><li>DemoReflection</li></ul>"
      ],
      "text/plain": [
       "DemoReflection"
      ]
     },
     "execution_count": 133,
     "metadata": {},
     "output_type": "execute_result"
    }
   ],
   "source": [
    "operation DemoReflection() : Unit {\n",
    "    using (register = Qubit[3]) {\n",
    "        within {\n",
    "            ReflectAboutUniformSuperposition(register);\n",
    "        } apply {\n",
    "            DumpMachine();\n",
    "        }\n",
    "    }\n",
    "}"
   ]
  },
  {
   "cell_type": "code",
   "execution_count": 134,
   "metadata": {},
   "outputs": [
    {
     "data": {
      "application/json": "{\"QubitIds\":[0,1,2],\"NQubits\":3,\"Amplitudes\":[{\"Real\":0.7500000000000002,\"Imaginary\":0.0,\"Magnitude\":0.7500000000000002,\"Phase\":0.0},{\"Real\":-0.25000000000000006,\"Imaginary\":0.0,\"Magnitude\":0.25000000000000006,\"Phase\":3.141592653589793},{\"Real\":-0.25000000000000006,\"Imaginary\":0.0,\"Magnitude\":0.25000000000000006,\"Phase\":3.141592653589793},{\"Real\":-0.25000000000000006,\"Imaginary\":0.0,\"Magnitude\":0.25000000000000006,\"Phase\":3.141592653589793},{\"Real\":-0.25000000000000006,\"Imaginary\":0.0,\"Magnitude\":0.25000000000000006,\"Phase\":3.141592653589793},{\"Real\":-0.25000000000000006,\"Imaginary\":0.0,\"Magnitude\":0.25000000000000006,\"Phase\":3.141592653589793},{\"Real\":-0.25000000000000006,\"Imaginary\":0.0,\"Magnitude\":0.25000000000000006,\"Phase\":3.141592653589793},{\"Real\":-0.25000000000000006,\"Imaginary\":0.0,\"Magnitude\":0.25000000000000006,\"Phase\":3.141592653589793}]}",
      "text/html": [
       "\r\n",
       "                    <table style=\"table-layout: fixed; width: 100%\">\r\n",
       "                        <thead>\r\n",
       "                            \r\n",
       "                        <tr>\r\n",
       "                            <th>Qubit IDs</th>\r\n",
       "                            <td span=\"3\">0, 1, 2</td>\r\n",
       "                        </tr>\r\n",
       "                    \r\n",
       "                            <tr>\r\n",
       "                                <th style=\"width: 20ch)\">Basis state (bitstring)</th>\r\n",
       "                                <th style=\"width: 20ch\">Amplitude</th>\r\n",
       "                                <th style=\"width: calc(100% - 26ch - 20ch)\">Meas. Pr.</th>\r\n",
       "                                <th style=\"width: 6ch\">Phase</th>\r\n",
       "                            </tr>\r\n",
       "                        </thead>\r\n",
       "\r\n",
       "                        <tbody>\r\n",
       "                            \r\n",
       "                            <tr>\r\n",
       "                                <td>$\\left|000\\right\\rangle$</td>\r\n",
       "                                <td>$0.7500 + 0.0000 i$</td>\r\n",
       "                                <td>\r\n",
       "                                    <progress\r\n",
       "                                        max=\"100\"\r\n",
       "                                        value=\"56.250000000000036\"\r\n",
       "                                        style=\"width: 100%;\"\r\n",
       "                                    >\r\n",
       "                                </td>\r\n",
       "                                \r\n",
       "                                <td style=\"transform: rotate(0deg);\r\n",
       "                   text-align: center;\">\r\n",
       "                                 ↑\r\n",
       "                                </td>\r\n",
       "                            \r\n",
       "                            </tr>\r\n",
       "                        \n",
       "\r\n",
       "                            <tr>\r\n",
       "                                <td>$\\left|001\\right\\rangle$</td>\r\n",
       "                                <td>$-0.2500 + 0.0000 i$</td>\r\n",
       "                                <td>\r\n",
       "                                    <progress\r\n",
       "                                        max=\"100\"\r\n",
       "                                        value=\"6.250000000000003\"\r\n",
       "                                        style=\"width: 100%;\"\r\n",
       "                                    >\r\n",
       "                                </td>\r\n",
       "                                \r\n",
       "                                <td style=\"transform: rotate(180deg);\r\n",
       "                   text-align: center;\">\r\n",
       "                                 ↑\r\n",
       "                                </td>\r\n",
       "                            \r\n",
       "                            </tr>\r\n",
       "                        \n",
       "\r\n",
       "                            <tr>\r\n",
       "                                <td>$\\left|010\\right\\rangle$</td>\r\n",
       "                                <td>$-0.2500 + 0.0000 i$</td>\r\n",
       "                                <td>\r\n",
       "                                    <progress\r\n",
       "                                        max=\"100\"\r\n",
       "                                        value=\"6.250000000000003\"\r\n",
       "                                        style=\"width: 100%;\"\r\n",
       "                                    >\r\n",
       "                                </td>\r\n",
       "                                \r\n",
       "                                <td style=\"transform: rotate(180deg);\r\n",
       "                   text-align: center;\">\r\n",
       "                                 ↑\r\n",
       "                                </td>\r\n",
       "                            \r\n",
       "                            </tr>\r\n",
       "                        \n",
       "\r\n",
       "                            <tr>\r\n",
       "                                <td>$\\left|011\\right\\rangle$</td>\r\n",
       "                                <td>$-0.2500 + 0.0000 i$</td>\r\n",
       "                                <td>\r\n",
       "                                    <progress\r\n",
       "                                        max=\"100\"\r\n",
       "                                        value=\"6.250000000000003\"\r\n",
       "                                        style=\"width: 100%;\"\r\n",
       "                                    >\r\n",
       "                                </td>\r\n",
       "                                \r\n",
       "                                <td style=\"transform: rotate(180deg);\r\n",
       "                   text-align: center;\">\r\n",
       "                                 ↑\r\n",
       "                                </td>\r\n",
       "                            \r\n",
       "                            </tr>\r\n",
       "                        \n",
       "\r\n",
       "                            <tr>\r\n",
       "                                <td>$\\left|100\\right\\rangle$</td>\r\n",
       "                                <td>$-0.2500 + 0.0000 i$</td>\r\n",
       "                                <td>\r\n",
       "                                    <progress\r\n",
       "                                        max=\"100\"\r\n",
       "                                        value=\"6.250000000000003\"\r\n",
       "                                        style=\"width: 100%;\"\r\n",
       "                                    >\r\n",
       "                                </td>\r\n",
       "                                \r\n",
       "                                <td style=\"transform: rotate(180deg);\r\n",
       "                   text-align: center;\">\r\n",
       "                                 ↑\r\n",
       "                                </td>\r\n",
       "                            \r\n",
       "                            </tr>\r\n",
       "                        \n",
       "\r\n",
       "                            <tr>\r\n",
       "                                <td>$\\left|101\\right\\rangle$</td>\r\n",
       "                                <td>$-0.2500 + 0.0000 i$</td>\r\n",
       "                                <td>\r\n",
       "                                    <progress\r\n",
       "                                        max=\"100\"\r\n",
       "                                        value=\"6.250000000000003\"\r\n",
       "                                        style=\"width: 100%;\"\r\n",
       "                                    >\r\n",
       "                                </td>\r\n",
       "                                \r\n",
       "                                <td style=\"transform: rotate(180deg);\r\n",
       "                   text-align: center;\">\r\n",
       "                                 ↑\r\n",
       "                                </td>\r\n",
       "                            \r\n",
       "                            </tr>\r\n",
       "                        \n",
       "\r\n",
       "                            <tr>\r\n",
       "                                <td>$\\left|110\\right\\rangle$</td>\r\n",
       "                                <td>$-0.2500 + 0.0000 i$</td>\r\n",
       "                                <td>\r\n",
       "                                    <progress\r\n",
       "                                        max=\"100\"\r\n",
       "                                        value=\"6.250000000000003\"\r\n",
       "                                        style=\"width: 100%;\"\r\n",
       "                                    >\r\n",
       "                                </td>\r\n",
       "                                \r\n",
       "                                <td style=\"transform: rotate(180deg);\r\n",
       "                   text-align: center;\">\r\n",
       "                                 ↑\r\n",
       "                                </td>\r\n",
       "                            \r\n",
       "                            </tr>\r\n",
       "                        \n",
       "\r\n",
       "                            <tr>\r\n",
       "                                <td>$\\left|111\\right\\rangle$</td>\r\n",
       "                                <td>$-0.2500 + 0.0000 i$</td>\r\n",
       "                                <td>\r\n",
       "                                    <progress\r\n",
       "                                        max=\"100\"\r\n",
       "                                        value=\"6.250000000000003\"\r\n",
       "                                        style=\"width: 100%;\"\r\n",
       "                                    >\r\n",
       "                                </td>\r\n",
       "                                \r\n",
       "                                <td style=\"transform: rotate(180deg);\r\n",
       "                   text-align: center;\">\r\n",
       "                                 ↑\r\n",
       "                                </td>\r\n",
       "                            \r\n",
       "                            </tr>\r\n",
       "                        \r\n",
       "                        </tbody>\r\n",
       "                    </table>\r\n",
       "                "
      ],
      "text/plain": [
       "|000⟩\t0.7500000000000002 + 0𝑖\n",
       "|001⟩\t-0.25000000000000006 + 0𝑖\n",
       "|010⟩\t-0.25000000000000006 + 0𝑖\n",
       "|011⟩\t-0.25000000000000006 + 0𝑖\n",
       "|100⟩\t-0.25000000000000006 + 0𝑖\n",
       "|101⟩\t-0.25000000000000006 + 0𝑖\n",
       "|110⟩\t-0.25000000000000006 + 0𝑖\n",
       "|111⟩\t-0.25000000000000006 + 0𝑖"
      ]
     },
     "metadata": {},
     "output_type": "display_data"
    },
    {
     "data": {
      "application/json": "{\"@type\":\"tuple\"}",
      "text/plain": [
       "()"
      ]
     },
     "execution_count": 134,
     "metadata": {},
     "output_type": "execute_result"
    }
   ],
   "source": [
    "%simulate DemoReflection"
   ]
  },
  {
   "cell_type": "markdown",
   "metadata": {
    "slideshow": {
     "slide_type": "slide"
    }
   },
   "source": [
    "## Control Flow in Q#: The Q# Standard Library"
   ]
  },
  {
   "cell_type": "markdown",
   "metadata": {},
   "source": [
    "The Q# standard library provides a wide range of different functions and operations to help make writing out control flow patterns easier."
   ]
  },
  {
   "cell_type": "code",
   "execution_count": 135,
   "metadata": {},
   "outputs": [
    {
     "data": {
      "application/json": "[\"ApplyParity\"]",
      "text/html": [
       "<ul><li>ApplyParity</li></ul>"
      ],
      "text/plain": [
       "ApplyParity"
      ]
     },
     "execution_count": 135,
     "metadata": {},
     "output_type": "execute_result"
    }
   ],
   "source": [
    "operation ApplyParity(controls : Qubit[], target : Qubit) : Unit is Adj + Ctl {\n",
    "    ApplyToEachCA(CNOT(_, target), controls);\n",
    "}"
   ]
  },
  {
   "cell_type": "code",
   "execution_count": 136,
   "metadata": {},
   "outputs": [
    {
     "data": {
      "application/json": "[\"DemonstrateParity\"]",
      "text/html": [
       "<ul><li>DemonstrateParity</li></ul>"
      ],
      "text/plain": [
       "DemonstrateParity"
      ]
     },
     "execution_count": 136,
     "metadata": {},
     "output_type": "execute_result"
    }
   ],
   "source": [
    "operation DemonstrateParity(nQubits : Int) : Unit {\n",
    "    using (register = Qubit[nQubits]) {\n",
    "        ApplyToEach(H, register);\n",
    "        using (target = Qubit()) {\n",
    "            within {\n",
    "                ApplyParity(register, target);\n",
    "            } apply {\n",
    "                Z(target);\n",
    "            }\n",
    "        }\n",
    "        DumpMachine();\n",
    "        ResetAll(register);\n",
    "    }\n",
    "}"
   ]
  },
  {
   "cell_type": "code",
   "execution_count": 137,
   "metadata": {
    "slideshow": {
     "slide_type": "slide"
    }
   },
   "outputs": [
    {
     "data": {
      "application/json": "{\"QubitIds\":[0,1,2],\"NQubits\":3,\"Amplitudes\":[{\"Real\":0.35355339059327384,\"Imaginary\":0.0,\"Magnitude\":0.35355339059327384,\"Phase\":0.0},{\"Real\":-0.35355339059327384,\"Imaginary\":0.0,\"Magnitude\":0.35355339059327384,\"Phase\":3.141592653589793},{\"Real\":-0.35355339059327384,\"Imaginary\":0.0,\"Magnitude\":0.35355339059327384,\"Phase\":3.141592653589793},{\"Real\":0.35355339059327384,\"Imaginary\":0.0,\"Magnitude\":0.35355339059327384,\"Phase\":0.0},{\"Real\":-0.35355339059327384,\"Imaginary\":0.0,\"Magnitude\":0.35355339059327384,\"Phase\":3.141592653589793},{\"Real\":0.35355339059327384,\"Imaginary\":0.0,\"Magnitude\":0.35355339059327384,\"Phase\":0.0},{\"Real\":0.35355339059327384,\"Imaginary\":0.0,\"Magnitude\":0.35355339059327384,\"Phase\":0.0},{\"Real\":-0.35355339059327384,\"Imaginary\":0.0,\"Magnitude\":0.35355339059327384,\"Phase\":3.141592653589793}]}",
      "text/html": [
       "\r\n",
       "                    <table style=\"table-layout: fixed; width: 100%\">\r\n",
       "                        <thead>\r\n",
       "                            \r\n",
       "                        <tr>\r\n",
       "                            <th>Qubit IDs</th>\r\n",
       "                            <td span=\"3\">0, 1, 2</td>\r\n",
       "                        </tr>\r\n",
       "                    \r\n",
       "                            <tr>\r\n",
       "                                <th style=\"width: 20ch)\">Basis state (bitstring)</th>\r\n",
       "                                <th style=\"width: 20ch\">Amplitude</th>\r\n",
       "                                <th style=\"width: calc(100% - 26ch - 20ch)\">Meas. Pr.</th>\r\n",
       "                                <th style=\"width: 6ch\">Phase</th>\r\n",
       "                            </tr>\r\n",
       "                        </thead>\r\n",
       "\r\n",
       "                        <tbody>\r\n",
       "                            \r\n",
       "                            <tr>\r\n",
       "                                <td>$\\left|000\\right\\rangle$</td>\r\n",
       "                                <td>$0.3536 + 0.0000 i$</td>\r\n",
       "                                <td>\r\n",
       "                                    <progress\r\n",
       "                                        max=\"100\"\r\n",
       "                                        value=\"12.500000000000005\"\r\n",
       "                                        style=\"width: 100%;\"\r\n",
       "                                    >\r\n",
       "                                </td>\r\n",
       "                                \r\n",
       "                                <td style=\"transform: rotate(0deg);\r\n",
       "                   text-align: center;\">\r\n",
       "                                 ↑\r\n",
       "                                </td>\r\n",
       "                            \r\n",
       "                            </tr>\r\n",
       "                        \n",
       "\r\n",
       "                            <tr>\r\n",
       "                                <td>$\\left|001\\right\\rangle$</td>\r\n",
       "                                <td>$-0.3536 + 0.0000 i$</td>\r\n",
       "                                <td>\r\n",
       "                                    <progress\r\n",
       "                                        max=\"100\"\r\n",
       "                                        value=\"12.500000000000005\"\r\n",
       "                                        style=\"width: 100%;\"\r\n",
       "                                    >\r\n",
       "                                </td>\r\n",
       "                                \r\n",
       "                                <td style=\"transform: rotate(180deg);\r\n",
       "                   text-align: center;\">\r\n",
       "                                 ↑\r\n",
       "                                </td>\r\n",
       "                            \r\n",
       "                            </tr>\r\n",
       "                        \n",
       "\r\n",
       "                            <tr>\r\n",
       "                                <td>$\\left|010\\right\\rangle$</td>\r\n",
       "                                <td>$-0.3536 + 0.0000 i$</td>\r\n",
       "                                <td>\r\n",
       "                                    <progress\r\n",
       "                                        max=\"100\"\r\n",
       "                                        value=\"12.500000000000005\"\r\n",
       "                                        style=\"width: 100%;\"\r\n",
       "                                    >\r\n",
       "                                </td>\r\n",
       "                                \r\n",
       "                                <td style=\"transform: rotate(180deg);\r\n",
       "                   text-align: center;\">\r\n",
       "                                 ↑\r\n",
       "                                </td>\r\n",
       "                            \r\n",
       "                            </tr>\r\n",
       "                        \n",
       "\r\n",
       "                            <tr>\r\n",
       "                                <td>$\\left|011\\right\\rangle$</td>\r\n",
       "                                <td>$0.3536 + 0.0000 i$</td>\r\n",
       "                                <td>\r\n",
       "                                    <progress\r\n",
       "                                        max=\"100\"\r\n",
       "                                        value=\"12.500000000000005\"\r\n",
       "                                        style=\"width: 100%;\"\r\n",
       "                                    >\r\n",
       "                                </td>\r\n",
       "                                \r\n",
       "                                <td style=\"transform: rotate(0deg);\r\n",
       "                   text-align: center;\">\r\n",
       "                                 ↑\r\n",
       "                                </td>\r\n",
       "                            \r\n",
       "                            </tr>\r\n",
       "                        \n",
       "\r\n",
       "                            <tr>\r\n",
       "                                <td>$\\left|100\\right\\rangle$</td>\r\n",
       "                                <td>$-0.3536 + 0.0000 i$</td>\r\n",
       "                                <td>\r\n",
       "                                    <progress\r\n",
       "                                        max=\"100\"\r\n",
       "                                        value=\"12.500000000000005\"\r\n",
       "                                        style=\"width: 100%;\"\r\n",
       "                                    >\r\n",
       "                                </td>\r\n",
       "                                \r\n",
       "                                <td style=\"transform: rotate(180deg);\r\n",
       "                   text-align: center;\">\r\n",
       "                                 ↑\r\n",
       "                                </td>\r\n",
       "                            \r\n",
       "                            </tr>\r\n",
       "                        \n",
       "\r\n",
       "                            <tr>\r\n",
       "                                <td>$\\left|101\\right\\rangle$</td>\r\n",
       "                                <td>$0.3536 + 0.0000 i$</td>\r\n",
       "                                <td>\r\n",
       "                                    <progress\r\n",
       "                                        max=\"100\"\r\n",
       "                                        value=\"12.500000000000005\"\r\n",
       "                                        style=\"width: 100%;\"\r\n",
       "                                    >\r\n",
       "                                </td>\r\n",
       "                                \r\n",
       "                                <td style=\"transform: rotate(0deg);\r\n",
       "                   text-align: center;\">\r\n",
       "                                 ↑\r\n",
       "                                </td>\r\n",
       "                            \r\n",
       "                            </tr>\r\n",
       "                        \n",
       "\r\n",
       "                            <tr>\r\n",
       "                                <td>$\\left|110\\right\\rangle$</td>\r\n",
       "                                <td>$0.3536 + 0.0000 i$</td>\r\n",
       "                                <td>\r\n",
       "                                    <progress\r\n",
       "                                        max=\"100\"\r\n",
       "                                        value=\"12.500000000000005\"\r\n",
       "                                        style=\"width: 100%;\"\r\n",
       "                                    >\r\n",
       "                                </td>\r\n",
       "                                \r\n",
       "                                <td style=\"transform: rotate(0deg);\r\n",
       "                   text-align: center;\">\r\n",
       "                                 ↑\r\n",
       "                                </td>\r\n",
       "                            \r\n",
       "                            </tr>\r\n",
       "                        \n",
       "\r\n",
       "                            <tr>\r\n",
       "                                <td>$\\left|111\\right\\rangle$</td>\r\n",
       "                                <td>$-0.3536 + 0.0000 i$</td>\r\n",
       "                                <td>\r\n",
       "                                    <progress\r\n",
       "                                        max=\"100\"\r\n",
       "                                        value=\"12.500000000000005\"\r\n",
       "                                        style=\"width: 100%;\"\r\n",
       "                                    >\r\n",
       "                                </td>\r\n",
       "                                \r\n",
       "                                <td style=\"transform: rotate(180deg);\r\n",
       "                   text-align: center;\">\r\n",
       "                                 ↑\r\n",
       "                                </td>\r\n",
       "                            \r\n",
       "                            </tr>\r\n",
       "                        \r\n",
       "                        </tbody>\r\n",
       "                    </table>\r\n",
       "                "
      ],
      "text/plain": [
       "|000⟩\t0.35355339059327384 + 0𝑖\n",
       "|001⟩\t-0.35355339059327384 + 0𝑖\n",
       "|010⟩\t-0.35355339059327384 + 0𝑖\n",
       "|011⟩\t0.35355339059327384 + 0𝑖\n",
       "|100⟩\t-0.35355339059327384 + 0𝑖\n",
       "|101⟩\t0.35355339059327384 + 0𝑖\n",
       "|110⟩\t0.35355339059327384 + 0𝑖\n",
       "|111⟩\t-0.35355339059327384 + 0𝑖"
      ]
     },
     "metadata": {},
     "output_type": "display_data"
    },
    {
     "data": {
      "application/json": "{\"@type\":\"tuple\"}",
      "text/plain": [
       "()"
      ]
     },
     "execution_count": 137,
     "metadata": {},
     "output_type": "execute_result"
    }
   ],
   "source": [
    "%simulate DemonstrateParity nQubits=3"
   ]
  },
  {
   "cell_type": "code",
   "execution_count": 138,
   "metadata": {
    "slideshow": {
     "slide_type": "slide"
    }
   },
   "outputs": [
    {
     "data": {
      "application/json": "[\"ApplyPairwiseParity\"]",
      "text/html": [
       "<ul><li>ApplyPairwiseParity</li></ul>"
      ],
      "text/plain": [
       "ApplyPairwiseParity"
      ]
     },
     "execution_count": 138,
     "metadata": {},
     "output_type": "execute_result"
    }
   ],
   "source": [
    "operation ApplyPairwiseParity(controls : Qubit[], targets : Qubit[]) : Unit is Adj + Ctl {\n",
    "    ApplyToEachCA(CCNOT, Zip3(Most(controls), Rest(controls), targets));\n",
    "}"
   ]
  },
  {
   "cell_type": "code",
   "execution_count": 139,
   "metadata": {},
   "outputs": [
    {
     "data": {
      "application/json": "[\"DemonstratePairwiseParity\"]",
      "text/html": [
       "<ul><li>DemonstratePairwiseParity</li></ul>"
      ],
      "text/plain": [
       "DemonstratePairwiseParity"
      ]
     },
     "execution_count": 139,
     "metadata": {},
     "output_type": "execute_result"
    }
   ],
   "source": [
    "operation DemonstratePairwiseParity(nQubits : Int) : Unit {\n",
    "    using ((controls, targets) = (Qubit[nQubits], Qubit[nQubits - 1])) {\n",
    "        ApplyToEach(H, controls);\n",
    "        ApplyPairwiseParity(controls, targets);\n",
    "        DumpMachine();\n",
    "        ResetAll(controls + targets);\n",
    "    }\n",
    "}"
   ]
  },
  {
   "cell_type": "code",
   "execution_count": 140,
   "metadata": {},
   "outputs": [
    {
     "data": {
      "application/json": "{\"QubitIds\":[0,1,2,3,4],\"NQubits\":5,\"Amplitudes\":[{\"Real\":0.35355339059327384,\"Imaginary\":0.0,\"Magnitude\":0.35355339059327384,\"Phase\":0.0},{\"Real\":0.35355339059327384,\"Imaginary\":0.0,\"Magnitude\":0.35355339059327384,\"Phase\":0.0},{\"Real\":0.35355339059327384,\"Imaginary\":0.0,\"Magnitude\":0.35355339059327384,\"Phase\":0.0},{\"Real\":0.0,\"Imaginary\":0.0,\"Magnitude\":0.0,\"Phase\":0.0},{\"Real\":0.35355339059327384,\"Imaginary\":0.0,\"Magnitude\":0.35355339059327384,\"Phase\":0.0},{\"Real\":0.35355339059327384,\"Imaginary\":0.0,\"Magnitude\":0.35355339059327384,\"Phase\":0.0},{\"Real\":0.0,\"Imaginary\":0.0,\"Magnitude\":0.0,\"Phase\":0.0},{\"Real\":0.0,\"Imaginary\":0.0,\"Magnitude\":0.0,\"Phase\":0.0},{\"Real\":0.0,\"Imaginary\":0.0,\"Magnitude\":0.0,\"Phase\":0.0},{\"Real\":0.0,\"Imaginary\":0.0,\"Magnitude\":0.0,\"Phase\":0.0},{\"Real\":0.0,\"Imaginary\":0.0,\"Magnitude\":0.0,\"Phase\":0.0},{\"Real\":0.35355339059327384,\"Imaginary\":0.0,\"Magnitude\":0.35355339059327384,\"Phase\":0.0},{\"Real\":0.0,\"Imaginary\":0.0,\"Magnitude\":0.0,\"Phase\":0.0},{\"Real\":0.0,\"Imaginary\":0.0,\"Magnitude\":0.0,\"Phase\":0.0},{\"Real\":0.0,\"Imaginary\":0.0,\"Magnitude\":0.0,\"Phase\":0.0},{\"Real\":0.0,\"Imaginary\":0.0,\"Magnitude\":0.0,\"Phase\":0.0},{\"Real\":0.0,\"Imaginary\":0.0,\"Magnitude\":0.0,\"Phase\":0.0},{\"Real\":0.0,\"Imaginary\":0.0,\"Magnitude\":0.0,\"Phase\":0.0},{\"Real\":0.0,\"Imaginary\":0.0,\"Magnitude\":0.0,\"Phase\":0.0},{\"Real\":0.0,\"Imaginary\":0.0,\"Magnitude\":0.0,\"Phase\":0.0},{\"Real\":0.0,\"Imaginary\":0.0,\"Magnitude\":0.0,\"Phase\":0.0},{\"Real\":0.0,\"Imaginary\":0.0,\"Magnitude\":0.0,\"Phase\":0.0},{\"Real\":0.35355339059327384,\"Imaginary\":0.0,\"Magnitude\":0.35355339059327384,\"Phase\":0.0},{\"Real\":0.0,\"Imaginary\":0.0,\"Magnitude\":0.0,\"Phase\":0.0},{\"Real\":0.0,\"Imaginary\":0.0,\"Magnitude\":0.0,\"Phase\":0.0},{\"Real\":0.0,\"Imaginary\":0.0,\"Magnitude\":0.0,\"Phase\":0.0},{\"Real\":0.0,\"Imaginary\":0.0,\"Magnitude\":0.0,\"Phase\":0.0},{\"Real\":0.0,\"Imaginary\":0.0,\"Magnitude\":0.0,\"Phase\":0.0},{\"Real\":0.0,\"Imaginary\":0.0,\"Magnitude\":0.0,\"Phase\":0.0},{\"Real\":0.0,\"Imaginary\":0.0,\"Magnitude\":0.0,\"Phase\":0.0},{\"Real\":0.0,\"Imaginary\":0.0,\"Magnitude\":0.0,\"Phase\":0.0},{\"Real\":0.35355339059327384,\"Imaginary\":0.0,\"Magnitude\":0.35355339059327384,\"Phase\":0.0}]}",
      "text/html": [
       "\r\n",
       "                    <table style=\"table-layout: fixed; width: 100%\">\r\n",
       "                        <thead>\r\n",
       "                            \r\n",
       "                        <tr>\r\n",
       "                            <th>Qubit IDs</th>\r\n",
       "                            <td span=\"3\">0, 1, 2, 3, 4</td>\r\n",
       "                        </tr>\r\n",
       "                    \r\n",
       "                            <tr>\r\n",
       "                                <th style=\"width: 20ch)\">Basis state (bitstring)</th>\r\n",
       "                                <th style=\"width: 20ch\">Amplitude</th>\r\n",
       "                                <th style=\"width: calc(100% - 26ch - 20ch)\">Meas. Pr.</th>\r\n",
       "                                <th style=\"width: 6ch\">Phase</th>\r\n",
       "                            </tr>\r\n",
       "                        </thead>\r\n",
       "\r\n",
       "                        <tbody>\r\n",
       "                            \r\n",
       "                            <tr>\r\n",
       "                                <td>$\\left|00000\\right\\rangle$</td>\r\n",
       "                                <td>$0.3536 + 0.0000 i$</td>\r\n",
       "                                <td>\r\n",
       "                                    <progress\r\n",
       "                                        max=\"100\"\r\n",
       "                                        value=\"12.500000000000005\"\r\n",
       "                                        style=\"width: 100%;\"\r\n",
       "                                    >\r\n",
       "                                </td>\r\n",
       "                                \r\n",
       "                                <td style=\"transform: rotate(0deg);\r\n",
       "                   text-align: center;\">\r\n",
       "                                 ↑\r\n",
       "                                </td>\r\n",
       "                            \r\n",
       "                            </tr>\r\n",
       "                        \n",
       "\r\n",
       "                            <tr>\r\n",
       "                                <td>$\\left|00100\\right\\rangle$</td>\r\n",
       "                                <td>$0.3536 + 0.0000 i$</td>\r\n",
       "                                <td>\r\n",
       "                                    <progress\r\n",
       "                                        max=\"100\"\r\n",
       "                                        value=\"12.500000000000005\"\r\n",
       "                                        style=\"width: 100%;\"\r\n",
       "                                    >\r\n",
       "                                </td>\r\n",
       "                                \r\n",
       "                                <td style=\"transform: rotate(0deg);\r\n",
       "                   text-align: center;\">\r\n",
       "                                 ↑\r\n",
       "                                </td>\r\n",
       "                            \r\n",
       "                            </tr>\r\n",
       "                        \n",
       "\r\n",
       "                            <tr>\r\n",
       "                                <td>$\\left|01000\\right\\rangle$</td>\r\n",
       "                                <td>$0.3536 + 0.0000 i$</td>\r\n",
       "                                <td>\r\n",
       "                                    <progress\r\n",
       "                                        max=\"100\"\r\n",
       "                                        value=\"12.500000000000005\"\r\n",
       "                                        style=\"width: 100%;\"\r\n",
       "                                    >\r\n",
       "                                </td>\r\n",
       "                                \r\n",
       "                                <td style=\"transform: rotate(0deg);\r\n",
       "                   text-align: center;\">\r\n",
       "                                 ↑\r\n",
       "                                </td>\r\n",
       "                            \r\n",
       "                            </tr>\r\n",
       "                        \n",
       "\r\n",
       "                            <tr>\r\n",
       "                                <td>$\\left|01101\\right\\rangle$</td>\r\n",
       "                                <td>$0.3536 + 0.0000 i$</td>\r\n",
       "                                <td>\r\n",
       "                                    <progress\r\n",
       "                                        max=\"100\"\r\n",
       "                                        value=\"12.500000000000005\"\r\n",
       "                                        style=\"width: 100%;\"\r\n",
       "                                    >\r\n",
       "                                </td>\r\n",
       "                                \r\n",
       "                                <td style=\"transform: rotate(0deg);\r\n",
       "                   text-align: center;\">\r\n",
       "                                 ↑\r\n",
       "                                </td>\r\n",
       "                            \r\n",
       "                            </tr>\r\n",
       "                        \n",
       "\r\n",
       "                            <tr>\r\n",
       "                                <td>$\\left|10000\\right\\rangle$</td>\r\n",
       "                                <td>$0.3536 + 0.0000 i$</td>\r\n",
       "                                <td>\r\n",
       "                                    <progress\r\n",
       "                                        max=\"100\"\r\n",
       "                                        value=\"12.500000000000005\"\r\n",
       "                                        style=\"width: 100%;\"\r\n",
       "                                    >\r\n",
       "                                </td>\r\n",
       "                                \r\n",
       "                                <td style=\"transform: rotate(0deg);\r\n",
       "                   text-align: center;\">\r\n",
       "                                 ↑\r\n",
       "                                </td>\r\n",
       "                            \r\n",
       "                            </tr>\r\n",
       "                        \n",
       "\r\n",
       "                            <tr>\r\n",
       "                                <td>$\\left|10100\\right\\rangle$</td>\r\n",
       "                                <td>$0.3536 + 0.0000 i$</td>\r\n",
       "                                <td>\r\n",
       "                                    <progress\r\n",
       "                                        max=\"100\"\r\n",
       "                                        value=\"12.500000000000005\"\r\n",
       "                                        style=\"width: 100%;\"\r\n",
       "                                    >\r\n",
       "                                </td>\r\n",
       "                                \r\n",
       "                                <td style=\"transform: rotate(0deg);\r\n",
       "                   text-align: center;\">\r\n",
       "                                 ↑\r\n",
       "                                </td>\r\n",
       "                            \r\n",
       "                            </tr>\r\n",
       "                        \n",
       "\r\n",
       "                            <tr>\r\n",
       "                                <td>$\\left|11010\\right\\rangle$</td>\r\n",
       "                                <td>$0.3536 + 0.0000 i$</td>\r\n",
       "                                <td>\r\n",
       "                                    <progress\r\n",
       "                                        max=\"100\"\r\n",
       "                                        value=\"12.500000000000005\"\r\n",
       "                                        style=\"width: 100%;\"\r\n",
       "                                    >\r\n",
       "                                </td>\r\n",
       "                                \r\n",
       "                                <td style=\"transform: rotate(0deg);\r\n",
       "                   text-align: center;\">\r\n",
       "                                 ↑\r\n",
       "                                </td>\r\n",
       "                            \r\n",
       "                            </tr>\r\n",
       "                        \n",
       "\r\n",
       "                            <tr>\r\n",
       "                                <td>$\\left|11111\\right\\rangle$</td>\r\n",
       "                                <td>$0.3536 + 0.0000 i$</td>\r\n",
       "                                <td>\r\n",
       "                                    <progress\r\n",
       "                                        max=\"100\"\r\n",
       "                                        value=\"12.500000000000005\"\r\n",
       "                                        style=\"width: 100%;\"\r\n",
       "                                    >\r\n",
       "                                </td>\r\n",
       "                                \r\n",
       "                                <td style=\"transform: rotate(0deg);\r\n",
       "                   text-align: center;\">\r\n",
       "                                 ↑\r\n",
       "                                </td>\r\n",
       "                            \r\n",
       "                            </tr>\r\n",
       "                        \r\n",
       "                        </tbody>\r\n",
       "                    </table>\r\n",
       "                "
      ],
      "text/plain": [
       "|00000⟩\t0.35355339059327384 + 0𝑖\n",
       "|00100⟩\t0.35355339059327384 + 0𝑖\n",
       "|01000⟩\t0.35355339059327384 + 0𝑖\n",
       "|01101⟩\t0.35355339059327384 + 0𝑖\n",
       "|10000⟩\t0.35355339059327384 + 0𝑖\n",
       "|10100⟩\t0.35355339059327384 + 0𝑖\n",
       "|11010⟩\t0.35355339059327384 + 0𝑖\n",
       "|11111⟩\t0.35355339059327384 + 0𝑖"
      ]
     },
     "metadata": {},
     "output_type": "display_data"
    },
    {
     "data": {
      "application/json": "{\"@type\":\"tuple\"}",
      "text/plain": [
       "()"
      ]
     },
     "execution_count": 140,
     "metadata": {},
     "output_type": "execute_result"
    }
   ],
   "source": [
    "%simulate DemonstratePairwiseParity nQubits=3"
   ]
  },
  {
   "cell_type": "markdown",
   "metadata": {
    "slideshow": {
     "slide_type": "slide"
    }
   },
   "source": [
    "## Control Flow in Q#: Conditional Statements"
   ]
  },
  {
   "cell_type": "markdown",
   "metadata": {},
   "source": [
    "While the `Controlled` keyword can be used to write out quantum-controlled operations, classical control flow can be represented using `if` statements:"
   ]
  },
  {
   "cell_type": "code",
   "execution_count": 141,
   "metadata": {},
   "outputs": [
    {
     "data": {
      "application/json": "[\"TeleportMessage\"]",
      "text/html": [
       "<ul><li>TeleportMessage</li></ul>"
      ],
      "text/plain": [
       "TeleportMessage"
      ]
     },
     "execution_count": 141,
     "metadata": {},
     "output_type": "execute_result"
    }
   ],
   "source": [
    "operation TeleportMessage(msg : Qubit, there : Qubit) : Unit {\n",
    "    using (here = Qubit()) {\n",
    "        PrepareEntangledPair(here, there);\n",
    "        Adjoint PrepareEntangledPair(msg, here);\n",
    "        \n",
    "        if (M(here) == One) { X(there); }\n",
    "        if (M(msg) == One)  { Z(there); }\n",
    "    }\n",
    "}"
   ]
  },
  {
   "cell_type": "markdown",
   "metadata": {
    "slideshow": {
     "slide_type": "slide"
    }
   },
   "source": [
    "You can also use the `?|` operator to pick one of two different values based on a condition."
   ]
  },
  {
   "cell_type": "code",
   "execution_count": 142,
   "metadata": {},
   "outputs": [
    {
     "data": {
      "application/json": "[\"TeleportMessage\"]",
      "text/html": [
       "<ul><li>TeleportMessage</li></ul>"
      ],
      "text/plain": [
       "TeleportMessage"
      ]
     },
     "execution_count": 142,
     "metadata": {},
     "output_type": "execute_result"
    }
   ],
   "source": [
    "operation TeleportMessage(msg : Qubit, there : Qubit) : Unit {\n",
    "    using (here = Qubit()) {\n",
    "        PrepareEntangledPair(here, there);\n",
    "        Adjoint PrepareEntangledPair(msg, here);\n",
    "        \n",
    "        (M(here) == One ? X | I)(there);\n",
    "        (M(msg) == One  ? Z | I)(there);\n",
    "    }\n",
    "}"
   ]
  },
  {
   "cell_type": "markdown",
   "metadata": {
    "slideshow": {
     "slide_type": "slide"
    }
   },
   "source": [
    "## Control Flow in Q# ##\n",
    "\n",
    "Other Control Flow Features:"
   ]
  },
  {
   "cell_type": "markdown",
   "metadata": {},
   "source": [
    "- `while` loops in functions\n",
    "- `repeat`/`until`/`fixup` loops in operations\n",
    "- `fail` statements for error reporting\n",
    "\n",
    "Check out https://docs.microsoft.com/quantum/user-guide/using-qsharp/control-flow."
   ]
  },
  {
   "cell_type": "markdown",
   "metadata": {
    "slideshow": {
     "slide_type": "slide"
    }
   },
   "source": [
    "## Diagnosing Q# Programs"
   ]
  },
  {
   "cell_type": "markdown",
   "metadata": {},
   "source": [
    "Q# provides a variety of tools for diagnosing quantum programs:\n",
    "\n",
    "\n",
    "- **Dump** instructions print out internal simulator state, and do nothing on hardware.\n",
    "- **Facts** check classical conditions like equality between values.\n",
    "- **Assertions** check conditions about quantum states when used on simulators, and do nothing on hardware."
   ]
  },
  {
   "cell_type": "code",
   "execution_count": 143,
   "metadata": {
    "slideshow": {
     "slide_type": "slide"
    }
   },
   "outputs": [
    {
     "data": {
      "application/json": "{\"LastUpdated\":\"2020-09-22T04:37:32.7176072+00:00\",\"IsCompleted\":true,\"Description\":\"Adding package Microsoft.Quantum.Standard.Visualization\",\"Subtask\":\"done\"}",
      "text/plain": [
       "Adding package Microsoft.Quantum.Standard.Visualization: done!"
      ]
     },
     "metadata": {},
     "output_type": "display_data"
    },
    {
     "data": {
      "application/json": "[\"Microsoft.Quantum.Standard::0.12.20082513\",\"QSharpCommunity.Simulators.Chp::0.1.7\",\"Microsoft.Quantum.Standard.Visualization::0.12.20082513\"]",
      "text/html": [
       "<ul><li>Microsoft.Quantum.Standard::0.12.20082513</li><li>QSharpCommunity.Simulators.Chp::0.1.7</li><li>Microsoft.Quantum.Standard.Visualization::0.12.20082513</li></ul>"
      ],
      "text/plain": [
       "Microsoft.Quantum.Standard::0.12.20082513, QSharpCommunity.Simulators.Chp::0.1.7, Microsoft.Quantum.Standard.Visualization::0.12.20082513"
      ]
     },
     "execution_count": 143,
     "metadata": {},
     "output_type": "execute_result"
    }
   ],
   "source": [
    "%package Microsoft.Quantum.Standard.Visualization"
   ]
  },
  {
   "cell_type": "code",
   "execution_count": 144,
   "metadata": {},
   "outputs": [
    {
     "data": {
      "application/json": "[\"DumpPrepareEntangledPair\"]",
      "text/html": [
       "<ul><li>DumpPrepareEntangledPair</li></ul>"
      ],
      "text/plain": [
       "DumpPrepareEntangledPair"
      ]
     },
     "execution_count": 144,
     "metadata": {},
     "output_type": "execute_result"
    }
   ],
   "source": [
    "operation DumpPrepareEntangledPair() : Unit {\n",
    "    DumpOperation(2,\n",
    "        ApplyToFirstTwoQubitsCA(PrepareEntangledPair, _)\n",
    "    );\n",
    "}"
   ]
  },
  {
   "cell_type": "code",
   "execution_count": 145,
   "metadata": {},
   "outputs": [
    {
     "data": {
      "text/html": [
       "\r\n",
       "                    <table>\r\n",
       "                        <tr>\r\n",
       "                            <th>Qubit IDs</th>\r\n",
       "                            <td>2, 3\r\n",
       "                        </tr>\r\n",
       "\r\n",
       "                        <tr>\r\n",
       "                            <th>Unitary representation</th>\r\n",
       "                            <td>$$\r\n",
       "                                \\left(\\begin{matrix}\r\n",
       "                                    0.707 & 0.707 & 0 & 0 \\\\\n",
       "0 & 0 & 0.707 & -0.707 \\\\\n",
       "0 & 0 & 0.707 & 0.707 \\\\\n",
       "0.707 & -0.707 & 0 & 0\r\n",
       "                                \\end{matrix}\\right)\r\n",
       "                            $$</td>\r\n",
       "                        </tr>\r\n",
       "                    </table>\r\n",
       "                "
      ],
      "text/plain": [
       "Real:\n",
       "[[0.7071067811865477, 0.7071067811865477, 0, 0], \n",
       "[0, 0, 0.7071067811865477, -0.7071067811865477], \n",
       "[0, 0, 0.7071067811865477, 0.7071067811865477], \n",
       "[0.7071067811865477, -0.7071067811865477, 0, 0]]\n",
       "Imag:\n",
       "[[0, 0, 0, 0], \n",
       "[0, 0, 0, 0], \n",
       "[0, 0, 0, 0], \n",
       "[0, 0, 0, 0]]"
      ]
     },
     "metadata": {},
     "output_type": "display_data"
    },
    {
     "data": {
      "application/json": "{\"@type\":\"tuple\"}",
      "text/plain": [
       "()"
      ]
     },
     "execution_count": 145,
     "metadata": {},
     "output_type": "execute_result"
    }
   ],
   "source": [
    "%simulate DumpPrepareEntangledPair"
   ]
  },
  {
   "cell_type": "markdown",
   "metadata": {
    "slideshow": {
     "slide_type": "slide"
    }
   },
   "source": [
    "## Putting it Together: Grover's Search"
   ]
  },
  {
   "cell_type": "code",
   "execution_count": 146,
   "metadata": {},
   "outputs": [
    {
     "data": {
      "application/json": "[]",
      "text/html": [
       "<ul></ul>"
      ],
      "text/plain": []
     },
     "execution_count": 146,
     "metadata": {},
     "output_type": "execute_result"
    }
   ],
   "source": [
    "open Microsoft.Quantum.Samples.IEEEQuantumWeek;"
   ]
  },
  {
   "cell_type": "code",
   "execution_count": 147,
   "metadata": {},
   "outputs": [
    {
     "data": {
      "application/json": "[\"MarkItemByIndex\"]",
      "text/html": [
       "<ul><li>MarkItemByIndex</li></ul>"
      ],
      "text/plain": [
       "MarkItemByIndex"
      ]
     },
     "execution_count": 147,
     "metadata": {},
     "output_type": "execute_result"
    }
   ],
   "source": [
    "operation MarkItemByIndex(\n",
    "    idxMarkedItem : Int,\n",
    "    register : Qubit[],                                             \n",
    "    flag : Qubit)                                                   \n",
    ": Unit is Adj + Ctl {\n",
    "    (ControlledOnInt(idxMarkedItem, X))(register, flag);\n",
    "}"
   ]
  },
  {
   "cell_type": "code",
   "execution_count": 148,
   "metadata": {},
   "outputs": [
    {
     "data": {
      "application/json": "[\"DemoMarkedItem\"]",
      "text/html": [
       "<ul><li>DemoMarkedItem</li></ul>"
      ],
      "text/plain": [
       "DemoMarkedItem"
      ]
     },
     "execution_count": 148,
     "metadata": {},
     "output_type": "execute_result"
    }
   ],
   "source": [
    "operation DemoMarkedItem(idxMarkedItem : Int) : Unit {\n",
    "    using ((register, flag) = (Qubit[3], Qubit())) {\n",
    "        within {\n",
    "            ApplyToEachCA(H, register);\n",
    "            MarkItemByIndex(idxMarkedItem, register, flag);\n",
    "        } apply {\n",
    "            DumpMachine();\n",
    "        }\n",
    "    }\n",
    "}"
   ]
  },
  {
   "cell_type": "code",
   "execution_count": 149,
   "metadata": {
    "slideshow": {
     "slide_type": "slide"
    }
   },
   "outputs": [
    {
     "data": {
      "application/json": "{\"QubitIds\":[0,1,2,3],\"NQubits\":4,\"Amplitudes\":[{\"Real\":0.35355339059327384,\"Imaginary\":0.0,\"Magnitude\":0.35355339059327384,\"Phase\":0.0},{\"Real\":0.35355339059327384,\"Imaginary\":0.0,\"Magnitude\":0.35355339059327384,\"Phase\":0.0},{\"Real\":0.35355339059327384,\"Imaginary\":0.0,\"Magnitude\":0.35355339059327384,\"Phase\":0.0},{\"Real\":0.0,\"Imaginary\":0.0,\"Magnitude\":0.0,\"Phase\":0.0},{\"Real\":0.35355339059327384,\"Imaginary\":0.0,\"Magnitude\":0.35355339059327384,\"Phase\":0.0},{\"Real\":0.35355339059327384,\"Imaginary\":0.0,\"Magnitude\":0.35355339059327384,\"Phase\":0.0},{\"Real\":0.35355339059327384,\"Imaginary\":0.0,\"Magnitude\":0.35355339059327384,\"Phase\":0.0},{\"Real\":0.35355339059327384,\"Imaginary\":0.0,\"Magnitude\":0.35355339059327384,\"Phase\":0.0},{\"Real\":0.0,\"Imaginary\":0.0,\"Magnitude\":0.0,\"Phase\":0.0},{\"Real\":0.0,\"Imaginary\":0.0,\"Magnitude\":0.0,\"Phase\":0.0},{\"Real\":0.0,\"Imaginary\":0.0,\"Magnitude\":0.0,\"Phase\":0.0},{\"Real\":0.35355339059327384,\"Imaginary\":0.0,\"Magnitude\":0.35355339059327384,\"Phase\":0.0},{\"Real\":0.0,\"Imaginary\":0.0,\"Magnitude\":0.0,\"Phase\":0.0},{\"Real\":0.0,\"Imaginary\":0.0,\"Magnitude\":0.0,\"Phase\":0.0},{\"Real\":0.0,\"Imaginary\":0.0,\"Magnitude\":0.0,\"Phase\":0.0},{\"Real\":0.0,\"Imaginary\":0.0,\"Magnitude\":0.0,\"Phase\":0.0}]}",
      "text/html": [
       "\r\n",
       "                    <table style=\"table-layout: fixed; width: 100%\">\r\n",
       "                        <thead>\r\n",
       "                            \r\n",
       "                        <tr>\r\n",
       "                            <th>Qubit IDs</th>\r\n",
       "                            <td span=\"3\">0, 1, 2, 3</td>\r\n",
       "                        </tr>\r\n",
       "                    \r\n",
       "                            <tr>\r\n",
       "                                <th style=\"width: 20ch)\">Basis state (bitstring)</th>\r\n",
       "                                <th style=\"width: 20ch\">Amplitude</th>\r\n",
       "                                <th style=\"width: calc(100% - 26ch - 20ch)\">Meas. Pr.</th>\r\n",
       "                                <th style=\"width: 6ch\">Phase</th>\r\n",
       "                            </tr>\r\n",
       "                        </thead>\r\n",
       "\r\n",
       "                        <tbody>\r\n",
       "                            \r\n",
       "                            <tr>\r\n",
       "                                <td>$\\left|0000\\right\\rangle$</td>\r\n",
       "                                <td>$0.3536 + 0.0000 i$</td>\r\n",
       "                                <td>\r\n",
       "                                    <progress\r\n",
       "                                        max=\"100\"\r\n",
       "                                        value=\"12.500000000000005\"\r\n",
       "                                        style=\"width: 100%;\"\r\n",
       "                                    >\r\n",
       "                                </td>\r\n",
       "                                \r\n",
       "                                <td style=\"transform: rotate(0deg);\r\n",
       "                   text-align: center;\">\r\n",
       "                                 ↑\r\n",
       "                                </td>\r\n",
       "                            \r\n",
       "                            </tr>\r\n",
       "                        \n",
       "\r\n",
       "                            <tr>\r\n",
       "                                <td>$\\left|0010\\right\\rangle$</td>\r\n",
       "                                <td>$0.3536 + 0.0000 i$</td>\r\n",
       "                                <td>\r\n",
       "                                    <progress\r\n",
       "                                        max=\"100\"\r\n",
       "                                        value=\"12.500000000000005\"\r\n",
       "                                        style=\"width: 100%;\"\r\n",
       "                                    >\r\n",
       "                                </td>\r\n",
       "                                \r\n",
       "                                <td style=\"transform: rotate(0deg);\r\n",
       "                   text-align: center;\">\r\n",
       "                                 ↑\r\n",
       "                                </td>\r\n",
       "                            \r\n",
       "                            </tr>\r\n",
       "                        \n",
       "\r\n",
       "                            <tr>\r\n",
       "                                <td>$\\left|0100\\right\\rangle$</td>\r\n",
       "                                <td>$0.3536 + 0.0000 i$</td>\r\n",
       "                                <td>\r\n",
       "                                    <progress\r\n",
       "                                        max=\"100\"\r\n",
       "                                        value=\"12.500000000000005\"\r\n",
       "                                        style=\"width: 100%;\"\r\n",
       "                                    >\r\n",
       "                                </td>\r\n",
       "                                \r\n",
       "                                <td style=\"transform: rotate(0deg);\r\n",
       "                   text-align: center;\">\r\n",
       "                                 ↑\r\n",
       "                                </td>\r\n",
       "                            \r\n",
       "                            </tr>\r\n",
       "                        \n",
       "\r\n",
       "                            <tr>\r\n",
       "                                <td>$\\left|0110\\right\\rangle$</td>\r\n",
       "                                <td>$0.3536 + 0.0000 i$</td>\r\n",
       "                                <td>\r\n",
       "                                    <progress\r\n",
       "                                        max=\"100\"\r\n",
       "                                        value=\"12.500000000000005\"\r\n",
       "                                        style=\"width: 100%;\"\r\n",
       "                                    >\r\n",
       "                                </td>\r\n",
       "                                \r\n",
       "                                <td style=\"transform: rotate(0deg);\r\n",
       "                   text-align: center;\">\r\n",
       "                                 ↑\r\n",
       "                                </td>\r\n",
       "                            \r\n",
       "                            </tr>\r\n",
       "                        \n",
       "\r\n",
       "                            <tr>\r\n",
       "                                <td>$\\left|1000\\right\\rangle$</td>\r\n",
       "                                <td>$0.3536 + 0.0000 i$</td>\r\n",
       "                                <td>\r\n",
       "                                    <progress\r\n",
       "                                        max=\"100\"\r\n",
       "                                        value=\"12.500000000000005\"\r\n",
       "                                        style=\"width: 100%;\"\r\n",
       "                                    >\r\n",
       "                                </td>\r\n",
       "                                \r\n",
       "                                <td style=\"transform: rotate(0deg);\r\n",
       "                   text-align: center;\">\r\n",
       "                                 ↑\r\n",
       "                                </td>\r\n",
       "                            \r\n",
       "                            </tr>\r\n",
       "                        \n",
       "\r\n",
       "                            <tr>\r\n",
       "                                <td>$\\left|1010\\right\\rangle$</td>\r\n",
       "                                <td>$0.3536 + 0.0000 i$</td>\r\n",
       "                                <td>\r\n",
       "                                    <progress\r\n",
       "                                        max=\"100\"\r\n",
       "                                        value=\"12.500000000000005\"\r\n",
       "                                        style=\"width: 100%;\"\r\n",
       "                                    >\r\n",
       "                                </td>\r\n",
       "                                \r\n",
       "                                <td style=\"transform: rotate(0deg);\r\n",
       "                   text-align: center;\">\r\n",
       "                                 ↑\r\n",
       "                                </td>\r\n",
       "                            \r\n",
       "                            </tr>\r\n",
       "                        \n",
       "\r\n",
       "                            <tr>\r\n",
       "                                <td>$\\left|1101\\right\\rangle$</td>\r\n",
       "                                <td>$0.3536 + 0.0000 i$</td>\r\n",
       "                                <td>\r\n",
       "                                    <progress\r\n",
       "                                        max=\"100\"\r\n",
       "                                        value=\"12.500000000000005\"\r\n",
       "                                        style=\"width: 100%;\"\r\n",
       "                                    >\r\n",
       "                                </td>\r\n",
       "                                \r\n",
       "                                <td style=\"transform: rotate(0deg);\r\n",
       "                   text-align: center;\">\r\n",
       "                                 ↑\r\n",
       "                                </td>\r\n",
       "                            \r\n",
       "                            </tr>\r\n",
       "                        \n",
       "\r\n",
       "                            <tr>\r\n",
       "                                <td>$\\left|1110\\right\\rangle$</td>\r\n",
       "                                <td>$0.3536 + 0.0000 i$</td>\r\n",
       "                                <td>\r\n",
       "                                    <progress\r\n",
       "                                        max=\"100\"\r\n",
       "                                        value=\"12.500000000000005\"\r\n",
       "                                        style=\"width: 100%;\"\r\n",
       "                                    >\r\n",
       "                                </td>\r\n",
       "                                \r\n",
       "                                <td style=\"transform: rotate(0deg);\r\n",
       "                   text-align: center;\">\r\n",
       "                                 ↑\r\n",
       "                                </td>\r\n",
       "                            \r\n",
       "                            </tr>\r\n",
       "                        \r\n",
       "                        </tbody>\r\n",
       "                    </table>\r\n",
       "                "
      ],
      "text/plain": [
       "|0000⟩\t0.35355339059327384 + 0𝑖\n",
       "|0010⟩\t0.35355339059327384 + 0𝑖\n",
       "|0100⟩\t0.35355339059327384 + 0𝑖\n",
       "|0110⟩\t0.35355339059327384 + 0𝑖\n",
       "|1000⟩\t0.35355339059327384 + 0𝑖\n",
       "|1010⟩\t0.35355339059327384 + 0𝑖\n",
       "|1101⟩\t0.35355339059327384 + 0𝑖\n",
       "|1110⟩\t0.35355339059327384 + 0𝑖"
      ]
     },
     "metadata": {},
     "output_type": "display_data"
    },
    {
     "data": {
      "application/json": "{\"@type\":\"tuple\"}",
      "text/plain": [
       "()"
      ]
     },
     "execution_count": 149,
     "metadata": {},
     "output_type": "execute_result"
    }
   ],
   "source": [
    "%simulate DemoMarkedItem idxMarkedItem=3"
   ]
  },
  {
   "cell_type": "code",
   "execution_count": 150,
   "metadata": {
    "slideshow": {
     "slide_type": "slide"
    }
   },
   "outputs": [
    {
     "data": {
      "application/json": "[\"SearchForMarkedItem\"]",
      "text/html": [
       "<ul><li>SearchForMarkedItem</li></ul>"
      ],
      "text/plain": [
       "SearchForMarkedItem"
      ]
     },
     "execution_count": 150,
     "metadata": {},
     "output_type": "execute_result"
    }
   ],
   "source": [
    "operation SearchForMarkedItem(\n",
    "    nItems : Int,\n",
    "    markItem : ((Qubit[], Qubit) => Unit is Adj)\n",
    ")\n",
    ": Int {\n",
    "    using (qubits = Qubit[BitSizeI(nItems - 1)]) {\n",
    "        ApplyToEachCA(H, qubits);\n",
    "\n",
    "        DumpMachine();\n",
    "\n",
    "        for (idxIteration in 0..NIterations(BitSizeI(nItems - 1)) - 1) {\n",
    "            ReflectAboutMarkedState(markItem, qubits);\n",
    "            ReflectAboutInitialState(ApplyToEachCA(H, _), qubits);        \n",
    "        }\n",
    "\n",
    "        DumpMachine();\n",
    "\n",
    "        return MeasureInteger(LittleEndian(qubits));\n",
    "    }\n",
    "}"
   ]
  },
  {
   "cell_type": "code",
   "execution_count": 151,
   "metadata": {},
   "outputs": [
    {
     "data": {
      "application/json": "[\"RunGroverSearch\"]",
      "text/html": [
       "<ul><li>RunGroverSearch</li></ul>"
      ],
      "text/plain": [
       "RunGroverSearch"
      ]
     },
     "execution_count": 151,
     "metadata": {},
     "output_type": "execute_result"
    }
   ],
   "source": [
    "operation RunGroverSearch(nItems : Int, idxMarkedItem : Int) : Unit {\n",
    "    let markItem = MarkItemByIndex(idxMarkedItem, _, _);\n",
    "    let foundItem = SearchForMarkedItem(nItems, markItem);\n",
    "    Message($\"Marked {idxMarkedItem} and found {foundItem}.\");\n",
    "}"
   ]
  },
  {
   "cell_type": "code",
   "execution_count": 152,
   "metadata": {
    "slideshow": {
     "slide_type": "slide"
    }
   },
   "outputs": [
    {
     "data": {
      "application/json": "{\"QubitIds\":[0,1],\"NQubits\":2,\"Amplitudes\":[{\"Real\":0.5000000000000001,\"Imaginary\":0.0,\"Magnitude\":0.5000000000000001,\"Phase\":0.0},{\"Real\":0.5000000000000001,\"Imaginary\":0.0,\"Magnitude\":0.5000000000000001,\"Phase\":0.0},{\"Real\":0.5000000000000001,\"Imaginary\":0.0,\"Magnitude\":0.5000000000000001,\"Phase\":0.0},{\"Real\":0.5000000000000001,\"Imaginary\":0.0,\"Magnitude\":0.5000000000000001,\"Phase\":0.0}]}",
      "text/html": [
       "\r\n",
       "                    <table style=\"table-layout: fixed; width: 100%\">\r\n",
       "                        <thead>\r\n",
       "                            \r\n",
       "                        <tr>\r\n",
       "                            <th>Qubit IDs</th>\r\n",
       "                            <td span=\"3\">0, 1</td>\r\n",
       "                        </tr>\r\n",
       "                    \r\n",
       "                            <tr>\r\n",
       "                                <th style=\"width: 20ch)\">Basis state (bitstring)</th>\r\n",
       "                                <th style=\"width: 20ch\">Amplitude</th>\r\n",
       "                                <th style=\"width: calc(100% - 26ch - 20ch)\">Meas. Pr.</th>\r\n",
       "                                <th style=\"width: 6ch\">Phase</th>\r\n",
       "                            </tr>\r\n",
       "                        </thead>\r\n",
       "\r\n",
       "                        <tbody>\r\n",
       "                            \r\n",
       "                            <tr>\r\n",
       "                                <td>$\\left|00\\right\\rangle$</td>\r\n",
       "                                <td>$0.5000 + 0.0000 i$</td>\r\n",
       "                                <td>\r\n",
       "                                    <progress\r\n",
       "                                        max=\"100\"\r\n",
       "                                        value=\"25.00000000000001\"\r\n",
       "                                        style=\"width: 100%;\"\r\n",
       "                                    >\r\n",
       "                                </td>\r\n",
       "                                \r\n",
       "                                <td style=\"transform: rotate(0deg);\r\n",
       "                   text-align: center;\">\r\n",
       "                                 ↑\r\n",
       "                                </td>\r\n",
       "                            \r\n",
       "                            </tr>\r\n",
       "                        \n",
       "\r\n",
       "                            <tr>\r\n",
       "                                <td>$\\left|01\\right\\rangle$</td>\r\n",
       "                                <td>$0.5000 + 0.0000 i$</td>\r\n",
       "                                <td>\r\n",
       "                                    <progress\r\n",
       "                                        max=\"100\"\r\n",
       "                                        value=\"25.00000000000001\"\r\n",
       "                                        style=\"width: 100%;\"\r\n",
       "                                    >\r\n",
       "                                </td>\r\n",
       "                                \r\n",
       "                                <td style=\"transform: rotate(0deg);\r\n",
       "                   text-align: center;\">\r\n",
       "                                 ↑\r\n",
       "                                </td>\r\n",
       "                            \r\n",
       "                            </tr>\r\n",
       "                        \n",
       "\r\n",
       "                            <tr>\r\n",
       "                                <td>$\\left|10\\right\\rangle$</td>\r\n",
       "                                <td>$0.5000 + 0.0000 i$</td>\r\n",
       "                                <td>\r\n",
       "                                    <progress\r\n",
       "                                        max=\"100\"\r\n",
       "                                        value=\"25.00000000000001\"\r\n",
       "                                        style=\"width: 100%;\"\r\n",
       "                                    >\r\n",
       "                                </td>\r\n",
       "                                \r\n",
       "                                <td style=\"transform: rotate(0deg);\r\n",
       "                   text-align: center;\">\r\n",
       "                                 ↑\r\n",
       "                                </td>\r\n",
       "                            \r\n",
       "                            </tr>\r\n",
       "                        \n",
       "\r\n",
       "                            <tr>\r\n",
       "                                <td>$\\left|11\\right\\rangle$</td>\r\n",
       "                                <td>$0.5000 + 0.0000 i$</td>\r\n",
       "                                <td>\r\n",
       "                                    <progress\r\n",
       "                                        max=\"100\"\r\n",
       "                                        value=\"25.00000000000001\"\r\n",
       "                                        style=\"width: 100%;\"\r\n",
       "                                    >\r\n",
       "                                </td>\r\n",
       "                                \r\n",
       "                                <td style=\"transform: rotate(0deg);\r\n",
       "                   text-align: center;\">\r\n",
       "                                 ↑\r\n",
       "                                </td>\r\n",
       "                            \r\n",
       "                            </tr>\r\n",
       "                        \r\n",
       "                        </tbody>\r\n",
       "                    </table>\r\n",
       "                "
      ],
      "text/plain": [
       "|00⟩\t0.5000000000000001 + 0𝑖\n",
       "|01⟩\t0.5000000000000001 + 0𝑖\n",
       "|10⟩\t0.5000000000000001 + 0𝑖\n",
       "|11⟩\t0.5000000000000001 + 0𝑖"
      ]
     },
     "metadata": {},
     "output_type": "display_data"
    },
    {
     "data": {
      "application/json": "{\"QubitIds\":[0,1],\"NQubits\":2,\"Amplitudes\":[{\"Real\":-2.465190328815662E-32,\"Imaginary\":0.0,\"Magnitude\":2.465190328815662E-32,\"Phase\":3.141592653589793},{\"Real\":-1.0000000000000007,\"Imaginary\":0.0,\"Magnitude\":1.0000000000000007,\"Phase\":3.141592653589793},{\"Real\":-2.465190328815662E-32,\"Imaginary\":0.0,\"Magnitude\":2.465190328815662E-32,\"Phase\":3.141592653589793},{\"Real\":2.465190328815662E-32,\"Imaginary\":0.0,\"Magnitude\":2.465190328815662E-32,\"Phase\":0.0}]}",
      "text/html": [
       "\r\n",
       "                    <table style=\"table-layout: fixed; width: 100%\">\r\n",
       "                        <thead>\r\n",
       "                            \r\n",
       "                        <tr>\r\n",
       "                            <th>Qubit IDs</th>\r\n",
       "                            <td span=\"3\">0, 1</td>\r\n",
       "                        </tr>\r\n",
       "                    \r\n",
       "                            <tr>\r\n",
       "                                <th style=\"width: 20ch)\">Basis state (bitstring)</th>\r\n",
       "                                <th style=\"width: 20ch\">Amplitude</th>\r\n",
       "                                <th style=\"width: calc(100% - 26ch - 20ch)\">Meas. Pr.</th>\r\n",
       "                                <th style=\"width: 6ch\">Phase</th>\r\n",
       "                            </tr>\r\n",
       "                        </thead>\r\n",
       "\r\n",
       "                        <tbody>\r\n",
       "                            \r\n",
       "                            <tr>\r\n",
       "                                <td>$\\left|10\\right\\rangle$</td>\r\n",
       "                                <td>$-1.0000 + 0.0000 i$</td>\r\n",
       "                                <td>\r\n",
       "                                    <progress\r\n",
       "                                        max=\"100\"\r\n",
       "                                        value=\"100.00000000000013\"\r\n",
       "                                        style=\"width: 100%;\"\r\n",
       "                                    >\r\n",
       "                                </td>\r\n",
       "                                \r\n",
       "                                <td style=\"transform: rotate(180deg);\r\n",
       "                   text-align: center;\">\r\n",
       "                                 ↑\r\n",
       "                                </td>\r\n",
       "                            \r\n",
       "                            </tr>\r\n",
       "                        \r\n",
       "                        </tbody>\r\n",
       "                    </table>\r\n",
       "                "
      ],
      "text/plain": [
       "|10⟩\t-1.0000000000000007 + 0𝑖"
      ]
     },
     "metadata": {},
     "output_type": "display_data"
    },
    {
     "name": "stdout",
     "output_type": "stream",
     "text": [
      "Marked 1 and found 1.\n"
     ]
    },
    {
     "data": {
      "application/json": "{\"@type\":\"tuple\"}",
      "text/plain": [
       "()"
      ]
     },
     "execution_count": 152,
     "metadata": {},
     "output_type": "execute_result"
    }
   ],
   "source": [
    "%simulate RunGroverSearch nItems=4 idxMarkedItem=1"
   ]
  },
  {
   "cell_type": "code",
   "execution_count": null,
   "metadata": {
    "slideshow": {
     "slide_type": "slide"
    }
   },
   "outputs": [],
   "source": []
  }
 ],
 "metadata": {
  "celltoolbar": "Slideshow",
  "kernelspec": {
   "display_name": "Q#",
   "language": "qsharp",
   "name": "iqsharp"
  },
  "language_info": {
   "file_extension": ".qs",
   "mimetype": "text/x-qsharp",
   "name": "qsharp",
   "version": "0.12"
  }
 },
 "nbformat": 4,
 "nbformat_minor": 4
}
