{
 "cells": [
  {
   "cell_type": "markdown",
   "metadata": {
    "slideshow": {
     "slide_type": "slide"
    }
   },
   "source": [
    "# Running a Q# program on Azure Quantum"
   ]
  },
  {
   "cell_type": "markdown",
   "metadata": {},
   "source": [
    "This notebook demonstrates how to run a Q# program on Azure Quantum."
   ]
  },
  {
   "cell_type": "markdown",
   "metadata": {
    "slideshow": {
     "slide_type": "slide"
    }
   },
   "source": [
    "## Define Q# operations"
   ]
  },
  {
   "cell_type": "markdown",
   "metadata": {},
   "source": [
    "Q# operations can be imported from source files and used in a Q# Jupyter Notebook.\n",
    "\n",
    "This folder contains a file called [SimpleGrover.qs](../edit/SimpleGrover.qs), which contains a number of Q# operations.\n",
    "\n",
    "These operations can be listed using the `%workspace` command:"
   ]
  },
  {
   "cell_type": "code",
   "execution_count": null,
   "metadata": {
    "scrolled": true
   },
   "outputs": [],
   "source": [
    "%workspace"
   ]
  },
  {
   "cell_type": "markdown",
   "metadata": {
    "slideshow": {
     "slide_type": "slide"
    }
   },
   "source": [
    "Q# operations can also be implemented directly within a notebook cell.\n",
    "\n",
    "For example, the following Q# code defines an operation called `SearchForMarkedInput` that implements [Grover's search algorithm](https://docs.microsoft.com/quantum/tutorials/search):"
   ]
  },
  {
   "cell_type": "code",
   "execution_count": null,
   "metadata": {
    "slideshow": {
     "slide_type": "-"
    }
   },
   "outputs": [],
   "source": [
    "open Microsoft.Quantum.Arrays;\n",
    "open Microsoft.Quantum.Diagnostics;\n",
    "open Microsoft.Quantum.Measurement;\n",
    "open Microsoft.Quantum.Samples.SimpleGrover;\n",
    "\n",
    "operation SearchForMarkedInput(nQubits : Int, idxMarked : Int) : Result[] {\n",
    "    using (qubits = Qubit[nQubits]) {\n",
    "        // Initialize a uniform superposition over all possible inputs.\n",
    "        PrepareUniform(qubits);\n",
    "        // The search itself consists of repeatedly reflecting about the\n",
    "        // marked state and our start state, which we can write out in Q#\n",
    "        // as a for loop.\n",
    "        for (idxIteration in 0..NIterations(nQubits) - 1) {\n",
    "            ReflectAboutMarked(idxMarked, qubits);\n",
    "            ReflectAboutUniform(qubits);\n",
    "        }\n",
    "        // Output diagnostic information.\n",
    "        DumpMachine();\n",
    "        // Measure and return the answer.\n",
    "        return ForEach(MResetZ, qubits);\n",
    "    }\n",
    "}"
   ]
  },
  {
   "cell_type": "markdown",
   "metadata": {
    "slideshow": {
     "slide_type": "slide"
    }
   },
   "source": [
    "## Local simulation of Q# operations"
   ]
  },
  {
   "cell_type": "markdown",
   "metadata": {
    "slideshow": {
     "slide_type": "slide"
    }
   },
   "source": [
    "Using `%simulate`, you can invoke the built-in functionality to simulate a quantum operation locally and return the result. You can specify any operation that has been defined in the notebook or that has been imported from a separate file.\n",
    "\n",
    "For example, to simulate the `SearchForMarkedInput` operation with `nQubits=2` and `idxMarked=3`, run:\n",
    "\n",
    "`%simulate SearchForMarkedInput nQubits=2 idxMarked=3`"
   ]
  },
  {
   "cell_type": "code",
   "execution_count": null,
   "metadata": {},
   "outputs": [],
   "source": []
  },
  {
   "cell_type": "markdown",
   "metadata": {
    "slideshow": {
     "slide_type": "slide"
    }
   },
   "source": [
    "To use `nQubits=3` and `idxMarked=5` instead, simply change the corresponding parameters:\n",
    "\n",
    "`%simulate SearchForMarkedInput nQubits=3 idxMarked=5`"
   ]
  },
  {
   "cell_type": "code",
   "execution_count": null,
   "metadata": {},
   "outputs": [],
   "source": []
  },
  {
   "cell_type": "markdown",
   "metadata": {
    "slideshow": {
     "slide_type": "slide"
    }
   },
   "source": [
    "## Running Q# operations via Azure Quantum"
   ]
  },
  {
   "cell_type": "markdown",
   "metadata": {},
   "source": [
    "First, find the resource ID of your Azure Quantum workspace. You can copy/paste this from the top-right corner of your Quantum Workspace page in Azure Portal.\n",
    "\n",
    "Next, you can run `%azure.connect` to connect to the workspace and display the list of provisioned targets that support running Q# programs. If you are prompted to login, be sure to use the same account you used to create your Azure Quantum workspace. For example:\n",
    "\n",
    "`%azure.connect <resource ID of workspace>`"
   ]
  },
  {
   "cell_type": "code",
   "execution_count": null,
   "metadata": {},
   "outputs": [],
   "source": []
  },
  {
   "cell_type": "markdown",
   "metadata": {
    "slideshow": {
     "slide_type": "slide"
    }
   },
   "source": [
    "Now, use `%azure.target` to specify the target you'd like to use for job submission. To use the  `ionq.simulator` target, run:\n",
    "\n",
    "`%azure.target ionq.simulator`"
   ]
  },
  {
   "cell_type": "code",
   "execution_count": null,
   "metadata": {},
   "outputs": [],
   "source": []
  },
  {
   "cell_type": "markdown",
   "metadata": {
    "slideshow": {
     "slide_type": "slide"
    }
   },
   "source": [
    "To submit a job, use `%azure.submit` along with the Q# operation name and any parameters required by that operation. The `%azure.submit` command will return immediately after the job is created.\n",
    "\n",
    "For example, to submit the `SearchForMarkedInput` operation with `nQubits=2` and `idxMarked=3`, run:\n",
    "\n",
    "`%azure.submit SearchForMarkedInput nQubits=2 idxMarked=3 jobName=\"SearchForMarkedInput (2 qubits)\"`"
   ]
  },
  {
   "cell_type": "code",
   "execution_count": null,
   "metadata": {},
   "outputs": [],
   "source": []
  },
  {
   "cell_type": "markdown",
   "metadata": {
    "slideshow": {
     "slide_type": "slide"
    }
   },
   "source": [
    "To use `nQubits=3` and `idxMarked=5` instead, simply change the corresponding parameters:\n",
    "\n",
    "`%azure.submit SearchForMarkedInput nQubits=3 idxMarked=5 jobName=\"SearchForMarkedInput (3 qubits)\"`"
   ]
  },
  {
   "cell_type": "code",
   "execution_count": null,
   "metadata": {},
   "outputs": [],
   "source": []
  },
  {
   "cell_type": "markdown",
   "metadata": {
    "slideshow": {
     "slide_type": "slide"
    }
   },
   "source": [
    "## Viewing job status and results"
   ]
  },
  {
   "cell_type": "markdown",
   "metadata": {},
   "source": [
    "Running `%azure.status` will display the status of the most recently submitted job in this session."
   ]
  },
  {
   "cell_type": "code",
   "execution_count": null,
   "metadata": {},
   "outputs": [],
   "source": []
  },
  {
   "cell_type": "markdown",
   "metadata": {},
   "source": [
    "Once the job has completed, use `%azure.output` to display the result."
   ]
  },
  {
   "cell_type": "code",
   "execution_count": null,
   "metadata": {},
   "outputs": [],
   "source": []
  },
  {
   "cell_type": "markdown",
   "metadata": {
    "slideshow": {
     "slide_type": "slide"
    }
   },
   "source": [
    "You can also view the status of all jobs by using `%azure.jobs`. Providing a parameter to this command will filter to just the jobs containing that string.\n",
    "\n",
    "For example, you can query for the status of all jobs containing the string `SearchForMarkedInput` by running:\n",
    "\n",
    "`%azure.jobs SearchForMarkedInput`"
   ]
  },
  {
   "cell_type": "code",
   "execution_count": null,
   "metadata": {},
   "outputs": [],
   "source": []
  },
  {
   "cell_type": "markdown",
   "metadata": {},
   "source": [
    "We can see that some jobs were previously submitted to the `ionq.simulator` and `ionq.qpu` targets.\n",
    "\n",
    "By specifying the job ID, we can view the status and results of any of those jobs as well. For example, to view the results of a job with a particular ID, run:\n",
    "\n",
    "`%azure.output <job ID>`"
   ]
  },
  {
   "cell_type": "code",
   "execution_count": null,
   "metadata": {},
   "outputs": [],
   "source": []
  }
 ],
 "metadata": {
  "kernelspec": {
   "display_name": "Q#",
   "language": "qsharp",
   "name": "iqsharp"
  },
  "language_info": {
   "file_extension": ".qs",
   "mimetype": "text/x-qsharp",
   "name": "qsharp",
   "version": "0.12"
  },
  "rise": {
   "transition": "none"
  }
 },
 "nbformat": 4,
 "nbformat_minor": 4
}
