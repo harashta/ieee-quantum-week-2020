{
 "cells": [
  {
   "cell_type": "markdown",
   "metadata": {
    "slideshow": {
     "slide_type": "slide"
    }
   },
   "source": [
    "# Running a Q# program on Azure Quantum from Python"
   ]
  },
  {
   "cell_type": "markdown",
   "metadata": {},
   "source": [
    "This notebook demonstrates how to run a Q# program on Azure Quantum from Python."
   ]
  },
  {
   "cell_type": "markdown",
   "metadata": {
    "slideshow": {
     "slide_type": "slide"
    }
   },
   "source": [
    "## Import Q# operations"
   ]
  },
  {
   "cell_type": "markdown",
   "metadata": {},
   "source": [
    "Q# operations can be imported from source files and used from Python.\n",
    "\n",
    "This folder contains a file called [SimpleGrover.qs](../edit/SimpleGrover.qs), which contains a number of Q# operations.\n",
    "\n",
    "These operations can be listed using the `qsharp.get_workspace_operations()` command:"
   ]
  },
  {
   "cell_type": "code",
   "execution_count": null,
   "metadata": {
    "scrolled": true
   },
   "outputs": [],
   "source": [
    "import qsharp\n",
    "import qsharp.azure\n",
    "\n",
    "qsharp.get_workspace_operations()"
   ]
  },
  {
   "cell_type": "markdown",
   "metadata": {
    "slideshow": {
     "slide_type": "slide"
    }
   },
   "source": [
    "Q# operations can also be implemented inline.\n",
    "\n",
    "For example, the following cell compiles a Q# operation called `SearchForMarkedInput` that implements [Grover's search algorithm](https://docs.microsoft.com/quantum/tutorials/search):"
   ]
  },
  {
   "cell_type": "code",
   "execution_count": null,
   "metadata": {
    "slideshow": {
     "slide_type": "-"
    }
   },
   "outputs": [],
   "source": [
    "search_operation = qsharp.compile('''\n",
    "    open Microsoft.Quantum.Arrays;\n",
    "    open Microsoft.Quantum.Diagnostics;\n",
    "    open Microsoft.Quantum.Measurement;\n",
    "    open Microsoft.Quantum.Samples.SimpleGrover;\n",
    "\n",
    "    operation SearchForMarkedInput(nQubits : Int, idxMarked : Int) : Result[] {\n",
    "        using (qubits = Qubit[nQubits]) {\n",
    "            // Initialize a uniform superposition over all possible inputs.\n",
    "            PrepareUniform(qubits);\n",
    "            // The search itself consists of repeatedly reflecting about the\n",
    "            // marked state and our start state, which we can write out in Q#\n",
    "            // as a for loop.\n",
    "            for (idxIteration in 0..NIterations(nQubits) - 1) {\n",
    "                ReflectAboutMarked(idxMarked, qubits);\n",
    "                ReflectAboutUniform(qubits);\n",
    "            }\n",
    "            // Output diagnostic information.\n",
    "            DumpMachine();\n",
    "            // Measure and return the answer.\n",
    "            return ForEach(MResetZ, qubits);\n",
    "        }\n",
    "    }\n",
    "''')"
   ]
  },
  {
   "cell_type": "markdown",
   "metadata": {
    "slideshow": {
     "slide_type": "slide"
    }
   },
   "source": [
    "## Local simulation of Q# operations"
   ]
  },
  {
   "cell_type": "markdown",
   "metadata": {
    "slideshow": {
     "slide_type": "slide"
    }
   },
   "source": [
    "Using `simulate()`, you can invoke the built-in functionality to simulate a quantum operation locally and return the result. You can specify any operation that has been defined in the notebook or that has been imported from a separate file.\n",
    "\n",
    "For example, to simulate the `SearchForMarkedInput` operation with `nQubits=2` and `idxMarked=3`, run:\n",
    "\n",
    "`search_operation.simulate(nQubits=2, idxMarked=3)`"
   ]
  },
  {
   "cell_type": "code",
   "execution_count": null,
   "metadata": {},
   "outputs": [],
   "source": []
  },
  {
   "cell_type": "markdown",
   "metadata": {
    "slideshow": {
     "slide_type": "slide"
    }
   },
   "source": [
    "To use `nQubits=3` and `idxMarked=5` instead, simply change the corresponding parameters:\n",
    "\n",
    "`search_operation.simulate(nQubits=3, idxMarked=5)`"
   ]
  },
  {
   "cell_type": "code",
   "execution_count": null,
   "metadata": {},
   "outputs": [],
   "source": []
  },
  {
   "cell_type": "markdown",
   "metadata": {
    "slideshow": {
     "slide_type": "slide"
    }
   },
   "source": [
    "## Running Q# programs via Azure Quantum"
   ]
  },
  {
   "cell_type": "markdown",
   "metadata": {},
   "source": [
    "First, find the resource ID of your Azure Quantum workspace. You can copy/paste this from the top-right corner of your Quantum Workspace page in Azure Portal.\n",
    "\n",
    "Next, you can run `qsharp.azure.connect()` to connect to the workspace and display the list of provisioned targets that support running Q# programs. If you are prompted to login, be sure to use the same account you used to create your Azure Quantum workspace. For example:\n",
    "\n",
    "`qsharp.azure.connect(resourceId='<resource ID of workspace>')`"
   ]
  },
  {
   "cell_type": "code",
   "execution_count": null,
   "metadata": {},
   "outputs": [],
   "source": []
  },
  {
   "cell_type": "markdown",
   "metadata": {
    "slideshow": {
     "slide_type": "slide"
    }
   },
   "source": [
    "Now, use `qsharp.azure.target()` to specify the target you'd like to use for job submission. To use the `ionq.simulator` target, run:\n",
    "\n",
    "`qsharp.azure.target('ionq.simulator')`"
   ]
  },
  {
   "cell_type": "code",
   "execution_count": null,
   "metadata": {},
   "outputs": [],
   "source": []
  },
  {
   "cell_type": "markdown",
   "metadata": {
    "slideshow": {
     "slide_type": "slide"
    }
   },
   "source": [
    "To submit a job, use `qsharp.azure.submit()` along with the Q# operation and any parameters required by that operation. The `qsharp.azure.submit()` command will return immediately after the job is created.\n",
    "\n",
    "For example, to submit the `SearchForMarkedInput` operation with `nQubits=2` and `idxMarked=3`, run:\n",
    "\n",
    "`qsharp.azure.submit(search_operation, nQubits=2, idxMarked=3, jobName=\"SearchForMarkedInput (2 qubits)\")`"
   ]
  },
  {
   "cell_type": "code",
   "execution_count": null,
   "metadata": {},
   "outputs": [],
   "source": []
  },
  {
   "cell_type": "markdown",
   "metadata": {
    "slideshow": {
     "slide_type": "slide"
    }
   },
   "source": [
    "To use `nQubits=3` and `idxMarked=5` instead, simply change the corresponding parameters:\n",
    "\n",
    "`qsharp.azure.submit(search_operation, nQubits=3, idxMarked=5, jobName=\"SearchForMarkedInput (3 qubits)\")`"
   ]
  },
  {
   "cell_type": "code",
   "execution_count": null,
   "metadata": {},
   "outputs": [],
   "source": []
  },
  {
   "cell_type": "markdown",
   "metadata": {
    "slideshow": {
     "slide_type": "slide"
    }
   },
   "source": [
    "## Viewing job status and results"
   ]
  },
  {
   "cell_type": "markdown",
   "metadata": {},
   "source": [
    "Running `qsharp.azure.status()` will return the status of the most recently submitted job in this session."
   ]
  },
  {
   "cell_type": "code",
   "execution_count": null,
   "metadata": {},
   "outputs": [],
   "source": []
  },
  {
   "cell_type": "markdown",
   "metadata": {},
   "source": [
    "Once the job has completed, use `qsharp.azure.output()` to return the result."
   ]
  },
  {
   "cell_type": "code",
   "execution_count": null,
   "metadata": {},
   "outputs": [],
   "source": []
  },
  {
   "cell_type": "markdown",
   "metadata": {
    "slideshow": {
     "slide_type": "slide"
    }
   },
   "source": [
    "You can also get the status of all jobs by using `%azure.jobs`. Providing a parameter to this command will filter to just the jobs containing that string. For example, you can query for the status of all jobs containing the string `SearchForMarkedInput` by running:\n",
    "\n",
    "`qsharp.azure.jobs('SearchForMarkedInput')`"
   ]
  },
  {
   "cell_type": "code",
   "execution_count": null,
   "metadata": {},
   "outputs": [],
   "source": [
    "for job in qsharp.azure.jobs('SearchForMarkedInput'):\n",
    "    print(f'{job.id}\\t{job.target}\\t{job.name}\\t  Status = {job.status}')"
   ]
  },
  {
   "cell_type": "markdown",
   "metadata": {},
   "source": [
    "We can see that some jobs were previously submitted to the `ionq.simulator` and `ionq.qpu` targets. By specifying the job ID, we can view the status and results of any of those jobs as well. For example, to view the results of job ID `3e7454f2-17b5-4318-a9e8-d0152193d6ef`, run:\n",
    "\n",
    "`qsharp.azure.output('3e7454f2-17b5-4318-a9e8-d0152193d6ef')`"
   ]
  },
  {
   "cell_type": "code",
   "execution_count": null,
   "metadata": {},
   "outputs": [],
   "source": []
  }
 ],
 "metadata": {
  "kernelspec": {
   "display_name": "Python 3",
   "language": "python",
   "name": "python3"
  },
  "language_info": {
   "codemirror_mode": {
    "name": "ipython",
    "version": 3
   },
   "file_extension": ".py",
   "mimetype": "text/x-python",
   "name": "python",
   "nbconvert_exporter": "python",
   "pygments_lexer": "ipython3",
   "version": "3.7.9"
  },
  "rise": {
   "transition": "none"
  }
 },
 "nbformat": 4,
 "nbformat_minor": 4
}
