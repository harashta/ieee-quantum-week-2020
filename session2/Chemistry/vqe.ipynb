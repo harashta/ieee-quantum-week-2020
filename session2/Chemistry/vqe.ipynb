{
 "metadata": {
  "language_info": {
   "codemirror_mode": {
    "name": "ipython",
    "version": 3
   },
   "file_extension": ".py",
   "mimetype": "text/x-python",
   "name": "python",
   "nbconvert_exporter": "python",
   "pygments_lexer": "ipython3",
   "version": "3.7.9-final"
  },
  "orig_nbformat": 2,
  "kernelspec": {
   "name": "python_defaultSpec_1600118182129",
   "display_name": "Python 3.7.8 64-bit"
  }
 },
 "nbformat": 4,
 "nbformat_minor": 2,
 "cells": [
  {
   "cell_type": "markdown",
   "metadata": {},
   "source": [
    "# Quantum Chemistry: Variational Quantum Eigensolver\n",
    "## Simulate the dissociation curve (energy vs. bond length) for a $H_2$ molecule\n",
    "Based on http://openqemist.1qbit.com/docs/vqe_microsoft_qsharp.html#the-variational-quantum-eigensolver-vqe"
   ]
  },
  {
   "cell_type": "code",
   "execution_count": 1,
   "metadata": {
    "tags": []
   },
   "outputs": [
    {
     "output_type": "stream",
     "name": "stdout",
     "text": "3.63 s ± 0 ns per loop (mean ± std. dev. of 1 run, 1 loop each)\n"
    }
   ],
   "source": [
    "%%timeit -n 1 -r 1\n",
    "import qsharp"
   ]
  },
  {
   "cell_type": "code",
   "execution_count": 2,
   "metadata": {
    "tags": []
   },
   "outputs": [
    {
     "output_type": "display_data",
     "data": {
      "text/plain": "Adding package microsoft.quantum.chemistry.jupyter.",
      "application/json": "{\"LastUpdated\":\"2020-09-14T21:22:52.968931+00:00\",\"IsCompleted\":false,\"Description\":\"Adding package microsoft.quantum.chemistry.jupyter\",\"Subtask\":null}"
     },
     "metadata": {}
    },
    {
     "output_type": "stream",
     "name": "stdout",
     "text": "1.89 s ± 0 ns per loop (mean ± std. dev. of 1 run, 1 loop each)\n"
    }
   ],
   "source": [
    "%%timeit -n 1 -r 1\n",
    "from qsharp.chemistry import load_broombridge, load_fermion_hamiltonian, load_input_state, encode"
   ]
  },
  {
   "cell_type": "markdown",
   "metadata": {},
   "source": [
    "## 1. Load computed $H_2$  from file\n",
    "To generate:\n",
    "\n",
    "1. Go to: https://arrows.emsl.pnnl.gov/api/qsharp_chem\n",
    "\n",
    "2. Enter `HH theory{qsharp_chem}`\n",
    "\n",
    "3. Under Datafiles, click \"download\""
   ]
  },
  {
   "cell_type": "code",
   "execution_count": 3,
   "metadata": {
    "tags": []
   },
   "outputs": [],
   "source": [
    "import qsharp\n",
    "from qsharp.chemistry import load_broombridge, load_fermion_hamiltonian, load_input_state, encode\n",
    "\n",
    "filename = 'data/hydrogen_0.2.yaml'\n",
    "broombridge_data =  load_broombridge(filename)\n",
    "problem_description = broombridge_data.problem_description[0]\n",
    "ferm_hamiltonian = problem_description.load_fermion_hamiltonian()\n",
    "input_state = load_input_state(filename, \"UCCSD |G>\")\n",
    "num_qubits, hamiltonian_term_list, input_state_terms, energy_offset = encode(ferm_hamiltonian, input_state)"
   ]
  },
  {
   "source": [
    "### Hamiltonian terms\n",
    "## $H = \\sum_{pq}{h_{pq}} a_p^{\\dagger}a_q^{\\dagger} + \\frac{1}{2} \\sum_{pqrs}{h_{pqrs}} a_p^{\\dagger}a_q^{\\dagger}a_{r}a_{s}$"
   ],
   "cell_type": "markdown",
   "metadata": {}
  },
  {
   "cell_type": "code",
   "execution_count": 4,
   "metadata": {
    "tags": []
   },
   "outputs": [
    {
     "output_type": "stream",
     "name": "stdout",
     "text": "([([0], [0.17120128499999998]),\n  ([1], [0.17120128499999998]),\n  ([2], [-0.222796536]),\n  ([3], [-0.222796536])],\n [([0, 1], [0.1686232915]),\n  ([0, 2], [0.12054614575]),\n  ([0, 3], [0.16586802525]),\n  ([1, 2], [0.16586802525]),\n  ([1, 3], [0.12054614575]),\n  ([2, 3], [0.1743495025])],\n [],\n [([0, 1, 2, 3], [0.0, -0.0453218795, 0.0, 0.0453218795])])\n"
    }
   ],
   "source": [
    "import pprint as pp\n",
    "pp.pprint(hamiltonian_term_list)"
   ]
  },
  {
   "source": [
    "### Input trial state terms\n",
    "## $T(\\vec{\\theta}) = \\sum_{ij} \\theta_{ij} a_{i}^{\\dagger} a_{j} + \\theta_{ijkl} a_{i}^{\\dagger} a_{j}^{\\dagger} a_{k} a_{l}$"
   ],
   "cell_type": "markdown",
   "metadata": {}
  },
  {
   "cell_type": "code",
   "execution_count": 5,
   "metadata": {
    "tags": []
   },
   "outputs": [
    {
     "output_type": "stream",
     "name": "stdout",
     "text": "(3,\n [((0.001, 0.0), [2, 0]),\n  ((-0.001, 0.0), [3, 1]),\n  ((0.001, 0.0), [2, 3, 1, 0]),\n  ((1.0, 0.0), [0, 1])])\n"
    }
   ],
   "source": [
    "pp.pprint(input_state_terms)"
   ]
  },
  {
   "cell_type": "code",
   "execution_count": 6,
   "metadata": {
    "tags": []
   },
   "outputs": [
    {
     "output_type": "execute_result",
     "data": {
      "text/plain": "[0.001, -0.001, 0.001]"
     },
     "metadata": {},
     "execution_count": 6
    }
   ],
   "source": [
    "def get_var_params(input_state_terms):\n",
    "    \"\"\"Get variational parameters from the input state\"\"\"\n",
    "    _, var_params = input_state_terms\n",
    "    return [param for ((param, _), _) in var_params[:-1]]\n",
    "\n",
    "def new_input_state(var_params, input_state_terms):\n",
    "    \"\"\"Returns a new input state with updated variational parameters\"\"\"\n",
    "    val, terms = input_state_terms\n",
    "    new_amps = [((param, val), indices) for (((_, val), indices), param) in zip(terms, list(var_params) + [1.0])]\n",
    "    return (val, new_amps)\n",
    "\n",
    "var_params = get_var_params(input_state_terms)\n",
    "var_params"
   ]
  },
  {
   "source": [
    "## 2. Import Q# library operation\n",
    "To be able to access the namespace, we need to add it to the qsharp packages list and reload.\n",
    "\n",
    "We can then import the wrapper for the `EstimateEnergy` operation directly into our Python namespace using `QSharpCallable`."
   ],
   "cell_type": "markdown",
   "metadata": {}
  },
  {
   "cell_type": "code",
   "execution_count": 7,
   "metadata": {},
   "outputs": [
    {
     "output_type": "display_data",
     "data": {
      "text/plain": "Adding package Microsoft.Quantum.Chemistry.",
      "application/json": "{\"LastUpdated\":\"2020-09-14T21:22:55.4999385+00:00\",\"IsCompleted\":false,\"Description\":\"Adding package Microsoft.Quantum.Chemistry\",\"Subtask\":null}"
     },
     "metadata": {}
    },
    {
     "output_type": "display_data",
     "data": {
      "text/plain": "Reloading workspace.",
      "application/json": "{\"LastUpdated\":\"2020-09-14T21:22:56.2890218+00:00\",\"IsCompleted\":false,\"Description\":\"Reloading workspace\",\"Subtask\":null}"
     },
     "metadata": {}
    }
   ],
   "source": [
    "qsharp.packages.add(\"Microsoft.Quantum.Chemistry\")\n",
    "qsharp.reload()\n",
    "estimate_energy = qsharp.QSharpCallable(\"Microsoft.Quantum.Chemistry.JordanWigner.VQE.EstimateEnergy\", \"\")"
   ]
  },
  {
   "source": [
    "### Resource estimation\n",
    "\n",
    "Estimate quantum resources required to run this algorithm."
   ],
   "cell_type": "markdown",
   "metadata": {}
  },
  {
   "cell_type": "code",
   "execution_count": 8,
   "metadata": {
    "tags": []
   },
   "outputs": [
    {
     "output_type": "execute_result",
     "data": {
      "text/plain": "{'CNOT': 896,\n 'QubitClifford': 1148,\n 'R': 168,\n 'Measure': 70,\n 'T': 0,\n 'Depth': 0,\n 'Width': 4,\n 'BorrowedWidth': 0}"
     },
     "metadata": {},
     "execution_count": 8
    }
   ],
   "source": [
    "estimate_energy.estimate_resources(jwHamiltonian=(num_qubits, hamiltonian_term_list, input_state_terms, energy_offset), nSamples=1)"
   ]
  },
  {
   "source": [
    "## 3. Quantum evaluation\n",
    "Here we create a function that evaluates the Hamiltonian on a given number of qubits using the VQE algorithm and returns the energy result."
   ],
   "cell_type": "markdown",
   "metadata": {}
  },
  {
   "cell_type": "code",
   "execution_count": 9,
   "metadata": {},
   "outputs": [],
   "source": [
    "def evaluate_H(var_params, num_qubits, hamiltonian_term_list, input_state_terms, energy_offset, n_samples, verbose=False):\n",
    "    \"\"\"Runs EstimateEnergy with the input state modified by new variational parameters\"\"\"\n",
    "    input_state_terms = new_input_state(var_params, input_state_terms)\n",
    "    energy = estimate_energy.simulate(jwHamiltonian=(num_qubits, hamiltonian_term_list, input_state_terms, energy_offset), nSamples=1e18)\n",
    "    print(f\"Parameters: {var_params}, calculated energy: {energy}\") if verbose else _\n",
    "    return energy"
   ]
  },
  {
   "cell_type": "code",
   "execution_count": 10,
   "metadata": {
    "tags": []
   },
   "outputs": [
    {
     "output_type": "stream",
     "name": "stdout",
     "text": "Parameters: [0.001, -0.001, 0.001], calculated energy: -1.1163206832928165\n"
    },
    {
     "output_type": "execute_result",
     "data": {
      "text/plain": "-1.1163206832928165"
     },
     "metadata": {},
     "execution_count": 10
    }
   ],
   "source": [
    "evaluate_H(var_params, num_qubits, hamiltonian_term_list, input_state_terms, energy_offset, n_samples=1e18, verbose=True)"
   ]
  },
  {
   "source": [
    "### Minimize the energy\n",
    "The goal of VQE is to estimate the ground state energy of a given Hamiltonian variationally. Here, we run the VQE circuit multiple times to get the expectation value of the energy with varying input parameters, until the global minimum is found."
   ],
   "cell_type": "markdown",
   "metadata": {}
  },
  {
   "cell_type": "code",
   "execution_count": 11,
   "metadata": {},
   "outputs": [],
   "source": [
    "from scipy.optimize import minimize\n",
    "\n",
    "def VQE(initial_var_params, num_qubits, hamiltonian_term_list, input_state_terms, energy_offset, n_samples, verbose):\n",
    "    opt_result = minimize(evaluate_H,\n",
    "                          initial_var_params,\n",
    "                          args=(num_qubits, hamiltonian_term_list, input_state_terms, energy_offset, n_samples, verbose),\n",
    "                          method=\"COBYLA\",\n",
    "                          tol=0.000001,\n",
    "                          options={'disp': True, 'maxiter': 200,'rhobeg' : 0.05})\n",
    "    return opt_result"
   ]
  },
  {
   "cell_type": "code",
   "execution_count": 12,
   "metadata": {
    "tags": []
   },
   "outputs": [
    {
     "output_type": "stream",
     "name": "stdout",
     "text": "Parameters: [ 0.001 -0.001  0.001], calculated energy: -1.1163206834000161\nParameters: [ 0.051 -0.001  0.001], calculated energy: -1.1143693480147085\nParameters: [0.001 0.049 0.001], calculated energy: -1.1144494156823095\nParameters: [ 0.001 -0.001  0.051], calculated energy: -1.0941301538175583\nParameters: [-0.0033645  -0.00518542 -0.04863299], calculated energy: -1.1305266765693185\nParameters: [-0.01021579 -0.01175558 -0.09772365], calculated energy: -1.1366498431269147\nParameters: [-0.04496727 -0.04625581 -0.10782658], calculated energy: -1.133169622130144\nParameters: [ 0.00741028 -0.02948449 -0.09781082], calculated energy: -1.1362581504555616\nParameters: [ 0.00679366  0.01160861 -0.13852552], calculated energy: -1.1360580830871494\nParameters: [-1.71106807e-03 -7.34886915e-05 -1.18124585e-01], calculated energy: -1.1372266413690135\nParameters: [ 0.01101093  0.02025182 -0.11105121], calculated energy: -1.1367639233856788\nParameters: [-0.01406918  0.00127264 -0.13981479], calculated energy: -1.135961700306503\nParameters: [ 0.00830554 -0.00728485 -0.12010293], calculated energy: -1.1371149026083591\nParameters: [ 0.00150415  0.0047795  -0.11585007], calculated energy: -1.1372355787290442\nParameters: [ 0.0017774   0.00595035 -0.11873452], calculated energy: -1.1371844502573945\nParameters: [-0.00125662  0.00459899 -0.11024578], calculated energy: -1.137241855571082\nParameters: [ 0.00140629  0.00312955 -0.10952794], calculated energy: -1.1372393005840267\nParameters: [-0.00492482  0.00126103 -0.10644251], calculated energy: -1.137181594775063\nParameters: [-0.00032518  0.00719314 -0.10877323], calculated energy: -1.1372007749607476\nParameters: [-0.0010556   0.00376601 -0.11325101], calculated energy: -1.1372597707651262\nParameters: [-0.00254376  0.00111338 -0.1139683 ], calculated energy: -1.1372640475482676\nParameters: [-0.0024217   0.00103689 -0.11552415], calculated energy: -1.1372560571424941\nParameters: [-0.00321375  0.00150872 -0.1140403 ], calculated energy: -1.1372607055177557\nParameters: [-0.00212284  0.00020201 -0.11277096], calculated energy: -1.1372668576685356\nParameters: [-0.00105628  0.00115993 -0.11214948], calculated energy: -1.1372675764115958\nParameters: [ 0.00017566  0.0002499  -0.11245859], calculated energy: -1.1372697332775559\nParameters: [ 0.00108608 -0.00070472 -0.11162119], calculated energy: -1.1372660135422867\nParameters: [ 0.00045258  0.00050012 -0.11314493], calculated energy: -1.1372699641057173\nParameters: [ 0.00021951  0.0002478  -0.11333095], calculated energy: -1.1372701921393849\nParameters: [ 0.00059892 -0.00038644 -0.1135842 ], calculated energy: -1.1372696598328536\nParameters: [-0.00041218  0.00053469 -0.11369014], calculated energy: -1.1372695004400217\nParameters: [ 5.60496883e-05  9.09562614e-05 -1.13012727e-01], calculated energy: -1.1372703992925959\nParameters: [-0.00033171  0.00012435 -0.11297928], calculated energy: -1.1372703188995201\nParameters: [ 9.79181262e-05 -2.93785092e-04 -1.12959727e-01], calculated energy: -1.1372703320693396\nParameters: [ 0.00011357  0.00015267 -0.11283657], calculated energy: -1.1372702962526056\nParameters: [-4.13604342e-05  9.09699775e-05 -1.13019656e-01], calculated energy: -1.1372704050329556\nParameters: [-4.01815908e-05  1.36917258e-04 -1.13036137e-01], calculated energy: -1.1372703986045076\nParameters: [-4.58184023e-05  3.74773718e-05 -1.13101236e-01], calculated energy: -1.1372704096470567\nParameters: [-8.70963830e-05 -4.86184787e-05 -1.13080733e-01], calculated energy: -1.137270404691916\nParameters: [ 4.19913960e-07  2.18723292e-05 -1.13099597e-01], calculated energy: -1.1372704120926564\nParameters: [ 3.22473501e-05  2.86754004e-05 -1.13135997e-01], calculated energy: -1.1372704037877162\nParameters: [-6.39551299e-06  6.35119960e-07 -1.13109526e-01], calculated energy: -1.1372704105543345\nParameters: [ 5.79237035e-06  1.21039465e-05 -1.13052059e-01], calculated energy: -1.1372704136692455\nParameters: [ 4.44582445e-05  3.40478120e-05 -1.13031870e-01], calculated energy: -1.137270410354743\nParameters: [-1.44437113e-05  2.29595809e-05 -1.13043770e-01], calculated energy: -1.1372704123860577\nParameters: [ 4.17335425e-06 -1.22375090e-05 -1.13051100e-01], calculated energy: -1.1372704140423169\nParameters: [ 2.63195354e-05 -1.88264596e-05 -1.13043215e-01], calculated energy: -1.137270413145167\nParameters: [ 4.07756103e-06 -1.60379657e-05 -1.13075217e-01], calculated energy: -1.1372704141568484\nParameters: [-7.62804061e-06 -1.94286876e-05 -1.13075919e-01], calculated energy: -1.1372704132368008\nParameters: [ 5.70637047e-06 -2.18494168e-05 -1.13074307e-01], calculated energy: -1.1372704138186829\nParameters: [ 1.16691464e-05 -6.71527857e-06 -1.13077330e-01], calculated energy: -1.1372704136422263\nParameters: [ 7.89737958e-06 -2.07630441e-05 -1.13074637e-01], calculated energy: -1.137270413435715\nParameters: [ 3.76731817e-06 -1.47338096e-05 -1.13069262e-01], calculated energy: -1.137270414012915\nParameters: [ 1.28980049e-06 -1.51401832e-05 -1.13076074e-01], calculated energy: -1.1372704133957372\nParameters: [ 6.10522230e-06 -1.38094276e-05 -1.13075702e-01], calculated energy: -1.1372704130345634\nParameters: [ 3.86696384e-06 -1.59061826e-05 -1.13073711e-01], calculated energy: -1.1372704140874856\nParameters: [ 4.29479349e-06 -1.75477273e-05 -1.13075175e-01], calculated energy: -1.1372704140517813\nParameters: [ 3.10102628e-06 -1.60643727e-05 -1.13075430e-01], calculated energy: -1.1372704141618564\nParameters: [ 3.15080028e-06 -1.52648313e-05 -1.13076029e-01], calculated energy: -1.1372704137160072\n     fun: -1.1372704137160072\n   maxcv: 0.0\n message: 'Optimization terminated successfully.'\n    nfev: 59\n  status: 1\n success: True\n       x: array([ 3.15080028e-06, -1.52648313e-05, -1.13076029e-01])\n"
    }
   ],
   "source": [
    "opt_result = VQE(var_params, num_qubits, hamiltonian_term_list, input_state_terms, energy_offset, n_samples=1e18, verbose=True)\n",
    "print(opt_result)"
   ]
  },
  {
   "cell_type": "code",
   "execution_count": 13,
   "metadata": {
    "tags": []
   },
   "outputs": [
    {
     "output_type": "stream",
     "name": "stdout",
     "text": "Difference with exact FCI value:  8.376432880652374e-09\n"
    }
   ],
   "source": [
    "# Print difference with exact FCI value known for this bond length\n",
    "fci_value = -1.1372704220924401\n",
    "print(\"Difference with exact FCI value: \", abs(opt_result.fun - fci_value))"
   ]
  },
  {
   "cell_type": "code",
   "execution_count": 14,
   "metadata": {
    "tags": []
   },
   "outputs": [],
   "source": [
    "def compute_energy_vqe(problem_description, verbose=False):\n",
    "    \"\"\"Parse the problem description and variationally find the ground state energy in Ha using VQE\"\"\"\n",
    "    ferm_hamiltonian = problem_description.load_fermion_hamiltonian()\n",
    "    input_state = load_input_state(filename, \"UCCSD |G>\")\n",
    "    num_qubits, hamiltonian_term_list, input_state_terms, energy_offset = encode(ferm_hamiltonian, input_state)\n",
    "    var_params = get_var_params(input_state_terms)\n",
    "    opt_result = VQE(var_params, num_qubits, hamiltonian_term_list, input_state_terms, energy_offset, n_samples=1e18, verbose=verbose)\n",
    "\n",
    "    if opt_result.status == 1:\n",
    "        return opt_result.fun"
   ]
  },
  {
   "cell_type": "code",
   "execution_count": 15,
   "metadata": {
    "tags": []
   },
   "outputs": [
    {
     "output_type": "execute_result",
     "data": {
      "text/plain": "-1.1372704137575473"
     },
     "metadata": {},
     "execution_count": 15
    }
   ],
   "source": [
    "problem_description = broombridge_data.problem_description[0]\n",
    "compute_energy_vqe(problem_description)"
   ]
  },
  {
   "cell_type": "markdown",
   "metadata": {},
   "source": [
    "## 3. Calculate one and two-electron integrals using PySCF for a given bond length\n",
    "\n",
    "First, create a function that returns a molecule with a varying bond length."
   ]
  },
  {
   "cell_type": "code",
   "execution_count": 16,
   "metadata": {},
   "outputs": [],
   "source": [
    "import numpy as np\n",
    "from pyscf import gto, scf, fci, ao2mo\n",
    "\n",
    "def create_H2_molecule(bond_length):\n",
    "    # Create molecule object with PySCF\n",
    "    H2 = [['H',[ 0, 0, 0]], ['H',[0,0, bond_length]]]\n",
    "    mol = gto.Mole()\n",
    "    mol.atom = H2\n",
    "    mol.basis = \"sto-3g\"\n",
    "    mol.charge = 0\n",
    "    mol.spin = 0\n",
    "    mol.build()\n",
    "    return mol"
   ]
  },
  {
   "source": [
    "Here are some functions that wrangle the output from PySCF into Broombridge format that is compatible with the Q# operation `EstimateEnergy`."
   ],
   "cell_type": "markdown",
   "metadata": {}
  },
  {
   "cell_type": "code",
   "execution_count": 17,
   "metadata": {},
   "outputs": [],
   "source": [
    "from pyscf import gto, scf, fci, ao2mo\n",
    "\n",
    "def compute_integrals(problem_description, molecule, RHF):\n",
    "    \"\"\"\n",
    "    Compute one and two-electron integrals and output in Broombridge format\n",
    "    \"\"\"\n",
    "    one_electron_integrals = problem_description.hamiltonian['OneElectronIntegrals']['Values']\n",
    "    two_electron_integrals = problem_description.hamiltonian['TwoElectronIntegrals']['Values']\n",
    "    \n",
    "    # Get molecular orbital coefficients\n",
    "    h_pq = np.around(RHF.mo_coeff.T @ RHF.get_hcore() @ RHF.mo_coeff, decimals=6)\n",
    "    one_electron_integrals = [([j, i], h_pq[i-1, j-1]) for (j, i), _ in one_electron_integrals]\n",
    "\n",
    "    # Get interaction terms\n",
    "    h_pqrs = np.around(ao2mo.restore(1, ao2mo.kernel(molecule, RHF.mo_coeff), 2), 6)\n",
    "    two_electron_integrals = [([l, k, j, i], h_pqrs[i-1, j-1, k-1, l-1]) for (l, k, j, i), _ in two_electron_integrals]\n",
    "\n",
    "    return one_electron_integrals, two_electron_integrals\n",
    "\n",
    "def updated_problem_description(filename, one_electron_integrals, two_electron_integrals, nuclear_repulsion):\n",
    "    \"\"\"Update problem description with new one and two-electrom integral and nuclear repulsion terms\"\"\"\n",
    "    broombridge_data = load_broombridge(filename)\n",
    "    problem_description = broombridge_data.problem_description[0]\n",
    "    problem_description.hamiltonian['OneElectronIntegrals']['Values'] = one_electron_integrals\n",
    "    problem_description.hamiltonian['TwoElectronIntegrals']['Values'] = two_electron_integrals\n",
    "    problem_description.coulomb_repulsion['Value'] = nuclear_repulsion\n",
    "\n",
    "    return problem_description"
   ]
  },
  {
   "source": [
    "Run the PySCF Restricted Hartree-Fock simulation"
   ],
   "cell_type": "markdown",
   "metadata": {}
  },
  {
   "cell_type": "code",
   "execution_count": 18,
   "metadata": {
    "tags": []
   },
   "outputs": [
    {
     "output_type": "stream",
     "name": "stdout",
     "text": "converged SCF energy = -1.10067441313401\n"
    },
    {
     "output_type": "execute_result",
     "data": {
      "text/plain": "([([1, 1], -1.184281), ([2, 2], -0.538244)],\n [([1, 1, 1, 1], 0.652123),\n  ([1, 2, 2, 1], 0.188121),\n  ([1, 1, 2, 2], 0.643609),\n  ([2, 2, 2, 2], 0.676401)],\n 0.6157648096008939)"
     },
     "metadata": {},
     "execution_count": 18
    }
   ],
   "source": [
    "molecule = create_H2_molecule(bond_length=1.624/1.88973)\n",
    "RHF = scf.RHF(molecule)\n",
    "RHF.scf()\n",
    "energy_nuc = RHF.energy_nuc()\n",
    "one_el, two_el = compute_integrals(problem_description, molecule, RHF)\n",
    "one_el, two_el, energy_nuc"
   ]
  },
  {
   "source": [
    "Use this as input to the VQE algorithm and evaluate quantumly"
   ],
   "cell_type": "markdown",
   "metadata": {}
  },
  {
   "cell_type": "code",
   "execution_count": 19,
   "metadata": {
    "tags": []
   },
   "outputs": [
    {
     "output_type": "execute_result",
     "data": {
      "text/plain": "-1.1270309926775335"
     },
     "metadata": {},
     "execution_count": 19
    }
   ],
   "source": [
    "new_pd = updated_problem_description(filename, one_el, two_el, energy_nuc)\n",
    "compute_energy_vqe(new_pd)"
   ]
  },
  {
   "cell_type": "markdown",
   "metadata": {},
   "source": [
    "## 4. Run VQE for varying bond length\n",
    "\n",
    "Now, we will take everything we've done and run it in a for-loop to calculate the energy for a list of bond lengths. "
   ]
  },
  {
   "cell_type": "code",
   "execution_count": 20,
   "metadata": {
    "tags": []
   },
   "outputs": [
    {
     "output_type": "stream",
     "name": "stdout",
     "text": "converged SCF energy = -0.904361394163539\nconverged SCF energy = -1.04299627454009\nconverged SCF energy = -1.1011282422677\nconverged SCF energy = -1.11734903499028\nconverged SCF energy = -1.11085039747659\nconverged SCF energy = -1.09191404102006\nconverged SCF energy = -1.06610864931794\nconverged SCF energy = -1.03653887502918\nconverged SCF energy = -1.00510670656849\nconverged SCF energy = -0.973110615777578\nconverged SCF energy = -0.941480654707798\nconverged SCF energy = -0.910873554594386\nconverged SCF energy = -0.881732449946057\n"
    }
   ],
   "source": [
    "energy = []\n",
    "bond_lengths = np.arange(0.4,1.7,0.1)\n",
    "\n",
    "for bond_length in bond_lengths:\n",
    "    molecule = create_H2_molecule(bond_length=bond_length)\n",
    "    RHF = scf.RHF(molecule)\n",
    "    RHF.scf()\n",
    "    energy_nuc = RHF.energy_nuc()\n",
    "    one_el, two_el = compute_integrals(problem_description, molecule, RHF)\n",
    "    new_pd = updated_problem_description(filename, one_el, two_el, energy_nuc)\n",
    "    _energy = compute_energy_vqe(new_pd)\n",
    "    energy.append(_energy)"
   ]
  },
  {
   "cell_type": "code",
   "execution_count": 21,
   "metadata": {},
   "outputs": [
    {
     "output_type": "execute_result",
     "data": {
      "text/plain": "Text(0, 0.5, 'Energy (Ha)')"
     },
     "metadata": {},
     "execution_count": 21
    },
    {
     "output_type": "display_data",
     "data": {
      "text/plain": "<Figure size 432x288 with 1 Axes>",
      "image/svg+xml": "<?xml version=\"1.0\" encoding=\"utf-8\" standalone=\"no\"?>\n<!DOCTYPE svg PUBLIC \"-//W3C//DTD SVG 1.1//EN\"\n  \"http://www.w3.org/Graphics/SVG/1.1/DTD/svg11.dtd\">\n<!-- Created with matplotlib (https://matplotlib.org/) -->\n<svg height=\"269.620937pt\" version=\"1.1\" viewBox=\"0 0 408.023594 269.620937\" width=\"408.023594pt\" xmlns=\"http://www.w3.org/2000/svg\" xmlns:xlink=\"http://www.w3.org/1999/xlink\">\n <metadata>\n  <rdf:RDF xmlns:cc=\"http://creativecommons.org/ns#\" xmlns:dc=\"http://purl.org/dc/elements/1.1/\" xmlns:rdf=\"http://www.w3.org/1999/02/22-rdf-syntax-ns#\">\n   <cc:Work>\n    <dc:type rdf:resource=\"http://purl.org/dc/dcmitype/StillImage\"/>\n    <dc:date>2020-09-14T21:26:14.971675</dc:date>\n    <dc:format>image/svg+xml</dc:format>\n    <dc:creator>\n     <cc:Agent>\n      <dc:title>Matplotlib v3.3.1, https://matplotlib.org/</dc:title>\n     </cc:Agent>\n    </dc:creator>\n   </cc:Work>\n  </rdf:RDF>\n </metadata>\n <defs>\n  <style type=\"text/css\">*{stroke-linecap:butt;stroke-linejoin:round;}</style>\n </defs>\n <g id=\"figure_1\">\n  <g id=\"patch_1\">\n   <path d=\"M 0 269.620937 \nL 408.023594 269.620937 \nL 408.023594 0 \nL 0 0 \nz\n\" style=\"fill:#ffffff;\"/>\n  </g>\n  <g id=\"axes_1\">\n   <g id=\"patch_2\">\n    <path d=\"M 66.023594 224.64 \nL 400.823594 224.64 \nL 400.823594 7.2 \nL 66.023594 7.2 \nz\n\" style=\"fill:#eaeaf2;\"/>\n   </g>\n   <g id=\"matplotlib.axis_1\">\n    <g id=\"xtick_1\">\n     <g id=\"line2d_1\">\n      <path clip-path=\"url(#p7a84643e50)\" d=\"M 81.241776 224.64 \nL 81.241776 7.2 \n\" style=\"fill:none;stroke:#ffffff;stroke-linecap:round;\"/>\n     </g>\n     <g id=\"text_1\">\n      <!-- 0.4 -->\n      <g style=\"fill:#262626;\" transform=\"translate(72.495057 242.498281)scale(0.11 -0.11)\">\n       <defs>\n        <path d=\"M 31.78125 66.40625 \nQ 24.171875 66.40625 20.328125 58.90625 \nQ 16.5 51.421875 16.5 36.375 \nQ 16.5 21.390625 20.328125 13.890625 \nQ 24.171875 6.390625 31.78125 6.390625 \nQ 39.453125 6.390625 43.28125 13.890625 \nQ 47.125 21.390625 47.125 36.375 \nQ 47.125 51.421875 43.28125 58.90625 \nQ 39.453125 66.40625 31.78125 66.40625 \nz\nM 31.78125 74.21875 \nQ 44.046875 74.21875 50.515625 64.515625 \nQ 56.984375 54.828125 56.984375 36.375 \nQ 56.984375 17.96875 50.515625 8.265625 \nQ 44.046875 -1.421875 31.78125 -1.421875 \nQ 19.53125 -1.421875 13.0625 8.265625 \nQ 6.59375 17.96875 6.59375 36.375 \nQ 6.59375 54.828125 13.0625 64.515625 \nQ 19.53125 74.21875 31.78125 74.21875 \nz\n\" id=\"DejaVuSans-48\"/>\n        <path d=\"M 10.6875 12.40625 \nL 21 12.40625 \nL 21 0 \nL 10.6875 0 \nz\n\" id=\"DejaVuSans-46\"/>\n        <path d=\"M 37.796875 64.3125 \nL 12.890625 25.390625 \nL 37.796875 25.390625 \nz\nM 35.203125 72.90625 \nL 47.609375 72.90625 \nL 47.609375 25.390625 \nL 58.015625 25.390625 \nL 58.015625 17.1875 \nL 47.609375 17.1875 \nL 47.609375 0 \nL 37.796875 0 \nL 37.796875 17.1875 \nL 4.890625 17.1875 \nL 4.890625 26.703125 \nz\n\" id=\"DejaVuSans-52\"/>\n       </defs>\n       <use xlink:href=\"#DejaVuSans-48\"/>\n       <use x=\"63.623047\" xlink:href=\"#DejaVuSans-46\"/>\n       <use x=\"95.410156\" xlink:href=\"#DejaVuSans-52\"/>\n      </g>\n     </g>\n    </g>\n    <g id=\"xtick_2\">\n     <g id=\"line2d_2\">\n      <path clip-path=\"url(#p7a84643e50)\" d=\"M 131.969048 224.64 \nL 131.969048 7.2 \n\" style=\"fill:none;stroke:#ffffff;stroke-linecap:round;\"/>\n     </g>\n     <g id=\"text_2\">\n      <!-- 0.6 -->\n      <g style=\"fill:#262626;\" transform=\"translate(123.22233 242.498281)scale(0.11 -0.11)\">\n       <defs>\n        <path d=\"M 33.015625 40.375 \nQ 26.375 40.375 22.484375 35.828125 \nQ 18.609375 31.296875 18.609375 23.390625 \nQ 18.609375 15.53125 22.484375 10.953125 \nQ 26.375 6.390625 33.015625 6.390625 \nQ 39.65625 6.390625 43.53125 10.953125 \nQ 47.40625 15.53125 47.40625 23.390625 \nQ 47.40625 31.296875 43.53125 35.828125 \nQ 39.65625 40.375 33.015625 40.375 \nz\nM 52.59375 71.296875 \nL 52.59375 62.3125 \nQ 48.875 64.0625 45.09375 64.984375 \nQ 41.3125 65.921875 37.59375 65.921875 \nQ 27.828125 65.921875 22.671875 59.328125 \nQ 17.53125 52.734375 16.796875 39.40625 \nQ 19.671875 43.65625 24.015625 45.921875 \nQ 28.375 48.1875 33.59375 48.1875 \nQ 44.578125 48.1875 50.953125 41.515625 \nQ 57.328125 34.859375 57.328125 23.390625 \nQ 57.328125 12.15625 50.6875 5.359375 \nQ 44.046875 -1.421875 33.015625 -1.421875 \nQ 20.359375 -1.421875 13.671875 8.265625 \nQ 6.984375 17.96875 6.984375 36.375 \nQ 6.984375 53.65625 15.1875 63.9375 \nQ 23.390625 74.21875 37.203125 74.21875 \nQ 40.921875 74.21875 44.703125 73.484375 \nQ 48.484375 72.75 52.59375 71.296875 \nz\n\" id=\"DejaVuSans-54\"/>\n       </defs>\n       <use xlink:href=\"#DejaVuSans-48\"/>\n       <use x=\"63.623047\" xlink:href=\"#DejaVuSans-46\"/>\n       <use x=\"95.410156\" xlink:href=\"#DejaVuSans-54\"/>\n      </g>\n     </g>\n    </g>\n    <g id=\"xtick_3\">\n     <g id=\"line2d_3\">\n      <path clip-path=\"url(#p7a84643e50)\" d=\"M 182.696321 224.64 \nL 182.696321 7.2 \n\" style=\"fill:none;stroke:#ffffff;stroke-linecap:round;\"/>\n     </g>\n     <g id=\"text_3\">\n      <!-- 0.8 -->\n      <g style=\"fill:#262626;\" transform=\"translate(173.949602 242.498281)scale(0.11 -0.11)\">\n       <defs>\n        <path d=\"M 31.78125 34.625 \nQ 24.75 34.625 20.71875 30.859375 \nQ 16.703125 27.09375 16.703125 20.515625 \nQ 16.703125 13.921875 20.71875 10.15625 \nQ 24.75 6.390625 31.78125 6.390625 \nQ 38.8125 6.390625 42.859375 10.171875 \nQ 46.921875 13.96875 46.921875 20.515625 \nQ 46.921875 27.09375 42.890625 30.859375 \nQ 38.875 34.625 31.78125 34.625 \nz\nM 21.921875 38.8125 \nQ 15.578125 40.375 12.03125 44.71875 \nQ 8.5 49.078125 8.5 55.328125 \nQ 8.5 64.0625 14.71875 69.140625 \nQ 20.953125 74.21875 31.78125 74.21875 \nQ 42.671875 74.21875 48.875 69.140625 \nQ 55.078125 64.0625 55.078125 55.328125 \nQ 55.078125 49.078125 51.53125 44.71875 \nQ 48 40.375 41.703125 38.8125 \nQ 48.828125 37.15625 52.796875 32.3125 \nQ 56.78125 27.484375 56.78125 20.515625 \nQ 56.78125 9.90625 50.3125 4.234375 \nQ 43.84375 -1.421875 31.78125 -1.421875 \nQ 19.734375 -1.421875 13.25 4.234375 \nQ 6.78125 9.90625 6.78125 20.515625 \nQ 6.78125 27.484375 10.78125 32.3125 \nQ 14.796875 37.15625 21.921875 38.8125 \nz\nM 18.3125 54.390625 \nQ 18.3125 48.734375 21.84375 45.5625 \nQ 25.390625 42.390625 31.78125 42.390625 \nQ 38.140625 42.390625 41.71875 45.5625 \nQ 45.3125 48.734375 45.3125 54.390625 \nQ 45.3125 60.0625 41.71875 63.234375 \nQ 38.140625 66.40625 31.78125 66.40625 \nQ 25.390625 66.40625 21.84375 63.234375 \nQ 18.3125 60.0625 18.3125 54.390625 \nz\n\" id=\"DejaVuSans-56\"/>\n       </defs>\n       <use xlink:href=\"#DejaVuSans-48\"/>\n       <use x=\"63.623047\" xlink:href=\"#DejaVuSans-46\"/>\n       <use x=\"95.410156\" xlink:href=\"#DejaVuSans-56\"/>\n      </g>\n     </g>\n    </g>\n    <g id=\"xtick_4\">\n     <g id=\"line2d_4\">\n      <path clip-path=\"url(#p7a84643e50)\" d=\"M 233.423594 224.64 \nL 233.423594 7.2 \n\" style=\"fill:none;stroke:#ffffff;stroke-linecap:round;\"/>\n     </g>\n     <g id=\"text_4\">\n      <!-- 1.0 -->\n      <g style=\"fill:#262626;\" transform=\"translate(224.676875 242.498281)scale(0.11 -0.11)\">\n       <defs>\n        <path d=\"M 12.40625 8.296875 \nL 28.515625 8.296875 \nL 28.515625 63.921875 \nL 10.984375 60.40625 \nL 10.984375 69.390625 \nL 28.421875 72.90625 \nL 38.28125 72.90625 \nL 38.28125 8.296875 \nL 54.390625 8.296875 \nL 54.390625 0 \nL 12.40625 0 \nz\n\" id=\"DejaVuSans-49\"/>\n       </defs>\n       <use xlink:href=\"#DejaVuSans-49\"/>\n       <use x=\"63.623047\" xlink:href=\"#DejaVuSans-46\"/>\n       <use x=\"95.410156\" xlink:href=\"#DejaVuSans-48\"/>\n      </g>\n     </g>\n    </g>\n    <g id=\"xtick_5\">\n     <g id=\"line2d_5\">\n      <path clip-path=\"url(#p7a84643e50)\" d=\"M 284.150866 224.64 \nL 284.150866 7.2 \n\" style=\"fill:none;stroke:#ffffff;stroke-linecap:round;\"/>\n     </g>\n     <g id=\"text_5\">\n      <!-- 1.2 -->\n      <g style=\"fill:#262626;\" transform=\"translate(275.404148 242.498281)scale(0.11 -0.11)\">\n       <defs>\n        <path d=\"M 19.1875 8.296875 \nL 53.609375 8.296875 \nL 53.609375 0 \nL 7.328125 0 \nL 7.328125 8.296875 \nQ 12.9375 14.109375 22.625 23.890625 \nQ 32.328125 33.6875 34.8125 36.53125 \nQ 39.546875 41.84375 41.421875 45.53125 \nQ 43.3125 49.21875 43.3125 52.78125 \nQ 43.3125 58.59375 39.234375 62.25 \nQ 35.15625 65.921875 28.609375 65.921875 \nQ 23.96875 65.921875 18.8125 64.3125 \nQ 13.671875 62.703125 7.8125 59.421875 \nL 7.8125 69.390625 \nQ 13.765625 71.78125 18.9375 73 \nQ 24.125 74.21875 28.421875 74.21875 \nQ 39.75 74.21875 46.484375 68.546875 \nQ 53.21875 62.890625 53.21875 53.421875 \nQ 53.21875 48.921875 51.53125 44.890625 \nQ 49.859375 40.875 45.40625 35.40625 \nQ 44.1875 33.984375 37.640625 27.21875 \nQ 31.109375 20.453125 19.1875 8.296875 \nz\n\" id=\"DejaVuSans-50\"/>\n       </defs>\n       <use xlink:href=\"#DejaVuSans-49\"/>\n       <use x=\"63.623047\" xlink:href=\"#DejaVuSans-46\"/>\n       <use x=\"95.410156\" xlink:href=\"#DejaVuSans-50\"/>\n      </g>\n     </g>\n    </g>\n    <g id=\"xtick_6\">\n     <g id=\"line2d_6\">\n      <path clip-path=\"url(#p7a84643e50)\" d=\"M 334.878139 224.64 \nL 334.878139 7.2 \n\" style=\"fill:none;stroke:#ffffff;stroke-linecap:round;\"/>\n     </g>\n     <g id=\"text_6\">\n      <!-- 1.4 -->\n      <g style=\"fill:#262626;\" transform=\"translate(326.13142 242.498281)scale(0.11 -0.11)\">\n       <use xlink:href=\"#DejaVuSans-49\"/>\n       <use x=\"63.623047\" xlink:href=\"#DejaVuSans-46\"/>\n       <use x=\"95.410156\" xlink:href=\"#DejaVuSans-52\"/>\n      </g>\n     </g>\n    </g>\n    <g id=\"xtick_7\">\n     <g id=\"line2d_7\">\n      <path clip-path=\"url(#p7a84643e50)\" d=\"M 385.605412 224.64 \nL 385.605412 7.2 \n\" style=\"fill:none;stroke:#ffffff;stroke-linecap:round;\"/>\n     </g>\n     <g id=\"text_7\">\n      <!-- 1.6 -->\n      <g style=\"fill:#262626;\" transform=\"translate(376.858693 242.498281)scale(0.11 -0.11)\">\n       <use xlink:href=\"#DejaVuSans-49\"/>\n       <use x=\"63.623047\" xlink:href=\"#DejaVuSans-46\"/>\n       <use x=\"95.410156\" xlink:href=\"#DejaVuSans-54\"/>\n      </g>\n     </g>\n    </g>\n    <g id=\"text_8\">\n     <!-- Bond length (Å) -->\n     <g style=\"fill:#262626;\" transform=\"translate(186.299219 259.925312)scale(0.12 -0.12)\">\n      <defs>\n       <path d=\"M 19.671875 34.8125 \nL 19.671875 8.109375 \nL 35.5 8.109375 \nQ 43.453125 8.109375 47.28125 11.40625 \nQ 51.125 14.703125 51.125 21.484375 \nQ 51.125 28.328125 47.28125 31.5625 \nQ 43.453125 34.8125 35.5 34.8125 \nz\nM 19.671875 64.796875 \nL 19.671875 42.828125 \nL 34.28125 42.828125 \nQ 41.5 42.828125 45.03125 45.53125 \nQ 48.578125 48.25 48.578125 53.8125 \nQ 48.578125 59.328125 45.03125 62.0625 \nQ 41.5 64.796875 34.28125 64.796875 \nz\nM 9.8125 72.90625 \nL 35.015625 72.90625 \nQ 46.296875 72.90625 52.390625 68.21875 \nQ 58.5 63.53125 58.5 54.890625 \nQ 58.5 48.1875 55.375 44.234375 \nQ 52.25 40.28125 46.1875 39.3125 \nQ 53.46875 37.75 57.5 32.78125 \nQ 61.53125 27.828125 61.53125 20.40625 \nQ 61.53125 10.640625 54.890625 5.3125 \nQ 48.25 0 35.984375 0 \nL 9.8125 0 \nz\n\" id=\"DejaVuSans-66\"/>\n       <path d=\"M 30.609375 48.390625 \nQ 23.390625 48.390625 19.1875 42.75 \nQ 14.984375 37.109375 14.984375 27.296875 \nQ 14.984375 17.484375 19.15625 11.84375 \nQ 23.34375 6.203125 30.609375 6.203125 \nQ 37.796875 6.203125 41.984375 11.859375 \nQ 46.1875 17.53125 46.1875 27.296875 \nQ 46.1875 37.015625 41.984375 42.703125 \nQ 37.796875 48.390625 30.609375 48.390625 \nz\nM 30.609375 56 \nQ 42.328125 56 49.015625 48.375 \nQ 55.71875 40.765625 55.71875 27.296875 \nQ 55.71875 13.875 49.015625 6.21875 \nQ 42.328125 -1.421875 30.609375 -1.421875 \nQ 18.84375 -1.421875 12.171875 6.21875 \nQ 5.515625 13.875 5.515625 27.296875 \nQ 5.515625 40.765625 12.171875 48.375 \nQ 18.84375 56 30.609375 56 \nz\n\" id=\"DejaVuSans-111\"/>\n       <path d=\"M 54.890625 33.015625 \nL 54.890625 0 \nL 45.90625 0 \nL 45.90625 32.71875 \nQ 45.90625 40.484375 42.875 44.328125 \nQ 39.84375 48.1875 33.796875 48.1875 \nQ 26.515625 48.1875 22.3125 43.546875 \nQ 18.109375 38.921875 18.109375 30.90625 \nL 18.109375 0 \nL 9.078125 0 \nL 9.078125 54.6875 \nL 18.109375 54.6875 \nL 18.109375 46.1875 \nQ 21.34375 51.125 25.703125 53.5625 \nQ 30.078125 56 35.796875 56 \nQ 45.21875 56 50.046875 50.171875 \nQ 54.890625 44.34375 54.890625 33.015625 \nz\n\" id=\"DejaVuSans-110\"/>\n       <path d=\"M 45.40625 46.390625 \nL 45.40625 75.984375 \nL 54.390625 75.984375 \nL 54.390625 0 \nL 45.40625 0 \nL 45.40625 8.203125 \nQ 42.578125 3.328125 38.25 0.953125 \nQ 33.9375 -1.421875 27.875 -1.421875 \nQ 17.96875 -1.421875 11.734375 6.484375 \nQ 5.515625 14.40625 5.515625 27.296875 \nQ 5.515625 40.1875 11.734375 48.09375 \nQ 17.96875 56 27.875 56 \nQ 33.9375 56 38.25 53.625 \nQ 42.578125 51.265625 45.40625 46.390625 \nz\nM 14.796875 27.296875 \nQ 14.796875 17.390625 18.875 11.75 \nQ 22.953125 6.109375 30.078125 6.109375 \nQ 37.203125 6.109375 41.296875 11.75 \nQ 45.40625 17.390625 45.40625 27.296875 \nQ 45.40625 37.203125 41.296875 42.84375 \nQ 37.203125 48.484375 30.078125 48.484375 \nQ 22.953125 48.484375 18.875 42.84375 \nQ 14.796875 37.203125 14.796875 27.296875 \nz\n\" id=\"DejaVuSans-100\"/>\n       <path id=\"DejaVuSans-32\"/>\n       <path d=\"M 9.421875 75.984375 \nL 18.40625 75.984375 \nL 18.40625 0 \nL 9.421875 0 \nz\n\" id=\"DejaVuSans-108\"/>\n       <path d=\"M 56.203125 29.59375 \nL 56.203125 25.203125 \nL 14.890625 25.203125 \nQ 15.484375 15.921875 20.484375 11.0625 \nQ 25.484375 6.203125 34.421875 6.203125 \nQ 39.59375 6.203125 44.453125 7.46875 \nQ 49.3125 8.734375 54.109375 11.28125 \nL 54.109375 2.78125 \nQ 49.265625 0.734375 44.1875 -0.34375 \nQ 39.109375 -1.421875 33.890625 -1.421875 \nQ 20.796875 -1.421875 13.15625 6.1875 \nQ 5.515625 13.8125 5.515625 26.8125 \nQ 5.515625 40.234375 12.765625 48.109375 \nQ 20.015625 56 32.328125 56 \nQ 43.359375 56 49.78125 48.890625 \nQ 56.203125 41.796875 56.203125 29.59375 \nz\nM 47.21875 32.234375 \nQ 47.125 39.59375 43.09375 43.984375 \nQ 39.0625 48.390625 32.421875 48.390625 \nQ 24.90625 48.390625 20.390625 44.140625 \nQ 15.875 39.890625 15.1875 32.171875 \nz\n\" id=\"DejaVuSans-101\"/>\n       <path d=\"M 45.40625 27.984375 \nQ 45.40625 37.75 41.375 43.109375 \nQ 37.359375 48.484375 30.078125 48.484375 \nQ 22.859375 48.484375 18.828125 43.109375 \nQ 14.796875 37.75 14.796875 27.984375 \nQ 14.796875 18.265625 18.828125 12.890625 \nQ 22.859375 7.515625 30.078125 7.515625 \nQ 37.359375 7.515625 41.375 12.890625 \nQ 45.40625 18.265625 45.40625 27.984375 \nz\nM 54.390625 6.78125 \nQ 54.390625 -7.171875 48.1875 -13.984375 \nQ 42 -20.796875 29.203125 -20.796875 \nQ 24.46875 -20.796875 20.265625 -20.09375 \nQ 16.0625 -19.390625 12.109375 -17.921875 \nL 12.109375 -9.1875 \nQ 16.0625 -11.328125 19.921875 -12.34375 \nQ 23.78125 -13.375 27.78125 -13.375 \nQ 36.625 -13.375 41.015625 -8.765625 \nQ 45.40625 -4.15625 45.40625 5.171875 \nL 45.40625 9.625 \nQ 42.625 4.78125 38.28125 2.390625 \nQ 33.9375 0 27.875 0 \nQ 17.828125 0 11.671875 7.65625 \nQ 5.515625 15.328125 5.515625 27.984375 \nQ 5.515625 40.671875 11.671875 48.328125 \nQ 17.828125 56 27.875 56 \nQ 33.9375 56 38.28125 53.609375 \nQ 42.625 51.21875 45.40625 46.390625 \nL 45.40625 54.6875 \nL 54.390625 54.6875 \nz\n\" id=\"DejaVuSans-103\"/>\n       <path d=\"M 18.3125 70.21875 \nL 18.3125 54.6875 \nL 36.8125 54.6875 \nL 36.8125 47.703125 \nL 18.3125 47.703125 \nL 18.3125 18.015625 \nQ 18.3125 11.328125 20.140625 9.421875 \nQ 21.96875 7.515625 27.59375 7.515625 \nL 36.8125 7.515625 \nL 36.8125 0 \nL 27.59375 0 \nQ 17.1875 0 13.234375 3.875 \nQ 9.28125 7.765625 9.28125 18.015625 \nL 9.28125 47.703125 \nL 2.6875 47.703125 \nL 2.6875 54.6875 \nL 9.28125 54.6875 \nL 9.28125 70.21875 \nz\n\" id=\"DejaVuSans-116\"/>\n       <path d=\"M 54.890625 33.015625 \nL 54.890625 0 \nL 45.90625 0 \nL 45.90625 32.71875 \nQ 45.90625 40.484375 42.875 44.328125 \nQ 39.84375 48.1875 33.796875 48.1875 \nQ 26.515625 48.1875 22.3125 43.546875 \nQ 18.109375 38.921875 18.109375 30.90625 \nL 18.109375 0 \nL 9.078125 0 \nL 9.078125 75.984375 \nL 18.109375 75.984375 \nL 18.109375 46.1875 \nQ 21.34375 51.125 25.703125 53.5625 \nQ 30.078125 56 35.796875 56 \nQ 45.21875 56 50.046875 50.171875 \nQ 54.890625 44.34375 54.890625 33.015625 \nz\n\" id=\"DejaVuSans-104\"/>\n       <path d=\"M 31 75.875 \nQ 24.46875 64.65625 21.28125 53.65625 \nQ 18.109375 42.671875 18.109375 31.390625 \nQ 18.109375 20.125 21.3125 9.0625 \nQ 24.515625 -2 31 -13.1875 \nL 23.1875 -13.1875 \nQ 15.875 -1.703125 12.234375 9.375 \nQ 8.59375 20.453125 8.59375 31.390625 \nQ 8.59375 42.28125 12.203125 53.3125 \nQ 15.828125 64.359375 23.1875 75.875 \nz\n\" id=\"DejaVuSans-40\"/>\n       <path d=\"M 41.609375 79.390625 \nQ 41.609375 82.46875 39.421875 84.640625 \nQ 37.25 86.8125 34.1875 86.8125 \nQ 31.0625 86.8125 28.9375 84.6875 \nQ 26.8125 82.5625 26.8125 79.390625 \nQ 26.8125 76.3125 28.953125 74.15625 \nQ 31.109375 72.015625 34.1875 72.015625 \nQ 37.25 72.015625 39.421875 74.15625 \nQ 41.609375 76.3125 41.609375 79.390625 \nz\nM 34.1875 63.1875 \nL 20.90625 26.90625 \nL 47.515625 26.90625 \nz\nM 26.8125 68.21875 \nQ 23.828125 70.21875 22.3125 73.015625 \nQ 20.796875 75.828125 20.796875 79.390625 \nQ 20.796875 85.015625 24.671875 88.921875 \nQ 28.5625 92.828125 34.1875 92.828125 \nQ 39.75 92.828125 43.671875 88.890625 \nQ 47.609375 84.96875 47.609375 79.390625 \nQ 47.609375 75.984375 46.0625 73.09375 \nQ 44.53125 70.21875 41.609375 68.21875 \nL 67.578125 0 \nL 57.328125 0 \nL 50.6875 18.703125 \nL 17.828125 18.703125 \nL 11.1875 0 \nL 0.78125 0 \nz\n\" id=\"DejaVuSans-197\"/>\n       <path d=\"M 8.015625 75.875 \nL 15.828125 75.875 \nQ 23.140625 64.359375 26.78125 53.3125 \nQ 30.421875 42.28125 30.421875 31.390625 \nQ 30.421875 20.453125 26.78125 9.375 \nQ 23.140625 -1.703125 15.828125 -13.1875 \nL 8.015625 -13.1875 \nQ 14.5 -2 17.703125 9.0625 \nQ 20.90625 20.125 20.90625 31.390625 \nQ 20.90625 42.671875 17.703125 53.65625 \nQ 14.5 64.65625 8.015625 75.875 \nz\n\" id=\"DejaVuSans-41\"/>\n      </defs>\n      <use xlink:href=\"#DejaVuSans-66\"/>\n      <use x=\"68.603516\" xlink:href=\"#DejaVuSans-111\"/>\n      <use x=\"129.785156\" xlink:href=\"#DejaVuSans-110\"/>\n      <use x=\"193.164062\" xlink:href=\"#DejaVuSans-100\"/>\n      <use x=\"256.640625\" xlink:href=\"#DejaVuSans-32\"/>\n      <use x=\"288.427734\" xlink:href=\"#DejaVuSans-108\"/>\n      <use x=\"316.210938\" xlink:href=\"#DejaVuSans-101\"/>\n      <use x=\"377.734375\" xlink:href=\"#DejaVuSans-110\"/>\n      <use x=\"441.113281\" xlink:href=\"#DejaVuSans-103\"/>\n      <use x=\"504.589844\" xlink:href=\"#DejaVuSans-116\"/>\n      <use x=\"543.798828\" xlink:href=\"#DejaVuSans-104\"/>\n      <use x=\"607.177734\" xlink:href=\"#DejaVuSans-32\"/>\n      <use x=\"638.964844\" xlink:href=\"#DejaVuSans-40\"/>\n      <use x=\"677.978516\" xlink:href=\"#DejaVuSans-197\"/>\n      <use x=\"746.386719\" xlink:href=\"#DejaVuSans-41\"/>\n     </g>\n    </g>\n   </g>\n   <g id=\"matplotlib.axis_2\">\n    <g id=\"ytick_1\">\n     <g id=\"line2d_8\">\n      <path clip-path=\"url(#p7a84643e50)\" d=\"M 66.023594 182.538612 \nL 400.823594 182.538612 \n\" style=\"fill:none;stroke:#ffffff;stroke-linecap:round;\"/>\n     </g>\n     <g id=\"text_9\">\n      <!-- −1.10 -->\n      <g style=\"fill:#262626;\" transform=\"translate(22.81375 186.717752)scale(0.11 -0.11)\">\n       <defs>\n        <path d=\"M 10.59375 35.5 \nL 73.1875 35.5 \nL 73.1875 27.203125 \nL 10.59375 27.203125 \nz\n\" id=\"DejaVuSans-8722\"/>\n       </defs>\n       <use xlink:href=\"#DejaVuSans-8722\"/>\n       <use x=\"83.789062\" xlink:href=\"#DejaVuSans-49\"/>\n       <use x=\"147.412109\" xlink:href=\"#DejaVuSans-46\"/>\n       <use x=\"179.199219\" xlink:href=\"#DejaVuSans-49\"/>\n       <use x=\"242.822266\" xlink:href=\"#DejaVuSans-48\"/>\n      </g>\n     </g>\n    </g>\n    <g id=\"ytick_2\">\n     <g id=\"line2d_9\">\n      <path clip-path=\"url(#p7a84643e50)\" d=\"M 66.023594 138.025515 \nL 400.823594 138.025515 \n\" style=\"fill:none;stroke:#ffffff;stroke-linecap:round;\"/>\n     </g>\n     <g id=\"text_10\">\n      <!-- −1.05 -->\n      <g style=\"fill:#262626;\" transform=\"translate(22.81375 142.204655)scale(0.11 -0.11)\">\n       <defs>\n        <path d=\"M 10.796875 72.90625 \nL 49.515625 72.90625 \nL 49.515625 64.59375 \nL 19.828125 64.59375 \nL 19.828125 46.734375 \nQ 21.96875 47.46875 24.109375 47.828125 \nQ 26.265625 48.1875 28.421875 48.1875 \nQ 40.625 48.1875 47.75 41.5 \nQ 54.890625 34.8125 54.890625 23.390625 \nQ 54.890625 11.625 47.5625 5.09375 \nQ 40.234375 -1.421875 26.90625 -1.421875 \nQ 22.3125 -1.421875 17.546875 -0.640625 \nQ 12.796875 0.140625 7.71875 1.703125 \nL 7.71875 11.625 \nQ 12.109375 9.234375 16.796875 8.0625 \nQ 21.484375 6.890625 26.703125 6.890625 \nQ 35.15625 6.890625 40.078125 11.328125 \nQ 45.015625 15.765625 45.015625 23.390625 \nQ 45.015625 31 40.078125 35.4375 \nQ 35.15625 39.890625 26.703125 39.890625 \nQ 22.75 39.890625 18.8125 39.015625 \nQ 14.890625 38.140625 10.796875 36.28125 \nz\n\" id=\"DejaVuSans-53\"/>\n       </defs>\n       <use xlink:href=\"#DejaVuSans-8722\"/>\n       <use x=\"83.789062\" xlink:href=\"#DejaVuSans-49\"/>\n       <use x=\"147.412109\" xlink:href=\"#DejaVuSans-46\"/>\n       <use x=\"179.199219\" xlink:href=\"#DejaVuSans-48\"/>\n       <use x=\"242.822266\" xlink:href=\"#DejaVuSans-53\"/>\n      </g>\n     </g>\n    </g>\n    <g id=\"ytick_3\">\n     <g id=\"line2d_10\">\n      <path clip-path=\"url(#p7a84643e50)\" d=\"M 66.023594 93.512418 \nL 400.823594 93.512418 \n\" style=\"fill:none;stroke:#ffffff;stroke-linecap:round;\"/>\n     </g>\n     <g id=\"text_11\">\n      <!-- −1.00 -->\n      <g style=\"fill:#262626;\" transform=\"translate(22.81375 97.691558)scale(0.11 -0.11)\">\n       <use xlink:href=\"#DejaVuSans-8722\"/>\n       <use x=\"83.789062\" xlink:href=\"#DejaVuSans-49\"/>\n       <use x=\"147.412109\" xlink:href=\"#DejaVuSans-46\"/>\n       <use x=\"179.199219\" xlink:href=\"#DejaVuSans-48\"/>\n       <use x=\"242.822266\" xlink:href=\"#DejaVuSans-48\"/>\n      </g>\n     </g>\n    </g>\n    <g id=\"ytick_4\">\n     <g id=\"line2d_11\">\n      <path clip-path=\"url(#p7a84643e50)\" d=\"M 66.023594 48.999321 \nL 400.823594 48.999321 \n\" style=\"fill:none;stroke:#ffffff;stroke-linecap:round;\"/>\n     </g>\n     <g id=\"text_12\">\n      <!-- −0.95 -->\n      <g style=\"fill:#262626;\" transform=\"translate(22.81375 53.178461)scale(0.11 -0.11)\">\n       <defs>\n        <path d=\"M 10.984375 1.515625 \nL 10.984375 10.5 \nQ 14.703125 8.734375 18.5 7.8125 \nQ 22.3125 6.890625 25.984375 6.890625 \nQ 35.75 6.890625 40.890625 13.453125 \nQ 46.046875 20.015625 46.78125 33.40625 \nQ 43.953125 29.203125 39.59375 26.953125 \nQ 35.25 24.703125 29.984375 24.703125 \nQ 19.046875 24.703125 12.671875 31.3125 \nQ 6.296875 37.9375 6.296875 49.421875 \nQ 6.296875 60.640625 12.9375 67.421875 \nQ 19.578125 74.21875 30.609375 74.21875 \nQ 43.265625 74.21875 49.921875 64.515625 \nQ 56.59375 54.828125 56.59375 36.375 \nQ 56.59375 19.140625 48.40625 8.859375 \nQ 40.234375 -1.421875 26.421875 -1.421875 \nQ 22.703125 -1.421875 18.890625 -0.6875 \nQ 15.09375 0.046875 10.984375 1.515625 \nz\nM 30.609375 32.421875 \nQ 37.25 32.421875 41.125 36.953125 \nQ 45.015625 41.5 45.015625 49.421875 \nQ 45.015625 57.28125 41.125 61.84375 \nQ 37.25 66.40625 30.609375 66.40625 \nQ 23.96875 66.40625 20.09375 61.84375 \nQ 16.21875 57.28125 16.21875 49.421875 \nQ 16.21875 41.5 20.09375 36.953125 \nQ 23.96875 32.421875 30.609375 32.421875 \nz\n\" id=\"DejaVuSans-57\"/>\n       </defs>\n       <use xlink:href=\"#DejaVuSans-8722\"/>\n       <use x=\"83.789062\" xlink:href=\"#DejaVuSans-48\"/>\n       <use x=\"147.412109\" xlink:href=\"#DejaVuSans-46\"/>\n       <use x=\"179.199219\" xlink:href=\"#DejaVuSans-57\"/>\n       <use x=\"242.822266\" xlink:href=\"#DejaVuSans-53\"/>\n      </g>\n     </g>\n    </g>\n    <g id=\"text_13\">\n     <!-- Energy (Ha) -->\n     <g style=\"fill:#262626;\" transform=\"translate(16.318125 151.705312)rotate(-90)scale(0.12 -0.12)\">\n      <defs>\n       <path d=\"M 9.8125 72.90625 \nL 55.90625 72.90625 \nL 55.90625 64.59375 \nL 19.671875 64.59375 \nL 19.671875 43.015625 \nL 54.390625 43.015625 \nL 54.390625 34.71875 \nL 19.671875 34.71875 \nL 19.671875 8.296875 \nL 56.78125 8.296875 \nL 56.78125 0 \nL 9.8125 0 \nz\n\" id=\"DejaVuSans-69\"/>\n       <path d=\"M 41.109375 46.296875 \nQ 39.59375 47.171875 37.8125 47.578125 \nQ 36.03125 48 33.890625 48 \nQ 26.265625 48 22.1875 43.046875 \nQ 18.109375 38.09375 18.109375 28.8125 \nL 18.109375 0 \nL 9.078125 0 \nL 9.078125 54.6875 \nL 18.109375 54.6875 \nL 18.109375 46.1875 \nQ 20.953125 51.171875 25.484375 53.578125 \nQ 30.03125 56 36.53125 56 \nQ 37.453125 56 38.578125 55.875 \nQ 39.703125 55.765625 41.0625 55.515625 \nz\n\" id=\"DejaVuSans-114\"/>\n       <path d=\"M 32.171875 -5.078125 \nQ 28.375 -14.84375 24.75 -17.8125 \nQ 21.140625 -20.796875 15.09375 -20.796875 \nL 7.90625 -20.796875 \nL 7.90625 -13.28125 \nL 13.1875 -13.28125 \nQ 16.890625 -13.28125 18.9375 -11.515625 \nQ 21 -9.765625 23.484375 -3.21875 \nL 25.09375 0.875 \nL 2.984375 54.6875 \nL 12.5 54.6875 \nL 29.59375 11.921875 \nL 46.6875 54.6875 \nL 56.203125 54.6875 \nz\n\" id=\"DejaVuSans-121\"/>\n       <path d=\"M 9.8125 72.90625 \nL 19.671875 72.90625 \nL 19.671875 43.015625 \nL 55.515625 43.015625 \nL 55.515625 72.90625 \nL 65.375 72.90625 \nL 65.375 0 \nL 55.515625 0 \nL 55.515625 34.71875 \nL 19.671875 34.71875 \nL 19.671875 0 \nL 9.8125 0 \nz\n\" id=\"DejaVuSans-72\"/>\n       <path d=\"M 34.28125 27.484375 \nQ 23.390625 27.484375 19.1875 25 \nQ 14.984375 22.515625 14.984375 16.5 \nQ 14.984375 11.71875 18.140625 8.90625 \nQ 21.296875 6.109375 26.703125 6.109375 \nQ 34.1875 6.109375 38.703125 11.40625 \nQ 43.21875 16.703125 43.21875 25.484375 \nL 43.21875 27.484375 \nz\nM 52.203125 31.203125 \nL 52.203125 0 \nL 43.21875 0 \nL 43.21875 8.296875 \nQ 40.140625 3.328125 35.546875 0.953125 \nQ 30.953125 -1.421875 24.3125 -1.421875 \nQ 15.921875 -1.421875 10.953125 3.296875 \nQ 6 8.015625 6 15.921875 \nQ 6 25.140625 12.171875 29.828125 \nQ 18.359375 34.515625 30.609375 34.515625 \nL 43.21875 34.515625 \nL 43.21875 35.40625 \nQ 43.21875 41.609375 39.140625 45 \nQ 35.0625 48.390625 27.6875 48.390625 \nQ 23 48.390625 18.546875 47.265625 \nQ 14.109375 46.140625 10.015625 43.890625 \nL 10.015625 52.203125 \nQ 14.9375 54.109375 19.578125 55.046875 \nQ 24.21875 56 28.609375 56 \nQ 40.484375 56 46.34375 49.84375 \nQ 52.203125 43.703125 52.203125 31.203125 \nz\n\" id=\"DejaVuSans-97\"/>\n      </defs>\n      <use xlink:href=\"#DejaVuSans-69\"/>\n      <use x=\"63.183594\" xlink:href=\"#DejaVuSans-110\"/>\n      <use x=\"126.5625\" xlink:href=\"#DejaVuSans-101\"/>\n      <use x=\"188.085938\" xlink:href=\"#DejaVuSans-114\"/>\n      <use x=\"227.449219\" xlink:href=\"#DejaVuSans-103\"/>\n      <use x=\"290.925781\" xlink:href=\"#DejaVuSans-121\"/>\n      <use x=\"350.105469\" xlink:href=\"#DejaVuSans-32\"/>\n      <use x=\"381.892578\" xlink:href=\"#DejaVuSans-40\"/>\n      <use x=\"420.90625\" xlink:href=\"#DejaVuSans-72\"/>\n      <use x=\"496.101562\" xlink:href=\"#DejaVuSans-97\"/>\n      <use x=\"557.380859\" xlink:href=\"#DejaVuSans-41\"/>\n     </g>\n    </g>\n   </g>\n   <g id=\"line2d_12\">\n    <path clip-path=\"url(#p7a84643e50)\" d=\"M 81.241776 17.083636 \nL 106.605412 142.618441 \nL 131.969048 197.037254 \nL 157.332685 214.756364 \nL 182.696321 212.939102 \nL 208.059957 200.84296 \nL 233.423594 183.562947 \nL 258.78723 164.013907 \nL 284.150866 144.026568 \nL 309.514503 124.836324 \nL 334.878139 107.283608 \nL 360.241776 91.865377 \nL 385.605412 78.798441 \n\" style=\"fill:none;stroke:#4c72b0;stroke-linecap:round;stroke-width:1.5;\"/>\n    <defs>\n     <path d=\"M 0 3 \nC 0.795609 3 1.55874 2.683901 2.12132 2.12132 \nC 2.683901 1.55874 3 0.795609 3 0 \nC 3 -0.795609 2.683901 -1.55874 2.12132 -2.12132 \nC 1.55874 -2.683901 0.795609 -3 0 -3 \nC -0.795609 -3 -1.55874 -2.683901 -2.12132 -2.12132 \nC -2.683901 -1.55874 -3 -0.795609 -3 0 \nC -3 0.795609 -2.683901 1.55874 -2.12132 2.12132 \nC -1.55874 2.683901 -0.795609 3 0 3 \nz\n\" id=\"m5c9f48a96d\" style=\"stroke:#4c72b0;\"/>\n    </defs>\n    <g clip-path=\"url(#p7a84643e50)\">\n     <use style=\"fill:#4c72b0;stroke:#4c72b0;\" x=\"81.241776\" xlink:href=\"#m5c9f48a96d\" y=\"17.083636\"/>\n     <use style=\"fill:#4c72b0;stroke:#4c72b0;\" x=\"106.605412\" xlink:href=\"#m5c9f48a96d\" y=\"142.618441\"/>\n     <use style=\"fill:#4c72b0;stroke:#4c72b0;\" x=\"131.969048\" xlink:href=\"#m5c9f48a96d\" y=\"197.037254\"/>\n     <use style=\"fill:#4c72b0;stroke:#4c72b0;\" x=\"157.332685\" xlink:href=\"#m5c9f48a96d\" y=\"214.756364\"/>\n     <use style=\"fill:#4c72b0;stroke:#4c72b0;\" x=\"182.696321\" xlink:href=\"#m5c9f48a96d\" y=\"212.939102\"/>\n     <use style=\"fill:#4c72b0;stroke:#4c72b0;\" x=\"208.059957\" xlink:href=\"#m5c9f48a96d\" y=\"200.84296\"/>\n     <use style=\"fill:#4c72b0;stroke:#4c72b0;\" x=\"233.423594\" xlink:href=\"#m5c9f48a96d\" y=\"183.562947\"/>\n     <use style=\"fill:#4c72b0;stroke:#4c72b0;\" x=\"258.78723\" xlink:href=\"#m5c9f48a96d\" y=\"164.013907\"/>\n     <use style=\"fill:#4c72b0;stroke:#4c72b0;\" x=\"284.150866\" xlink:href=\"#m5c9f48a96d\" y=\"144.026568\"/>\n     <use style=\"fill:#4c72b0;stroke:#4c72b0;\" x=\"309.514503\" xlink:href=\"#m5c9f48a96d\" y=\"124.836324\"/>\n     <use style=\"fill:#4c72b0;stroke:#4c72b0;\" x=\"334.878139\" xlink:href=\"#m5c9f48a96d\" y=\"107.283608\"/>\n     <use style=\"fill:#4c72b0;stroke:#4c72b0;\" x=\"360.241776\" xlink:href=\"#m5c9f48a96d\" y=\"91.865377\"/>\n     <use style=\"fill:#4c72b0;stroke:#4c72b0;\" x=\"385.605412\" xlink:href=\"#m5c9f48a96d\" y=\"78.798441\"/>\n    </g>\n   </g>\n   <g id=\"patch_3\">\n    <path d=\"M 66.023594 224.64 \nL 66.023594 7.2 \n\" style=\"fill:none;stroke:#ffffff;stroke-linecap:square;stroke-linejoin:miter;stroke-width:1.25;\"/>\n   </g>\n   <g id=\"patch_4\">\n    <path d=\"M 400.823594 224.64 \nL 400.823594 7.2 \n\" style=\"fill:none;stroke:#ffffff;stroke-linecap:square;stroke-linejoin:miter;stroke-width:1.25;\"/>\n   </g>\n   <g id=\"patch_5\">\n    <path d=\"M 66.023594 224.64 \nL 400.823594 224.64 \n\" style=\"fill:none;stroke:#ffffff;stroke-linecap:square;stroke-linejoin:miter;stroke-width:1.25;\"/>\n   </g>\n   <g id=\"patch_6\">\n    <path d=\"M 66.023594 7.2 \nL 400.823594 7.2 \n\" style=\"fill:none;stroke:#ffffff;stroke-linecap:square;stroke-linejoin:miter;stroke-width:1.25;\"/>\n   </g>\n  </g>\n </g>\n <defs>\n  <clipPath id=\"p7a84643e50\">\n   <rect height=\"217.44\" width=\"334.8\" x=\"66.023594\" y=\"7.2\"/>\n  </clipPath>\n </defs>\n</svg>\n",
      "image/png": "[encoded data removed]"
     },
     "metadata": {}
    }
   ],
   "source": [
    "import matplotlib as mpl\n",
    "import seaborn as sns\n",
    "import pylab as pl\n",
    "%matplotlib inline\n",
    "sns.set_theme(style=\"darkgrid\")\n",
    "\n",
    "pl.plot(bond_lengths, energy, \"o-\")\n",
    "pl.xlabel(\"Bond length (Å)\")\n",
    "pl.ylabel(\"Energy (Ha)\")"
   ]
  },
  {
   "cell_type": "code",
   "execution_count": null,
   "metadata": {},
   "outputs": [],
   "source": []
  }
 ]
}